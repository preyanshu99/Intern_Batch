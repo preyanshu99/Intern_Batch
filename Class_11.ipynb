{
 "cells": [
  {
   "cell_type": "markdown",
   "metadata": {},
   "source": [
    "# OOPs"
   ]
  },
  {
   "cell_type": "markdown",
   "metadata": {},
   "source": [
    "Object-oriented programming (OOP) is a programming language model organized around objects rather than \"actions\" and data rather than logic. Historically, a program has been viewed as a logical procedure that takes input data, processes it, and produces output data."
   ]
  },
  {
   "cell_type": "markdown",
   "metadata": {},
   "source": [
    "## OOP Terminology"
   ]
  },
  {
   "cell_type": "markdown",
   "metadata": {},
   "source": [
    "1. Class − A user-defined prototype for an object that defines a set of attributes that characterize any object of the class. The attributes are data members (class variables and instance variables) and methods, accessed via dot notation.\n",
    "\n",
    "2. Class variable − A variable that is shared by all instances of a class. Class variables are defined within a class but outside any of the class's methods. Class variables are not used as frequently as instance variables are.\n",
    "\n",
    "3. Data member − A class variable or instance variable that holds data associated with a class and its objects.\n",
    "\n",
    "4. Instance variable − A variable that is defined inside a method and belongs only to the current instance of a class.\n",
    "\n",
    "5. Encapsulation - It describes the idea of binding data and methods that work on that data within one unit. \n",
    "\n",
    "6. Abstraction - This concept is often used to hide the internal representation, or state, of an object from the outside.\n",
    "\n",
    "7. Inheritance − The transfer of the characteristics of a class to other classes that are derived from it.\n",
    "\n",
    "8. Instance − An individual object of a certain class. An object obj that belongs to a class Circle, for example, is an instance    of the class Circle.\n",
    "\n",
    "9. Instantiation − The creation of an instance of a class.\n",
    "\n",
    "10. Method − A special kind of function that is defined in a class definition.\n",
    "\n",
    "11. Object − A unique instance of a data structure that's defined by its class. An object comprises both data members (class variables and instance variables) and methods.\n",
    "\n",
    "12. Function overloading − The assignment of more than one behavior to a particular function. The operation performed varies by the types of objects or arguments involved.\n",
    "\n",
    "13. Operator overloading − The assignment of more than one function to a particular operator."
   ]
  },
  {
   "cell_type": "markdown",
   "metadata": {},
   "source": [
    "## Creating Classes\n",
    "\n",
    "    class ClassName:\n",
    "       'Optional class documentation string'\n",
    "        'body of class'\n",
    "        \n",
    "        \n",
    "    #The class has a documentation string, which can be accessed via ClassName.__doc__."
   ]
  },
  {
   "cell_type": "code",
   "execution_count": 21,
   "metadata": {
    "collapsed": true
   },
   "outputs": [],
   "source": [
    "#SELF\n",
    "#1. Class methods must have an extra first parameter in method definition. \n",
    "    #We do not give a value for this parameter when we call the method, Python provides it\n",
    "#2. If we have a method which takes no arguments, then we still have to have one argument – the self."
   ]
  },
  {
   "cell_type": "code",
   "execution_count": 2,
   "metadata": {},
   "outputs": [
    {
     "name": "stdout",
     "output_type": "stream",
     "text": [
      "<class '__main__.A'>\n"
     ]
    }
   ],
   "source": [
    "class A:     #defining a class\n",
    "    pass\n",
    "\n",
    "k = A()    #creating an object\n",
    "print(type(k))   #returns the type of k"
   ]
  },
  {
   "cell_type": "code",
   "execution_count": 3,
   "metadata": {},
   "outputs": [
    {
     "name": "stdout",
     "output_type": "stream",
     "text": [
      "Hi I am a Robot\n"
     ]
    }
   ],
   "source": [
    "class Robot:\n",
    "    def show(self):    #defining a method \n",
    "        print(\"Hi I am a Robot\")\n",
    "        \n",
    "k = Robot()\n",
    "k.show()   #accessing method of class 'robot' through an object 'k'"
   ]
  },
  {
   "cell_type": "code",
   "execution_count": 15,
   "metadata": {},
   "outputs": [
    {
     "name": "stdout",
     "output_type": "stream",
     "text": [
      "Hi I am a Robot  <bound method Robot.name of <__main__.Robot object at 0x0464CA90>>\n"
     ]
    }
   ],
   "source": [
    "class Robot:\n",
    "    def show(self):\n",
    "        print(\"Hi I am a Robot \",self.name)\n",
    "    def name(self,name):\n",
    "        self.name = name\n",
    "        \n",
    "r1 = Robot()    #creating two instances/object of class 'Robot' \n",
    "r2 = Robot()\n",
    "\n",
    "\n",
    "r1.show()   #we need to call name method first to define self.name to pass and call show method."
   ]
  },
  {
   "cell_type": "code",
   "execution_count": 16,
   "metadata": {},
   "outputs": [],
   "source": [
    "r1.name('Rajat')\n",
    "r2.name('Sachin')"
   ]
  },
  {
   "cell_type": "code",
   "execution_count": 17,
   "metadata": {},
   "outputs": [
    {
     "name": "stdout",
     "output_type": "stream",
     "text": [
      "Hi I am a Robot  Rajat\n",
      "Hi I am a Robot  Sachin\n"
     ]
    }
   ],
   "source": [
    "r1.show()\n",
    "r2.show()"
   ]
  },
  {
   "cell_type": "markdown",
   "metadata": {},
   "source": [
    "## Constructor"
   ]
  },
  {
   "cell_type": "markdown",
   "metadata": {},
   "source": [
    "1.  It is the first code which is executed, when a new instance of a class is created. The name sounds also like a constructor       \"__init__\". \n",
    "2.  The __init__ method is used - like constructors in other object oriented programming languages - to initialize the instance     variables of an object. The definition of an init method looks like any other method definition"
   ]
  },
  {
   "cell_type": "code",
   "execution_count": 18,
   "metadata": {
    "collapsed": true
   },
   "outputs": [],
   "source": [
    "#def __init__(self, holder, number): \n",
    "        #self.Holder = holder \n",
    "        #self.Number = number "
   ]
  },
  {
   "cell_type": "code",
   "execution_count": 29,
   "metadata": {},
   "outputs": [
    {
     "name": "stdout",
     "output_type": "stream",
     "text": [
      "Hello Sachin\n"
     ]
    }
   ],
   "source": [
    "class Greeting:\n",
    "    def __init__(self, name):\n",
    "        self.name = name     #assigning values of parameters to the instances of class \n",
    "    def SayHello(self):\n",
    "        print(\"Hello\", self.name)\n",
    "        \n",
    "x1 = Greeting(\"Sachin\")\n",
    "x1.SayHello()"
   ]
  },
  {
   "cell_type": "markdown",
   "metadata": {},
   "source": [
    "## Destructor"
   ]
  },
  {
   "cell_type": "code",
   "execution_count": 22,
   "metadata": {
    "collapsed": true
   },
   "outputs": [],
   "source": [
    "#1. It is called when the instance is about to be destroyed. __del__() method is used to destroy. \n",
    "#2. If a base class has a __del__() method, the derived class's __del__() method, if any, must explicitly call it to ensure          \n",
    "    #proper deletion of the base class part of the instance. "
   ]
  },
  {
   "cell_type": "code",
   "execution_count": 25,
   "metadata": {
    "collapsed": true
   },
   "outputs": [],
   "source": [
    "class Robot:\n",
    "    \"\"\"Hi I am Robot Class\"\"\" # Doc-String\n",
    "    def __init__(self,name,course,):     #Constructor\n",
    "        self.name = name        \n",
    "        self.subject = course\n",
    "    def show(self):\n",
    "        \"\"\"show()->Hi I used to print Detail of Robot Class's object.\"\"\"\n",
    "        print(\"Hi I am \",self.name)\n",
    "        print(\"I teach here subject \",self.subject)\n",
    "    def __del__(self):   #Destructor\n",
    "        print(\"Deleting Name \",self.name)\n",
    "        del self.name\n",
    "        print(\"Deleting Course \",self.subject)\n",
    "        del self.subject\n",
    "        print(\"Deleting Object \")\n",
    "        del self\n",
    "    def __str__(self):             #this method is used to define object like the way this method returns\n",
    "        return \"My Name is {}.\".format(self.name)"
   ]
  },
  {
   "cell_type": "code",
   "execution_count": 24,
   "metadata": {},
   "outputs": [
    {
     "name": "stdout",
     "output_type": "stream",
     "text": [
      "Hi I am Robot Class\n",
      "['__class__', '__del__', '__delattr__', '__dict__', '__dir__', '__doc__', '__eq__', '__format__', '__ge__', '__getattribute__', '__gt__', '__hash__', '__init__', '__init_subclass__', '__le__', '__lt__', '__module__', '__ne__', '__new__', '__reduce__', '__reduce_ex__', '__repr__', '__setattr__', '__sizeof__', '__str__', '__subclasshook__', '__weakref__', 'name', 'show', 'subject']\n",
      "show()->Hi I used to print Detail of Robot Class's object.\n"
     ]
    }
   ],
   "source": [
    "ob1 = Robot('Rajat Goyal','Devops')\n",
    "ob2 = Robot('Sachin Yadav','Python')\n",
    "\n",
    "\n",
    "print(ob1.__doc__)   #returns the docstring of class that we have defined\n",
    "print(dir(ob1))     #returns the directory\n",
    "print(ob1.show.__doc__)     #returns the docstring of show method"
   ]
  },
  {
   "cell_type": "code",
   "execution_count": 27,
   "metadata": {},
   "outputs": [
    {
     "name": "stdout",
     "output_type": "stream",
     "text": [
      "My Name is Rajat Goyal.\n",
      "My Name is Sachin Yadav.\n"
     ]
    }
   ],
   "source": [
    "print(ob1)    #here __str__()  method is called\n",
    "print(ob2)"
   ]
  },
  {
   "cell_type": "code",
   "execution_count": 28,
   "metadata": {},
   "outputs": [
    {
     "name": "stdout",
     "output_type": "stream",
     "text": [
      "Hi I am  Rajat Goyal\n",
      "I teach here subject  Devops\n",
      "Hi I am  Sachin Yadav\n",
      "I teach here subject  Python\n"
     ]
    }
   ],
   "source": [
    "ob1.show()\n",
    "ob2.show()"
   ]
  },
  {
   "cell_type": "code",
   "execution_count": 31,
   "metadata": {},
   "outputs": [
    {
     "name": "stdout",
     "output_type": "stream",
     "text": [
      "Deleting Name  Sachin Yadav\n",
      "Deleting Course  Python\n",
      "Deleting Object \n"
     ]
    }
   ],
   "source": [
    "del ob2    #here __del__() method is called"
   ]
  },
  {
   "cell_type": "code",
   "execution_count": 33,
   "metadata": {
    "collapsed": true
   },
   "outputs": [],
   "source": [
    "class Employee:\n",
    "    empCount = 0\n",
    "\n",
    "    def __init__(self, name, salary):\n",
    "        self.name = name\n",
    "        self.salary = salary\n",
    "        Employee.empCount += 1\n",
    "   \n",
    "    def displayCount(self):\n",
    "        print (\"Total Employee : \" ,Employee.empCount)\n",
    "\n",
    "    def displayEmployee(self):\n",
    "        print (\"Name : \", self.name,  \", Salary: \", self.salary)"
   ]
  },
  {
   "cell_type": "code",
   "execution_count": 34,
   "metadata": {},
   "outputs": [
    {
     "name": "stdout",
     "output_type": "stream",
     "text": [
      "Name :  Zara , Salary:  2000\n",
      "Name :  Ali , Salary:  5000\n"
     ]
    }
   ],
   "source": [
    "emp1 = Employee(\"Zara\", 2000)\n",
    "emp2 = Employee(\"Ali\", 5000)\n",
    "\n",
    "emp1.displayEmployee()\n",
    "emp2.displayEmployee()"
   ]
  },
  {
   "cell_type": "code",
   "execution_count": 35,
   "metadata": {
    "collapsed": true
   },
   "outputs": [],
   "source": [
    "class CSStudent: \n",
    "  \n",
    "    # Class Variable \n",
    "    stream = 'cse'             \n",
    "  \n",
    "    # The init method or constructor \n",
    "    def __init__(self, roll): \n",
    "    \n",
    "        # Instance Variable     \n",
    "        self.roll = roll           "
   ]
  },
  {
   "cell_type": "code",
   "execution_count": 36,
   "metadata": {},
   "outputs": [
    {
     "name": "stdout",
     "output_type": "stream",
     "text": [
      "cse\n",
      "cse\n",
      "101\n",
      "cse\n"
     ]
    }
   ],
   "source": [
    "a = CSStudent(101) \n",
    "b = CSStudent(102) \n",
    "   \n",
    "print(a.stream)  # prints \"cse\"   as the class variable is accessible among all its methods and attributes  \n",
    "print(b.stream)  # prints \"cse\" \n",
    "print(a.roll)    # prints 101 \n",
    "   \n",
    "# Class variables can be accessed using class \n",
    "# name also \n",
    "print(CSStudent.stream) # prints \"cse\"  "
   ]
  },
  {
   "cell_type": "code",
   "execution_count": 37,
   "metadata": {
    "collapsed": true
   },
   "outputs": [],
   "source": [
    "class CSStudent: \n",
    "      \n",
    "    # Class Variable \n",
    "    stream = 'cse'      \n",
    "      \n",
    "    # The init method or constructor \n",
    "    def __init__(self, roll): \n",
    "          \n",
    "        # Instance Variable \n",
    "        self.roll = roll             \n",
    "  \n",
    "    # Adds an instance variable  \n",
    "    def setAddress(self, address): \n",
    "        self.address = address \n",
    "      \n",
    "    # Retrieves instance variable     \n",
    "    def getAddress(self):     \n",
    "        return self.address    \n",
    "  "
   ]
  },
  {
   "cell_type": "code",
   "execution_count": 38,
   "metadata": {},
   "outputs": [
    {
     "name": "stdout",
     "output_type": "stream",
     "text": [
      "Noida, UP\n"
     ]
    }
   ],
   "source": [
    "a = CSStudent(101) \n",
    "a.setAddress(\"Noida, UP\") \n",
    "print(a.getAddress())  "
   ]
  },
  {
   "cell_type": "code",
   "execution_count": null,
   "metadata": {
    "collapsed": true
   },
   "outputs": [],
   "source": []
  }
 ],
 "metadata": {
  "kernelspec": {
   "display_name": "Python 3",
   "language": "python",
   "name": "python3"
  },
  "language_info": {
   "codemirror_mode": {
    "name": "ipython",
    "version": 3
   },
   "file_extension": ".py",
   "mimetype": "text/x-python",
   "name": "python",
   "nbconvert_exporter": "python",
   "pygments_lexer": "ipython3",
   "version": "3.6.5"
  }
 },
 "nbformat": 4,
 "nbformat_minor": 2
}
