{
 "cells": [
  {
   "cell_type": "markdown",
   "metadata": {},
   "source": [
    "# Basic Data Types"
   ]
  },
  {
   "cell_type": "markdown",
   "metadata": {},
   "source": [
    "Every value in a python has a data type.\n",
    "There are following data types in python :\n",
    "1. Numbers\n",
    "2. String\n",
    "3. List\n",
    "4. Tuple\n",
    "5. Dictionary\n",
    "6. Sets"
   ]
  },
  {
   "cell_type": "markdown",
   "metadata": {},
   "source": [
    "# Numbers"
   ]
  },
  {
   "cell_type": "markdown",
   "metadata": {},
   "source": [
    "There are 3 types :\n",
    "1. Interger\n",
    "2. Float\n",
    "3. Complex"
   ]
  },
  {
   "cell_type": "markdown",
   "metadata": {},
   "source": [
    "1. Integer(int) : Integer is a non decimal number formed by the combination of 0 - 9 digts.\n",
    "2. Float(float) : Float is an decimal number that can be represented on number line.\n",
    "3. Complex(complex) : They are the numbers consist of an imaginary number and real number.\n",
    "\n",
    "\n",
    "We can use the type() function to know which class(int,float,complex) a variable or a value belongs to!!"
   ]
  },
  {
   "cell_type": "code",
   "execution_count": 3,
   "metadata": {},
   "outputs": [
    {
     "name": "stdout",
     "output_type": "stream",
     "text": [
      "Enter any number :  3\n",
      "Enter any number : 4.5\n",
      "Enter any number : 3+6j\n",
      "<class 'str'>\n",
      "<class 'str'>\n",
      "<class 'str'>\n"
     ]
    }
   ],
   "source": [
    "x = input(\"Enter any number :  \") #input() function is used to have input on console.\n",
    "y = input(\"Enter any number : \")\n",
    "z = input(\"Enter any number : \")\n",
    "print(type(x)) #type(object) function returns the type of object.\n",
    "print(type(y)) #print() is a function that outputs to your console window.\n",
    "print(type(z))"
   ]
  },
  {
   "cell_type": "markdown",
   "metadata": {},
   "source": [
    "Initially every value is a string in python so to convert them in int,float,complex we use specific functions for each conversion.\n",
    "1. For integer we use int()\n",
    "2. For float we use float()\n",
    "3. For complex we use complex()"
   ]
  },
  {
   "cell_type": "code",
   "execution_count": 4,
   "metadata": {},
   "outputs": [
    {
     "name": "stdout",
     "output_type": "stream",
     "text": [
      "Enter a number : 3\n",
      "Enter a number : 4\n",
      "Type of X :  <class 'int'>\n",
      "Type of Y :  <class 'int'>\n",
      "Value of X :  3\n",
      "Value of Y :  4\n",
      "Id of X :  1487936480\n",
      "Id of Y :  1487936496\n",
      "x =  6 y =  4\n",
      "Id of X :  1487936528\n",
      "Id of Y :  1487936496\n"
     ]
    }
   ],
   "source": [
    "#id(object) As we can see the function accepts a single parameter and is used to return the identity of an object. \n",
    "#This identity has to be unique and constant for this object during the lifetime. \n",
    "#Two objects with non-overlapping lifetimes may have the same id() value.\n",
    "\n",
    "\n",
    "\n",
    "#int\n",
    "x = int(input(\"Enter a number : \"))\n",
    "y = int(input(\"Enter a number : \"))\n",
    "print(\"Type of X : \",type(x)) \n",
    "print(\"Type of Y : \",type(y))\n",
    "print(\"Value of X : \",x)\n",
    "print(\"Value of Y : \",y)\n",
    "print(\"Id of X : \",id(x))\n",
    "print(\"Id of Y : \",id(y))\n",
    "x = 6\n",
    "print(\"x = \",x,\"y = \",y)\n",
    "print(\"Id of X : \",id(x))\n",
    "print(\"Id of Y : \",id(y))"
   ]
  },
  {
   "cell_type": "code",
   "execution_count": 5,
   "metadata": {},
   "outputs": [
    {
     "name": "stdout",
     "output_type": "stream",
     "text": [
      "X : 6.789654321\n",
      "Y : 876543.098765432\n",
      "X =  6.789654321\n",
      "Type(x) =  <class 'float'>\n",
      "Y =  876543.098765432\n",
      "Type(y) =  <class 'float'>\n"
     ]
    }
   ],
   "source": [
    "#float\n",
    "x = float(input(\"X : \"))\n",
    "y = float(input(\"Y : \"))\n",
    "print(\"X = \",x)\n",
    "print(\"Type(x) = \",type(x))\n",
    "print(\"Y = \",y)\n",
    "print(\"Type(y) = \",type(y))\n"
   ]
  },
  {
   "cell_type": "code",
   "execution_count": 6,
   "metadata": {},
   "outputs": [
    {
     "name": "stdout",
     "output_type": "stream",
     "text": [
      "Type of X :  <class 'complex'>\n",
      "None\n",
      "Value of X :  (3+5j)\n"
     ]
    }
   ],
   "source": [
    "#complex\n",
    "x = 3+5j #here 3 is real and 5 is imaginary known as iota \n",
    "print(print(\"Type of X : \",type(x))) #The output of inner print function is the input of outer print function\n",
    "                                     # So The overall output is \"none\" \n",
    "print(\"Value of X : \",x)"
   ]
  },
  {
   "cell_type": "code",
   "execution_count": 9,
   "metadata": {
    "collapsed": true
   },
   "outputs": [],
   "source": [
    "x = 7489231752389582589023580265786238589275890237472895789237892374899734"
   ]
  },
  {
   "cell_type": "code",
   "execution_count": 10,
   "metadata": {},
   "outputs": [
    {
     "name": "stdout",
     "output_type": "stream",
     "text": [
      "7489231752389582589023580265786238589275890237472895789237892374899734\n"
     ]
    }
   ],
   "source": [
    "print(x)"
   ]
  },
  {
   "cell_type": "code",
   "execution_count": 20,
   "metadata": {},
   "outputs": [
    {
     "name": "stdout",
     "output_type": "stream",
     "text": [
      "['__add__', '__class__', '__contains__', '__delattr__', '__dir__', '__doc__', '__eq__', '__format__', '__ge__', '__getattribute__', '__getitem__', '__getnewargs__', '__gt__', '__hash__', '__init__', '__init_subclass__', '__iter__', '__le__', '__len__', '__lt__', '__mod__', '__mul__', '__ne__', '__new__', '__reduce__', '__reduce_ex__', '__repr__', '__rmod__', '__rmul__', '__setattr__', '__sizeof__', '__str__', '__subclasshook__', 'capitalize', 'casefold', 'center', 'count', 'encode', 'endswith', 'expandtabs', 'find', 'format', 'format_map', 'index', 'isalnum', 'isalpha', 'isdecimal', 'isdigit', 'isidentifier', 'islower', 'isnumeric', 'isprintable', 'isspace', 'istitle', 'isupper', 'join', 'ljust', 'lower', 'lstrip', 'maketrans', 'partition', 'replace', 'rfind', 'rindex', 'rjust', 'rpartition', 'rsplit', 'rstrip', 'split', 'splitlines', 'startswith', 'strip', 'swapcase', 'title', 'translate', 'upper', 'zfill']\n"
     ]
    }
   ],
   "source": [
    "#Everthing is class and object in python\n",
    "#so is x is a object then it should have attributes and methods\n",
    "print(dir(x)) #returns the directory of an object that are attributes and methods "
   ]
  },
  {
   "cell_type": "code",
   "execution_count": 14,
   "metadata": {},
   "outputs": [
    {
     "data": {
      "text/plain": [
       "233"
      ]
     },
     "execution_count": 14,
     "metadata": {},
     "output_type": "execute_result"
    }
   ],
   "source": [
    "x.bit_length() #Return the number of bits necessary to represent an integer in binary, excluding the sign and leading zeros"
   ]
  },
  {
   "cell_type": "code",
   "execution_count": 15,
   "metadata": {},
   "outputs": [
    {
     "data": {
      "text/plain": [
       "44"
      ]
     },
     "execution_count": 15,
     "metadata": {},
     "output_type": "execute_result"
    }
   ],
   "source": [
    "x.__sizeof__()"
   ]
  },
  {
   "cell_type": "markdown",
   "metadata": {},
   "source": [
    "# String"
   ]
  },
  {
   "cell_type": "markdown",
   "metadata": {},
   "source": [
    "A string in Python consists of a series or sequence of characters - letters, numbers, and special characters. Strings can be indexed - often synonymously called subscripted as well. Similar to C, the first character of a string has the index 0.\n",
    "\n",
    "1. Python use utf-8 encoding to define charcters\n",
    "2. String can be defined in single quotes as  'any string' or in double quotes as \"any string\"\n",
    "3. In python String can also be defined as\n",
    "4. \"\"\" line1\n",
    "5. line2\n",
    "6. multiline stirng \"\"\"\n",
    "7. or\n",
    "8. ''' para1\n",
    "9. para2\n",
    "10. para3\n",
    "11. multiline'''\n",
    "12. String data type is a object of built-in String Class\n"
   ]
  },
  {
   "cell_type": "code",
   "execution_count": 7,
   "metadata": {},
   "outputs": [
    {
     "name": "stdout",
     "output_type": "stream",
     "text": [
      "hello world\n",
      "Hello World\n",
      "\n",
      "Hi this is Strings in python.\n",
      "        Python is an awesome language.\n",
      "Strings are wide data type.\n",
      "We can convert almost all data types into strings.\n",
      "        Default input function of python returns a string.\n",
      "\n"
     ]
    }
   ],
   "source": [
    "s1 = 'hello world'\n",
    "s2 = \"Hello World\"\n",
    "s3 =\"\"\"\n",
    "Hi this is Strings in python.\n",
    "        Python is an awesome language.\n",
    "Strings are wide data type.\n",
    "We can convert almost all data types into strings.\n",
    "        Default input function of python returns a string.\n",
    "\"\"\"\n",
    "print(s1)\n",
    "print(s2)\n",
    "print(s3)"
   ]
  },
  {
   "cell_type": "code",
   "execution_count": 8,
   "metadata": {},
   "outputs": [
    {
     "name": "stdout",
     "output_type": "stream",
     "text": [
      "He said,\"She is beautiful.\"\n",
      "He said,\"She is beautiful.\"\n"
     ]
    }
   ],
   "source": [
    "s = \"He said,\\\"She is beautiful.\\\"\" #backslash is known as escape charcter\n",
    "k = 'He said,\"She is beautiful.\"'  #If single quotes are used inside then double quotes outside and vice-versa\n",
    "print(s)\n",
    "print(k)"
   ]
  },
  {
   "cell_type": "markdown",
   "metadata": {},
   "source": [
    "# Properties of string"
   ]
  },
  {
   "cell_type": "markdown",
   "metadata": {},
   "source": [
    "1. Indexing # starts from 0 to n - 1 where n is the length of string use []\n",
    "2. Slicing # used to make sub-strings from strings used with start,end and step variable"
   ]
  },
  {
   "cell_type": "markdown",
   "metadata": {},
   "source": [
    "<img src=\"pictures/1.jpg\" height=30% width=30%>"
   ]
  },
  {
   "cell_type": "code",
   "execution_count": 17,
   "metadata": {},
   "outputs": [
    {
     "name": "stdout",
     "output_type": "stream",
     "text": [
      "h\n",
      "h\n"
     ]
    }
   ],
   "source": [
    "s = \"Python\"\n",
    "#indexing in strings\n",
    "print(s[3])\n",
    "print(s[-3])"
   ]
  },
  {
   "cell_type": "code",
   "execution_count": 23,
   "metadata": {},
   "outputs": [
    {
     "name": "stdout",
     "output_type": "stream",
     "text": [
      "lo World\n",
      "Hello World!\n",
      "Hello \n",
      "World!\n",
      "Hello World!\n"
     ]
    }
   ],
   "source": [
    "#-12-11-10-9-8-7-6-5-4-3-2-1  (reverse indxing)\n",
    "s = \"Hello World!\"\n",
    "#   01234567891011\n",
    "#s[start:end:step] always starts with start end end string in end-1 character\n",
    "x = s[3:11]\n",
    "y =  s[:]\n",
    "z = s[:6]\n",
    "p = s[6:]\n",
    "print(x)\n",
    "print(y)\n",
    "print(z)\n",
    "print(p)\n",
    "print(s)"
   ]
  },
  {
   "cell_type": "code",
   "execution_count": 19,
   "metadata": {},
   "outputs": [
    {
     "name": "stdout",
     "output_type": "stream",
     "text": [
      "!dlroW olleH\n",
      "Hello World\n",
      "\n",
      "Hello \n",
      "!dlroW olleH\n",
      "HloWrd\n",
      "!lo le\n"
     ]
    }
   ],
   "source": [
    "s = \"Hello World!\"\n",
    "print(s[::-1])\n",
    "print(s[:-1])\n",
    "print(s[10:13:-1])\n",
    "print(s[-12:-6])\n",
    "print(s[-1:-13:-1])\n",
    "print(s[::2])\n",
    "print(s[::-2])"
   ]
  },
  {
   "cell_type": "code",
   "execution_count": 22,
   "metadata": {},
   "outputs": [
    {
     "name": "stdout",
     "output_type": "stream",
     "text": [
      "Methods and Attributes of String in Python \n",
      "['__add__', '__class__', '__contains__', '__delattr__', '__dir__', '__doc__', '__eq__', '__format__', '__ge__', '__getattribute__', '__getitem__', '__getnewargs__', '__gt__', '__hash__', '__init__', '__init_subclass__', '__iter__', '__le__', '__len__', '__lt__', '__mod__', '__mul__', '__ne__', '__new__', '__reduce__', '__reduce_ex__', '__repr__', '__rmod__', '__rmul__', '__setattr__', '__sizeof__', '__str__', '__subclasshook__', 'capitalize', 'casefold', 'center', 'count', 'encode', 'endswith', 'expandtabs', 'find', 'format', 'format_map', 'index', 'isalnum', 'isalpha', 'isdecimal', 'isdigit', 'isidentifier', 'islower', 'isnumeric', 'isprintable', 'isspace', 'istitle', 'isupper', 'join', 'ljust', 'lower', 'lstrip', 'maketrans', 'partition', 'replace', 'rfind', 'rindex', 'rjust', 'rpartition', 'rsplit', 'rstrip', 'split', 'splitlines', 'startswith', 'strip', 'swapcase', 'title', 'translate', 'upper', 'zfill']\n",
      "S.translate(table) -> str\n",
      "\n",
      "Return a copy of the string S in which each character has been mapped\n",
      "through the given translation table. The table must implement\n",
      "lookup/indexing via __getitem__, for instance a dictionary or list,\n",
      "mapping Unicode ordinals to Unicode ordinals, strings, or None. If\n",
      "this operation raises LookupError, the character is left untouched.\n",
      "Characters mapped to None are deleted.\n"
     ]
    }
   ],
   "source": [
    "s = \"Hello World!, Welcome to python string processing.\"\n",
    "print(\"Methods and Attributes of String in Python \")\n",
    "print(dir(s))\n",
    "print(s.translate.__doc__) #Returns the documentation of a method"
   ]
  },
  {
   "cell_type": "markdown",
   "metadata": {},
   "source": [
    "# Some Basic Functions of String"
   ]
  },
  {
   "cell_type": "markdown",
   "metadata": {},
   "source": [
    "1. swapcase\n",
    "2. upper\n",
    "3. lower\n",
    "4. strip, lstrip, rstrip\n",
    "5. find\n",
    "6. replace\n",
    "7. format\n",
    "8. center"
   ]
  },
  {
   "cell_type": "code",
   "execution_count": 30,
   "metadata": {},
   "outputs": [
    {
     "name": "stdout",
     "output_type": "stream",
     "text": [
      "Enter a String :     ALL Dogs ARE Not cats\n",
      "    ALL Dogs ARE Not cats\n",
      "Swapcase :      all dOGS are nOT CATS\n",
      "Upper :      ALL DOGS ARE NOT CATS\n",
      "Lower :      all dogs are not cats\n",
      "Strip :  ALL Dogs ARE Not cats\n",
      "LStrip :  ALL Dogs ARE Not cats\n",
      "RStrip :      ALL Dogs ARE Not cats\n",
      "Enter pattern to search : cats\n",
      "Find Result :  21\n",
      "String :     ALL Dogs ARE Not cats \n",
      "Pattern : cats \n",
      "*******************************************************************************************************************************************************************************************************************************************************************************************************************************************************************************************************************************************************************************************************    ALL Dogs ARE Not cats********************************************************************************************************************************************************************************************************************************************************************************************************************************************************************************************************************************************************************************************************\n"
     ]
    }
   ],
   "source": [
    "#none of these functions will change the string.\n",
    "s = input(\"Enter a String : \")\n",
    "print(s)\n",
    "#swapcase used to change uppercase letters into lowercase letters and vice versa.\n",
    "print(\"Swapcase : \",s.swapcase())\n",
    "#change all letters into uppercase and return the string\n",
    "print(\"Upper : \",s.upper())\n",
    "#change all letters into lowercase and return the string\n",
    "print(\"Lower : \",s.lower())\n",
    "#strip is used to remove all leading and trailing spaces from string\n",
    "print(\"Strip : \",s.strip())\n",
    "#lstrip is used to remove left space and rstrip to remove rightspace\n",
    "print(\"LStrip : \",s.lstrip())\n",
    "print(\"RStrip : \",s.rstrip())\n",
    "\n",
    "p = input(\"Enter pattern to search : \").strip().lower()  #Remove all the spaces and convert string into lowercase\n",
    "print(\"Find Result : \",s.find(p)) #find a particular pattern in a particular string\n",
    "\n",
    "#string formatting\n",
    "print(\"String : {} \\nPattern : {} \".format(s,p)) #{} is replaced with the parameters passed in format() function\n",
    "print(s.center(1000,'*'))"
   ]
  },
  {
   "cell_type": "code",
   "execution_count": 3,
   "metadata": {},
   "outputs": [
    {
     "name": "stdout",
     "output_type": "stream",
     "text": [
      "************************************************************************************************************************************************Sachin Yadav************************************************************************************************************************************************\n"
     ]
    }
   ],
   "source": [
    "s = \"Sachin Yadav\"\n",
    "y = s.center(300,'*')  #brings the string in the center\n",
    "print(y)"
   ]
  },
  {
   "cell_type": "markdown",
   "metadata": {},
   "source": [
    "replace() is an inbuilt function in Python programming language that returns a copy of the string where all occurrences of a substring is replaced with another substring.\n",
    "\n",
    "1. string.replace(old, new, count)  #syntax\n",
    "2. old – old substring you want to replace.\n",
    "3. new – new substring which would replace the old substring.\n",
    "4. count – the number of times you want to replace the old substring with the new substring. (Optional)"
   ]
  },
  {
   "cell_type": "code",
   "execution_count": 1,
   "metadata": {},
   "outputs": [
    {
     "name": "stdout",
     "output_type": "stream",
     "text": [
      "HI bye HI bye hi bye hi bye\n",
      "HI HELLO HI HELLO hi HELLO hi hello\n"
     ]
    }
   ],
   "source": [
    "string = \"HI hello HI hello hi hello hi hello\" \n",
    "   \n",
    "# Prints the string by replacing hi by HI  \n",
    "print(string.replace(\"hello\", \"bye\"))  \n",
    "  \n",
    "# Prints the string by replacing only first 3 occurence of hello   \n",
    "print(string.replace(\"hello\", \"HELLO\", 3)) \n"
   ]
  },
  {
   "cell_type": "code",
   "execution_count": null,
   "metadata": {
    "collapsed": true
   },
   "outputs": [],
   "source": []
  }
 ],
 "metadata": {
  "kernelspec": {
   "display_name": "Python 3",
   "language": "python",
   "name": "python3"
  },
  "language_info": {
   "codemirror_mode": {
    "name": "ipython",
    "version": 3
   },
   "file_extension": ".py",
   "mimetype": "text/x-python",
   "name": "python",
   "nbconvert_exporter": "python",
   "pygments_lexer": "ipython3",
   "version": "3.7.0"
  }
 },
 "nbformat": 4,
 "nbformat_minor": 2
}
