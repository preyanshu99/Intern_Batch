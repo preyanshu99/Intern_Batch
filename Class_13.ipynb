{
 "cells": [
  {
   "cell_type": "markdown",
   "metadata": {},
   "source": [
    "# <h1 style=\"color:Indigo;font-family:Comic Sans MS\">Exception Handling in Python</h1>"
   ]
  },
  {
   "cell_type": "markdown",
   "metadata": {},
   "source": [
    "Python provides two very important features to handle any unexpected error in your Python programs and to add debugging capabilities in them −\n",
    "\n",
    "\n",
    "* Exception Handling \n",
    "* Assertions "
   ]
  },
  {
   "cell_type": "markdown",
   "metadata": {},
   "source": [
    "### What is Exception?\n",
    "\n",
    "An exception is an event, which occurs during the execution of a program that disrupts the normal flow of the program's instructions. In general, when a Python script encounters a situation that it cannot cope with, it raises an exception. An exception is a Python object that represents an error.\n",
    "\n",
    "When a Python script raises an exception, it must either handle the exception immediately otherwise it terminates and quits."
   ]
  },
  {
   "cell_type": "markdown",
   "metadata": {},
   "source": [
    "### Handling an exception\n",
    "\n",
    "If you have some suspicious code that may raise an exception, you can defend your program by placing the suspicious code in a try: block. After the try: block, include an except: statement, followed by a block of code which handles the problem as elegantly as possible."
   ]
  },
  {
   "cell_type": "code",
   "execution_count": 13,
   "metadata": {},
   "outputs": [],
   "source": [
    "#Syntax :-\n",
    "\n",
    "# try:\n",
    "#    You do your operations here;\n",
    "#     ......................\n",
    "#  except ExceptionI:\n",
    "#     If there is ExceptionI, then execute this block.\n",
    "#  except ExceptionII:\n",
    "#    If there is ExceptionII, then execute this block.\n",
    "#     ......................\n",
    "# else:\n",
    "#  If there is no exception then execute this block. "
   ]
  },
  {
   "cell_type": "markdown",
   "metadata": {},
   "source": [
    "### Few important points about the Exception Handling syntax −\n",
    "\n",
    "* A single try statement can have multiple except statements. This is useful when the try block contains statements that may throw different types of exceptions.\n",
    "\n",
    "* You can also provide a generic except clause, which handles any exception.\n",
    "\n",
    "* After the except clause(s), you can include an else-clause. The code in the else-block executes if the code in the try: block does not raise an exception.\n",
    "\n",
    "* The else-block is a good place for code that does not need the try: block's protection."
   ]
  },
  {
   "cell_type": "code",
   "execution_count": 23,
   "metadata": {},
   "outputs": [
    {
     "name": "stdout",
     "output_type": "stream",
     "text": [
      "Written content in the file successfully\n"
     ]
    }
   ],
   "source": [
    "#Example:-\n",
    "try:\n",
    "    fh = open(\"testfile\", \"w\") #file opened in write mode\n",
    "    fh.write(\"This is my test file for exception handling!!\") #Writing in the file\n",
    "except Exception as e:\n",
    "    print(\"ERROR:- \",e)\n",
    "else:\n",
    "    print(\"Written content in the file successfully\")\n",
    "    fh.close() #closing the file"
   ]
  },
  {
   "cell_type": "code",
   "execution_count": 25,
   "metadata": {},
   "outputs": [
    {
     "name": "stdout",
     "output_type": "stream",
     "text": [
      "Error:-  not writable\n"
     ]
    }
   ],
   "source": [
    "try:\n",
    "    fh = open(\"testfile\")    #by default mode a file is opened in the readmode\n",
    "    fh.write(\"This is my test file for exception handling!!\") # we cannot use write() function in read mode, write function can be used in write mode\n",
    "except Exception as e:\n",
    "    print(\"Error:- \",e)  #printing Exception"
   ]
  },
  {
   "cell_type": "markdown",
   "metadata": {},
   "source": [
    "List of Standard Exceptions −\n",
    "1. Exception -> Base class for all exceptions\n",
    "\n",
    "2. StopIteration -> Raised when the next() method of an iterator does not point to any object.\n",
    "\n",
    "3. SystemExit -> Raised by the sys.exit() function.\n",
    "\n",
    "4. StandardError -> Base class for all built-in exceptions except StopIteration and SystemExit.\n",
    "\n",
    "5. ArithmeticError -> Base class for all errors that occur for numeric calculation.\n",
    "\n",
    "6. OverflowError -> Raised when a calculation exceeds maximum limit for a numeric type.\n",
    "\n",
    "7. FloatingPointError -> Raised when a floating point calculation fails.\n",
    "\n",
    "8. ZeroDivisionError -> Raised when division or modulo by zero takes place for all numeric types.\n",
    "\n",
    "9. AssertionError -> Raised in case of failure of the Assert statement.\n",
    "\n",
    "10. AttributeError -> Raised in case of failure of attribute reference or assignment.\n",
    "\n",
    "11. EOFError -> Raised when there is no input from either the raw_input() or input() function and the end of file is reached.\n",
    "\n",
    "12. ImportError -> Raised when an import statement fails.\n",
    "\n",
    "13. KeyboardInterrupt -> Raised when the user interrupts program execution, usually by pressing Ctrl+c.\n",
    "\n",
    "14. LookupError -> Base class for all lookup errors.\n",
    "\n",
    "15. IndexError -> Raised when an index is not found in a sequence.\n",
    "\n",
    "16. KeyError -> Raised when the specified key is not found in the dictionary.\n",
    "\n",
    "17. NameError -> Raised when an identifier is not found in the local or global namespace.\n",
    "\n",
    "18. UnboundLocalError -> Raised when trying to access a local variable in a function or method but no value has been assigned to it.\n",
    "\n",
    "19. EnvironmentError -> Base class for all exceptions that occur outside the Python environment.\n",
    "\n",
    "20. IOError -> Raised when an input/ output operation fails, such as the print statement or the open() function when trying to open a file that does not exist.\n",
    "\n",
    "21. IOError -> Raised for operating system-related errors.\n",
    "\n",
    "22. SyntaxError -> Raised when there is an error in Python syntax.\n",
    "\n",
    "23. IndentationError -> Raised when indentation is not specified properly.\n",
    "\n",
    "24. SystemError -> Raised when the interpreter finds an internal problem, but when this error is encountered the Python interpreter does not exit.\n",
    "\n",
    "25. SystemExit -> Raised when Python interpreter is quit by using the sys.exit() function. If not handled in the code, causes the interpreter to exit.\n",
    "\n",
    "26. TypeError -> Raised when an operation or function is attempted that is invalid for the specified data type.\n",
    "\n",
    "27. ValueError -> Raised when the built-in function for a data type has the valid type of arguments, but the arguments have invalid values specified.\n",
    "\n",
    "28. RuntimeError -> Raised when a generated error does not fall into any category.\n",
    "\n",
    "29. NotImplementedError -> Raised when an abstract method that needs to be implemented in an inherited class is not actually implemented."
   ]
  },
  {
   "cell_type": "markdown",
   "metadata": {},
   "source": [
    " # <h1 style=\"color:Indigo;font-family:Comic Sans MS\">The try-finally Clause</h1>"
   ]
  },
  {
   "cell_type": "markdown",
   "metadata": {},
   "source": [
    "You can use a finally: block along with a try: block. The finally block is a place to put any code that must execute, whether the try-block raised an exception or not."
   ]
  },
  {
   "cell_type": "code",
   "execution_count": 6,
   "metadata": {},
   "outputs": [],
   "source": [
    "#The syntax of the try-finally statement is this −\n",
    "#try:\n",
    "#   You do your operations here;\n",
    "#   ......................\n",
    "#   Due to any exception, this may be skipped.\n",
    "#finally:\n",
    "#   This would always be executed.\n",
    "#   ......................"
   ]
  },
  {
   "cell_type": "markdown",
   "metadata": {},
   "source": [
    " # <h3 style=\"color:Indigo;font-family:Comic Sans MS\">Note:-</h3>\n",
    " You cannot use else clause as well along with a finally clause."
   ]
  },
  {
   "cell_type": "code",
   "execution_count": 7,
   "metadata": {},
   "outputs": [
    {
     "name": "stdout",
     "output_type": "stream",
     "text": [
      "Enter a Integer : 45\n",
      "Thanks for Input Integer 45\n",
      "Enter a Integer : hi\n",
      "Error!!Are out of your mind, Integer means Interger you donkey \n",
      "Enter a Integer : 32\n",
      "Thanks for Input Integer 32\n"
     ]
    }
   ],
   "source": [
    "\"\"\"Exception Handling\n",
    "Syntax : \n",
    "try :\n",
    "    st1 #Statements in which a exception \n",
    "    st2 #can be found or raise\n",
    "    st3 #try them if they are creating an exception or not\n",
    "except ExceptionType as arg : #Catches a type of exception occured in try\n",
    "    st4 #Error messeges\n",
    "    st5 #Other tasks to deal with exception\n",
    "\"\"\"\n",
    "#program to take a input as integer\n",
    "while True : \n",
    "    try : \n",
    "        x = int(input(\"Enter a Integer : \"))\n",
    "        print(\"Thanks for Input Integer {}\".format(x))\n",
    "        break\n",
    "    except  ValueError as arg:\n",
    "        print(\"Error!!Are out of your mind, Integer means Interger you donkey \")\n",
    "\n",
    "def main():\n",
    "    try : \n",
    "        x = int(input(\"Enter a Integer : \"))\n",
    "        print(\"Thanks for Input Integer {}\".format(x))\n",
    "    except  ValueError as arg:\n",
    "        print(\"Error!!Are out of your mind, Integer means Interger you donkey \")\n",
    "        main()\n",
    "if __name__ == \"__main__\" : #__name__ is a built-in variable which evaluates to the name of the current module.\n",
    "    \n",
    "    main()"
   ]
  },
  {
   "cell_type": "code",
   "execution_count": 14,
   "metadata": {},
   "outputs": [
    {
     "name": "stdout",
     "output_type": "stream",
     "text": [
      "Enter X: 3\n",
      "Enter Y: 6\n",
      "Division : 0.5\n",
      "File data : \n",
      "{\"name\": [\"ram\", \"raheem\", \"anthony\", \"sachin\"], \"age\": [30, 18, 25, 22], \"country\": [\"india\", \"dubai\", \"U.S.\", \"india\"], \"ph_no\": [\"123423\", \"1234213\", \"12323\", \"9782131159\"]}\n"
     ]
    }
   ],
   "source": [
    "try:\n",
    "    x = int(input(\"Enter X: \"))\n",
    "    y = int(input(\"Enter Y: \"))\n",
    "    f = open('big_data') # opening a file\n",
    "    data = f.read()  #reading data from file\n",
    "    f.close()  #closing the file\n",
    "    print(\"Division : {}\".format(x/y))\n",
    "    print(\"File data : \")\n",
    "    print(data)\n",
    "except Exception as e:    #if error occurs then it will be handled\n",
    "    print(\"Error: \",e)"
   ]
  },
  {
   "cell_type": "code",
   "execution_count": 15,
   "metadata": {},
   "outputs": [
    {
     "name": "stdout",
     "output_type": "stream",
     "text": [
      "Enter X: 23\n",
      "Enter Y: 43\n",
      "Enter file path to open file : big_data\n",
      "Division : 0.5348837209302325\n",
      "File data : \n",
      "{\"name\": [\"ram\", \"raheem\", \"anthony\", \"sachin\"], \"age\": [30, 18, 25, 22], \"country\": [\"india\", \"dubai\", \"U.S.\", \"india\"], \"ph_no\": [\"123423\", \"1234213\", \"12323\", \"9782131159\"]}\n"
     ]
    }
   ],
   "source": [
    "try:\n",
    "    x = int(input(\"Enter X: \"))\n",
    "    y = int(input(\"Enter Y: \"))\n",
    "    f = open(input(\"Enter file path to open file : \"))\n",
    "    data = f.read()\n",
    "    f.close()\n",
    "    print(\"Division : {}\".format(x/y))\n",
    "    print(\"File data : \")\n",
    "    print(data)\n",
    "except ValueError as e :\n",
    "    print(\"Error: Please input only Integer Number \")\n",
    "    print(\"Error: {}\".format(e))\n",
    "except FileNotFoundError as e :\n",
    "    print(\"Error: Please Check path of the file, There is no such file exists\")\n",
    "    print(\"Error: {}\".format(e))\n",
    "except ZeroDivisionError as e :\n",
    "    print(\"Error: Akal ke Andhe 0 se kisi ko divide karte hai ? gadhe \")\n",
    "    print(\"Error : {}\".format(e))\n",
    "except PermissionError as e :\n",
    "    print(\"Error: File maangi thi baap Folder nh Dekh k daal\")\n",
    "except Exception as e:\n",
    "    print(\"Error: \",e)"
   ]
  },
  {
   "cell_type": "markdown",
   "metadata": {},
   "source": [
    "# <h1 style=\"color:Indigo;font-family:Comic Sans MS\">Assertions in Python</h1>"
   ]
  },
  {
   "cell_type": "markdown",
   "metadata": {},
   "source": [
    "An assertion is a sanity-check that you can turn on or turn off when you are done with your testing of the program.\n",
    "The easiest way to think of an assertion is to liken it to a raise-if statement (or to be more accurate, a raise-if-not statement). An expression is tested, and if the result comes up false, an exception is raised.\n",
    "Programmers often place assertions at the start of a function to check for valid input, and after a function call to check for valid output.\n",
    "\n",
    "#The Assert Statement\n",
    "\n",
    "When it encounters an assert statement, Python evaluates the accompanying expression, which is hopefully true. If the expression is false, Python raises an AssertionError exception."
   ]
  },
  {
   "cell_type": "markdown",
   "metadata": {},
   "source": [
    "The syntax for assert is −\n",
    "\n",
    "assert Expression[, Arguments]\n",
    "\n",
    "If the assertion fails, Python uses ArgumentExpression as the argument for the AssertionError. AssertionError exceptions can be caught and handled like any other exception using the try-except statement, but if not handled, they will terminate the program and produce a traceback."
   ]
  },
  {
   "cell_type": "code",
   "execution_count": 5,
   "metadata": {},
   "outputs": [
    {
     "name": "stdout",
     "output_type": "stream",
     "text": [
      "32.0\n",
      "451\n"
     ]
    },
    {
     "ename": "AssertionError",
     "evalue": "Colder than absolute zero!",
     "output_type": "error",
     "traceback": [
      "\u001b[1;31m---------------------------------------------------------------------------\u001b[0m",
      "\u001b[1;31mAssertionError\u001b[0m                            Traceback (most recent call last)",
      "\u001b[1;32m<ipython-input-5-d3b6721ef0be>\u001b[0m in \u001b[0;36m<module>\u001b[1;34m()\u001b[0m\n\u001b[0;32m      6\u001b[0m \u001b[0mprint\u001b[0m\u001b[1;33m(\u001b[0m\u001b[0mKelvinToFahrenheit\u001b[0m\u001b[1;33m(\u001b[0m\u001b[1;36m273\u001b[0m\u001b[1;33m)\u001b[0m\u001b[1;33m)\u001b[0m\u001b[1;33m\u001b[0m\u001b[0m\n\u001b[0;32m      7\u001b[0m \u001b[0mprint\u001b[0m\u001b[1;33m(\u001b[0m\u001b[0mint\u001b[0m\u001b[1;33m(\u001b[0m\u001b[0mKelvinToFahrenheit\u001b[0m\u001b[1;33m(\u001b[0m\u001b[1;36m505.78\u001b[0m\u001b[1;33m)\u001b[0m\u001b[1;33m)\u001b[0m\u001b[1;33m)\u001b[0m\u001b[1;33m\u001b[0m\u001b[0m\n\u001b[1;32m----> 8\u001b[1;33m \u001b[0mprint\u001b[0m\u001b[1;33m(\u001b[0m\u001b[0mKelvinToFahrenheit\u001b[0m\u001b[1;33m(\u001b[0m\u001b[1;33m-\u001b[0m\u001b[1;36m5\u001b[0m\u001b[1;33m)\u001b[0m\u001b[1;33m)\u001b[0m\u001b[1;33m\u001b[0m\u001b[0m\n\u001b[0m",
      "\u001b[1;32m<ipython-input-5-d3b6721ef0be>\u001b[0m in \u001b[0;36mKelvinToFahrenheit\u001b[1;34m(Temperature)\u001b[0m\n\u001b[0;32m      1\u001b[0m \u001b[1;31m#Example:-\u001b[0m\u001b[1;33m\u001b[0m\u001b[1;33m\u001b[0m\u001b[0m\n\u001b[0;32m      2\u001b[0m \u001b[1;32mdef\u001b[0m \u001b[0mKelvinToFahrenheit\u001b[0m\u001b[1;33m(\u001b[0m\u001b[0mTemperature\u001b[0m\u001b[1;33m)\u001b[0m\u001b[1;33m:\u001b[0m    \u001b[1;31m#This function converts a temperature from degrees Kelvin to degrees Fahrenheit\u001b[0m\u001b[1;33m\u001b[0m\u001b[0m\n\u001b[1;32m----> 3\u001b[1;33m     \u001b[1;32massert\u001b[0m \u001b[1;33m(\u001b[0m\u001b[0mTemperature\u001b[0m \u001b[1;33m>=\u001b[0m \u001b[1;36m0\u001b[0m\u001b[1;33m)\u001b[0m\u001b[1;33m,\u001b[0m\u001b[1;34m\"Colder than absolute zero!\"\u001b[0m\u001b[1;33m\u001b[0m\u001b[0m\n\u001b[0m\u001b[0;32m      4\u001b[0m     \u001b[1;32mreturn\u001b[0m \u001b[1;33m(\u001b[0m\u001b[1;33m(\u001b[0m\u001b[0mTemperature\u001b[0m\u001b[1;33m-\u001b[0m\u001b[1;36m273\u001b[0m\u001b[1;33m)\u001b[0m\u001b[1;33m*\u001b[0m\u001b[1;36m1.8\u001b[0m\u001b[1;33m)\u001b[0m\u001b[1;33m+\u001b[0m\u001b[1;36m32\u001b[0m\u001b[1;33m\u001b[0m\u001b[0m\n\u001b[0;32m      5\u001b[0m \u001b[1;33m\u001b[0m\u001b[0m\n",
      "\u001b[1;31mAssertionError\u001b[0m: Colder than absolute zero!"
     ]
    }
   ],
   "source": [
    "#Example:- \n",
    "def KelvinToFahrenheit(Temperature):    #This function converts a temperature from degrees Kelvin to degrees Fahrenheit\n",
    "    assert (Temperature >= 0),\"Colder than absolute zero!\"\n",
    "    return ((Temperature-273)*1.8)+32\n",
    "\n",
    "print(KelvinToFahrenheit(273))\n",
    "print(int(KelvinToFahrenheit(505.78)))\n",
    "print(KelvinToFahrenheit(-5))\n"
   ]
  },
  {
   "cell_type": "markdown",
   "metadata": {},
   "source": [
    "# <h1 style=\"color:Indigo;font-family:Comic Sans MS\">Magic Methods in Python</h1>"
   ]
  },
  {
   "cell_type": "markdown",
   "metadata": {},
   "source": [
    "Magic methods or Dunder in Python are the methods having two prefix and suffix underscores in the method name. Dunder here means “Double Under (Underscores)”. These are commonly used for operator overloading. Few examples for magic methods are: __init__, __add__, __len__, __repr__ etc.\n",
    "\n",
    "The __init__ method for initialization is invoked without any call, when an instance of a class is created, like constructors in certain other programming languages such as C++, Java, C#, PHP etc. These methods are the reason we can add two strings with ‘+’ operator without any explicit typecasting."
   ]
  },
  {
   "cell_type": "code",
   "execution_count": 16,
   "metadata": {},
   "outputs": [
    {
     "name": "stdout",
     "output_type": "stream",
     "text": [
      "<__main__.String object at 0x000001EEB8DFD780>\n"
     ]
    }
   ],
   "source": [
    "# Example\n",
    "class String: \n",
    "    def __init__(self, string):    # this magic method used to initiate the object \n",
    "        self.string = string \n",
    "          \n",
    "if __name__ == '__main__': # this magic method evaluates to the name of the current module.\n",
    "      \n",
    "   \n",
    "    string1 = String('Hello')  # object creation \n",
    "    print(string1) # this code prints only the memory address of the string object"
   ]
  },
  {
   "cell_type": "code",
   "execution_count": 17,
   "metadata": {},
   "outputs": [
    {
     "name": "stdout",
     "output_type": "stream",
     "text": [
      "Object: Hello\n"
     ]
    }
   ],
   "source": [
    "class String: \n",
    "    \n",
    "    def __init__(self, string):   # this magic method used to initiate the object \n",
    "        self.string = string \n",
    "          \n",
    "    def __repr__(self): #this method is used to print the string object\n",
    "        return 'Object: {}'.format(self.string) \n",
    "\n",
    "if __name__ == '__main__': # this magic method evaluates to the name of the current module.\n",
    "      \n",
    "    \n",
    "    string1 = String('Hello') # object creation \n",
    "  \n",
    "   \n",
    "    print(string1)   # prints the string object"
   ]
  }
 ],
 "metadata": {
  "kernelspec": {
   "display_name": "Python 3",
   "language": "python",
   "name": "python3"
  },
  "language_info": {
   "codemirror_mode": {
    "name": "ipython",
    "version": 3
   },
   "file_extension": ".py",
   "mimetype": "text/x-python",
   "name": "python",
   "nbconvert_exporter": "python",
   "pygments_lexer": "ipython3",
   "version": "3.6.5"
  }
 },
 "nbformat": 4,
 "nbformat_minor": 2
}
