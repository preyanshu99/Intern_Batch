{
 "cells": [
  {
   "cell_type": "markdown",
   "metadata": {},
   "source": [
    "# Loops in Python"
   ]
  },
  {
   "cell_type": "markdown",
   "metadata": {},
   "source": [
    "In general, statements are executed sequentially. The first statement in a function is executed first, followed by the second, and so on. There may be a situation when you need to execute a block of code several number of times.\n",
    "Python programming language provides following types of loops to handle looping requirements.\n",
    "1. While Loop Statement\n",
    "2. For Loop Statement"
   ]
  },
  {
   "cell_type": "code",
   "execution_count": 1,
   "metadata": {},
   "outputs": [
    {
     "name": "stdout",
     "output_type": "stream",
     "text": [
      "Hello World!\n",
      "Hello World!\n",
      "Hello World!\n",
      "Hello World!\n",
      "Hello World!\n",
      "Hello World!\n",
      "Hello World!\n",
      "Hello World!\n",
      "Hello World!\n",
      "Hello World!\n",
      "Python is Awesome\n"
     ]
    }
   ],
   "source": [
    "#While Loop Statement\n",
    " #A while loop statement in Python programming language repeatedly executes a target statement as long as a given condition is true.\n",
    " #Syntax of while loop :-\n",
    "   #while expression:\n",
    "     #statement(s)\n",
    "#Here, statement(s) may be a single statement or a block of statements. The condition may be any expression, and true is any non-zero value. The loop iterates while the condition is true.\n",
    "# Example:-\n",
    "c = 1\n",
    "while c <= 10 :\n",
    "    print(\"Hello World!\")\n",
    "    c = c + 1\n",
    "print(\"Python is Awesome\")"
   ]
  },
  {
   "cell_type": "code",
   "execution_count": 4,
   "metadata": {},
   "outputs": [
    {
     "name": "stdout",
     "output_type": "stream",
     "text": [
      "The count is: 0\n",
      "The count is: 1\n",
      "The count is: 2\n",
      "The count is: 3\n",
      "The count is: 4\n",
      "The count is: 5\n",
      "The count is: 6\n",
      "The count is: 7\n",
      "The count is: 8\n",
      "Good bye!\n"
     ]
    }
   ],
   "source": [
    "count = 0\n",
    "while (count < 9):\n",
    "   print(\"The count is:\",count)\n",
    "   count = count + 1\n",
    "\n",
    "print(\"Good bye!\")"
   ]
  },
  {
   "cell_type": "code",
   "execution_count": 5,
   "metadata": {},
   "outputs": [
    {
     "name": "stdout",
     "output_type": "stream",
     "text": [
      "1, 2, 3, 4, 5, 6, 7, 8, 9, 10, 11, 12, 13, 14, 15, 16, 17, 18, 19, 20, 21, 22, 23, 24, 25, 26, 27, 28, 29, 30, 31, 32, 33, 34, 35, 36, 37, 38, 39, 40, 41, 42, 43, 44, 45, 46, 47, 48, 49, 50, 51, 52, 53, 54, 55, 56, 57, 58, 59, 60, 61, 62, 63, 64, 65, 66, 67, 68, 69, 70, 71, 72, 73, 74, 75, 76, 77, 78, 79, 80, 81, 82, 83, 84, 85, 86, 87, 88, 89, 90, 91, 92, 93, 94, 95, 96, 97, 98, 99, 100, "
     ]
    }
   ],
   "source": [
    "c = 1\n",
    "while c <= 100 :\n",
    "    print(c,end=', ')\n",
    "    c = c + 1"
   ]
  },
  {
   "cell_type": "code",
   "execution_count": 2,
   "metadata": {},
   "outputs": [],
   "source": [
    "my_string = \"Python\"\n",
    "i = \"i\"\n",
    "while i in my_string: \n",
    "    print(i, end =\" \") #these code gives no output why?"
   ]
  },
  {
   "cell_type": "code",
   "execution_count": 3,
   "metadata": {},
   "outputs": [
    {
     "name": "stdout",
     "output_type": "stream",
     "text": [
      "0\n",
      "1\n",
      "2\n",
      "0\n"
     ]
    }
   ],
   "source": [
    "i = 0\n",
    "while i < 3: \n",
    "    print(i) \n",
    "    i += 1\n",
    "else: \n",
    "    print(0) "
   ]
  },
  {
   "cell_type": "code",
   "execution_count": 7,
   "metadata": {},
   "outputs": [
    {
     "name": "stdout",
     "output_type": "stream",
     "text": [
      "1\n",
      "2\n",
      "3\n",
      "4\n",
      "5\n",
      "6\n"
     ]
    }
   ],
   "source": [
    "i = 1\n",
    "while True: \n",
    "    if i % 0O7 == 0: \n",
    "        break\n",
    "    print(i) \n",
    "    i += 1"
   ]
  },
  {
   "cell_type": "code",
   "execution_count": 8,
   "metadata": {},
   "outputs": [
    {
     "ename": "SyntaxError",
     "evalue": "can't assign to keyword (<ipython-input-8-9b3565c26392>, line 1)",
     "output_type": "error",
     "traceback": [
      "\u001b[1;36m  File \u001b[1;32m\"<ipython-input-8-9b3565c26392>\"\u001b[1;36m, line \u001b[1;32m1\u001b[0m\n\u001b[1;33m    True = False\u001b[0m\n\u001b[1;37m                ^\u001b[0m\n\u001b[1;31mSyntaxError\u001b[0m\u001b[1;31m:\u001b[0m can't assign to keyword\n"
     ]
    }
   ],
   "source": [
    "True = False\n",
    "while True: \n",
    "    print(True) #SyntaxError, True is a keyword and it’s value cannot be changed.\n",
    "    break"
   ]
  },
  {
   "cell_type": "code",
   "execution_count": 9,
   "metadata": {},
   "outputs": [
    {
     "ename": "SyntaxError",
     "evalue": "invalid syntax (<ipython-input-9-c4df679925ba>, line 6)",
     "output_type": "error",
     "traceback": [
      "\u001b[1;36m  File \u001b[1;32m\"<ipython-input-9-c4df679925ba>\"\u001b[1;36m, line \u001b[1;32m6\u001b[0m\n\u001b[1;33m    i + = 1\u001b[0m\n\u001b[1;37m        ^\u001b[0m\n\u001b[1;31mSyntaxError\u001b[0m\u001b[1;31m:\u001b[0m invalid syntax\n"
     ]
    }
   ],
   "source": [
    "i = 1\n",
    "while True: \n",
    "    if i % 3 == 0: \n",
    "        break\n",
    "    print(i) \n",
    "    i + = 1  #SyntaxError, there shouldn’t be a space between + and = in +=."
   ]
  },
  {
   "cell_type": "code",
   "execution_count": null,
   "metadata": {},
   "outputs": [],
   "source": [
    "i = 1\n",
    "while True: \n",
    "    if i%3 == 0: \n",
    "        break     #The program will give no output why?\n",
    "    print(i) \n",
    "    i + = 1  "
   ]
  },
  {
   "cell_type": "code",
   "execution_count": 6,
   "metadata": {},
   "outputs": [
    {
     "name": "stdout",
     "output_type": "stream",
     "text": [
      "100\t99\t98\t97\t96\t95\t94\t93\t92\t91\t90\t89\t88\t87\t86\t85\t84\t83\t82\t81\t80\t79\t78\t77\t76\t75\t74\t73\t72\t71\t70\t69\t68\t67\t66\t65\t64\t63\t62\t61\t60\t59\t58\t57\t56\t55\t54\t53\t52\t51\t50\t49\t48\t47\t46\t45\t44\t43\t42\t41\t40\t39\t38\t37\t36\t35\t34\t33\t32\t31\t30\t29\t28\t27\t26\t25\t24\t23\t22\t21\t20\t19\t18\t17\t16\t15\t14\t13\t12\t11\t10\t9\t8\t7\t6\t5\t4\t3\t2\t1\t"
     ]
    }
   ],
   "source": [
    "c = 100\n",
    "while c >= 1 :\n",
    "    print(c,end='\\t')\n",
    "    c = c - 1"
   ]
  },
  {
   "cell_type": "code",
   "execution_count": 7,
   "metadata": {},
   "outputs": [
    {
     "name": "stdout",
     "output_type": "stream",
     "text": [
      "Aston\n",
      "Audi\n",
      "McLaren\n"
     ]
    }
   ],
   "source": [
    "cars = [\"Aston\", \"Audi\", \"McLaren\"] \n",
    "i = 0\n",
    "while (i < len(cars)): \n",
    "    print(cars[i]) \n",
    "    i += 1"
   ]
  },
  {
   "cell_type": "code",
   "execution_count": 8,
   "metadata": {},
   "outputs": [
    {
     "name": "stdout",
     "output_type": "stream",
     "text": [
      "a\n",
      "n\n",
      "a\n",
      "c\n",
      "o\n",
      "n\n",
      "d\n",
      "a\n"
     ]
    }
   ],
   "source": [
    "word=\"anaconda\"\n",
    "pos=0 \n",
    "while pos < len(word) :\n",
    "    print (word[pos])\n",
    "    pos+=1 "
   ]
  },
  {
   "cell_type": "code",
   "execution_count": 9,
   "metadata": {},
   "outputs": [
    {
     "name": "stdout",
     "output_type": "stream",
     "text": [
      "0\n",
      "2\n",
      "4\n",
      "6\n",
      "8\n"
     ]
    }
   ],
   "source": [
    "i=0\n",
    "while i < 10:\n",
    "    print(i)\n",
    "    i += 2"
   ]
  },
  {
   "cell_type": "code",
   "execution_count": 10,
   "metadata": {},
   "outputs": [
    {
     "name": "stdout",
     "output_type": "stream",
     "text": [
      "Enter number : 4\n",
      "    4\tx    1\t=    4\n",
      "    4\tx    2\t=    8\n",
      "    4\tx    3\t=   12\n",
      "    4\tx    4\t=   16\n",
      "    4\tx    5\t=   20\n",
      "    4\tx    6\t=   24\n",
      "    4\tx    7\t=   28\n",
      "    4\tx    8\t=   32\n",
      "    4\tx    9\t=   36\n",
      "    4\tx   10\t=   40\n"
     ]
    }
   ],
   "source": [
    "num = int(input(\"Enter number : \"))\n",
    "c = 1\n",
    "while c <= 10 :\n",
    "    print(\"{:5}\\tx{:5}\\t={:5}\".format(num,c,num*c))\n",
    "    c = c + 1"
   ]
  },
  {
   "cell_type": "code",
   "execution_count": 11,
   "metadata": {},
   "outputs": [
    {
     "name": "stdout",
     "output_type": "stream",
     "text": [
      "Do want to roll again : 5\n",
      "Score :  3\n",
      "Do want to roll again : n\n",
      "Score :  2\n",
      "Do want to roll again : \n"
     ]
    }
   ],
   "source": [
    "from random import randrange\n",
    "while input(\"Do want to roll again : \"):\n",
    "    print(\"Score : \",randrange(1,7))"
   ]
  },
  {
   "cell_type": "code",
   "execution_count": 12,
   "metadata": {},
   "outputs": [
    {
     "name": "stdout",
     "output_type": "stream",
     "text": [
      "Enter a Number : 55\n",
      "Not Prime\n"
     ]
    }
   ],
   "source": [
    "num = int(input(\"Enter a Number : \"))\n",
    "if num <= 1 :\n",
    "    print(\"Not Prime\")\n",
    "    print(\"Error!This is not valid input to check prime\")\n",
    "    exit(0)\n",
    "elif num <= 3 :\n",
    "    print(\"Prime\")\n",
    "    exit(0)\n",
    "check = 2\n",
    "while check <= num // 2 + 1 :\n",
    "    \n",
    "    k = num % check \n",
    "    if k == 0 :\n",
    "        print(\"Not Prime\")\n",
    "        break\n",
    "    elif check == num //2 + 1 :\n",
    "        print(\"Prime\")\n",
    "    check = check + 1"
   ]
  },
  {
   "cell_type": "code",
   "execution_count": 13,
   "metadata": {},
   "outputs": [
    {
     "name": "stdout",
     "output_type": "stream",
     "text": [
      "Enter the no of terms54\n",
      "1\n",
      "2\n",
      "3\n",
      "5\n",
      "8\n",
      "13\n",
      "21\n",
      "34\n",
      "55\n",
      "89\n",
      "144\n",
      "233\n",
      "377\n",
      "610\n",
      "987\n",
      "1597\n",
      "2584\n",
      "4181\n",
      "6765\n",
      "10946\n",
      "17711\n",
      "28657\n",
      "46368\n",
      "75025\n",
      "121393\n",
      "196418\n",
      "317811\n",
      "514229\n",
      "832040\n",
      "1346269\n",
      "2178309\n",
      "3524578\n",
      "5702887\n",
      "9227465\n",
      "14930352\n",
      "24157817\n",
      "39088169\n",
      "63245986\n",
      "102334155\n",
      "165580141\n",
      "267914296\n",
      "433494437\n",
      "701408733\n",
      "1134903170\n",
      "1836311903\n",
      "2971215073\n",
      "4807526976\n",
      "7778742049\n",
      "12586269025\n",
      "20365011074\n",
      "32951280099\n",
      "53316291173\n",
      "86267571272\n",
      "139583862445\n"
     ]
    }
   ],
   "source": [
    "#Fibbonacci Series using While Loop\n",
    "num = int(input(\"Enter the no of terms\"))\n",
    "x = 0\n",
    "y = 1\n",
    "a = 0\n",
    "while a < num:\n",
    "    z = x + y\n",
    "    x = y\n",
    "    y = z\n",
    "    a = a + 1\n",
    "    print(z)"
   ]
  },
  {
   "cell_type": "code",
   "execution_count": 14,
   "metadata": {},
   "outputs": [
    {
     "name": "stdout",
     "output_type": "stream",
     "text": [
      "Player1: ········\n",
      "Player2: ········\n",
      "Player1 is the Winner\n",
      "Do want to continue (y/n) : n\n"
     ]
    }
   ],
   "source": [
    "#Rock, Paper, Scissor game using while loop(2 Players)\n",
    "p1 = [ ('r','s'),('p','r'),('s','p')]\n",
    "from getpass import getpass\n",
    "while True :\n",
    "    ch1 = getpass(\"Player1: \")\n",
    "    ch2 = getpass(\"Player2: \")\n",
    "    if ch1 == ch2 : \n",
    "        print(\"Match Tie\")\n",
    "    elif (ch1,ch2) in p1 :\n",
    "        print(\"Player1 is the Winner\")\n",
    "    else :\n",
    "        print(\"Player2 is the Winner\")\n",
    "    \n",
    "    ch = input(\"Do want to continue (y/n) : \").strip().lower()\n",
    "    if ch == 'y' or ch == 'yes' :\n",
    "        continue\n",
    "    else :\n",
    "        break"
   ]
  },
  {
   "cell_type": "code",
   "execution_count": 15,
   "metadata": {},
   "outputs": [
    {
     "name": "stdout",
     "output_type": "stream",
     "text": [
      "Player2: r\n",
      "Computer Choice was :  s\n",
      "Player Choice was :  r\n",
      "Player2 is the Winner\n",
      "Do want to continue (y/n) : n\n"
     ]
    }
   ],
   "source": [
    "##Rock, Paper, Scissor game using while loop(1 Player)\n",
    "p1 = [ ('r','s'),('p','r'),('s','p')]\n",
    "from random import choice\n",
    "while True :\n",
    "    ch1 = choice(['r','p','s'])\n",
    "    ch2 = input(\"Player2: \")\n",
    "    if ch1 == ch2 : \n",
    "        print(\"Match Tie\")\n",
    "    elif (ch1,ch2) in p1 :\n",
    "        print(\"Computer Choice was : \",ch1)\n",
    "        print(\"Player Choice was : \",ch2)\n",
    "        print(\"Player1 is the Winner\")\n",
    "    else :\n",
    "        print(\"Computer Choice was : \",ch1)\n",
    "        print(\"Player Choice was : \",ch2)\n",
    "        print(\"Player2 is the Winner\")\n",
    "    \n",
    "    ch = input(\"Do want to continue (y/n) : \").strip().lower()\n",
    "    if ch == 'y' or ch == 'yes' :\n",
    "        continue\n",
    "    else :\n",
    "        break"
   ]
  }
 ],
 "metadata": {
  "kernelspec": {
   "display_name": "Python 3",
   "language": "python",
   "name": "python3"
  },
  "language_info": {
   "codemirror_mode": {
    "name": "ipython",
    "version": 3
   },
   "file_extension": ".py",
   "mimetype": "text/x-python",
   "name": "python",
   "nbconvert_exporter": "python",
   "pygments_lexer": "ipython3",
   "version": "3.6.5"
  }
 },
 "nbformat": 4,
 "nbformat_minor": 2
}
