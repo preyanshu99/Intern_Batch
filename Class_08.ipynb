{
 "cells": [
  {
   "cell_type": "markdown",
   "metadata": {},
   "source": [
    "# Functions in Python"
   ]
  },
  {
   "cell_type": "code",
   "execution_count": 4,
   "metadata": {},
   "outputs": [
    {
     "name": "stdout",
     "output_type": "stream",
     "text": [
      "Python\n"
     ]
    }
   ],
   "source": [
    "# Defination\n",
    "# A function is a block of organized, reusable code that is used to perform a single, related action. \n",
    "# Functions provide better modularity for your application and a high degree of code reusing.\n",
    "# Here are simple rules to define a function in Python.\n",
    "# 1. Function blocks begin with the keyword def followed by the function name and parentheses ( ( ) ).\n",
    "# 2. Any input parameters or arguments should be placed within these parentheses. You can also define parameters inside these parentheses.\n",
    "# 3. The first statement of a function can be an optional statement - the documentation string of the function or docstring.\n",
    "# 4. The code block within every function starts with a colon (:) and is indented.\n",
    "# 5. The statement return [expression] exits a function, optionally passing back an expression to the caller.\n",
    "# 6. A return statement with no arguments is the same as return None.\n",
    "# SYNTAX\n",
    "# def functionname( parameters ):\n",
    "#   \"function_docstring\"\n",
    "#   function_suite\n",
    "#   return [expression]\n",
    "# Example:-\n",
    "def printme( str ):\n",
    "    \"This prints a passed string into this function\"\n",
    "    print(str)\n",
    "    return\n",
    "printme(\"Python\") #calling"
   ]
  },
  {
   "cell_type": "code",
   "execution_count": 5,
   "metadata": {},
   "outputs": [
    {
     "name": "stdout",
     "output_type": "stream",
     "text": [
      "I'm first call to user defined function!\n",
      "Again second call to the same function\n"
     ]
    }
   ],
   "source": [
    "# Calling a Function\n",
    "# Defining a function only gives it a name, specifies the parameters that are to be included in the function and structures the blocks of code.\n",
    "# Once the basic structure of a function is finalized, you can execute it by calling it from another function or directly from the Python prompt.\n",
    "# Function definition is here\n",
    "def printme( str ):\n",
    "    \"This prints a passed string into this function\"\n",
    "    print(str)\n",
    "    return;\n",
    "\n",
    "# Now calling printme function\n",
    "printme(\"I'm first call to user defined function!\")\n",
    "printme(\"Again second call to the same function\")"
   ]
  },
  {
   "cell_type": "code",
   "execution_count": 7,
   "metadata": {},
   "outputs": [
    {
     "name": "stdout",
     "output_type": "stream",
     "text": [
      "Values inside the function:  [10, 20, 30, [1, 2, 3, 4]]\n",
      "Values outside the function:  [10, 20, 30, [1, 2, 3, 4]]\n"
     ]
    }
   ],
   "source": [
    "# All parameters (arguments) in the Python language are passed by reference. It means if you change what a parameter refers to within a function, the change also reflects back in the calling function\n",
    "# Function definition is here\n",
    "def changeme( mylist ):\n",
    "    '''This changes a passed list into this function'''\n",
    "    mylist.append([1,2,3,4]);\n",
    "    print(\"Values inside the function: \", mylist)\n",
    "    return\n",
    "\n",
    "# Now calling changeme function\n",
    "mylist = [10,20,30];\n",
    "changeme( mylist );\n",
    "print(\"Values outside the function: \", mylist)"
   ]
  },
  {
   "cell_type": "code",
   "execution_count": 8,
   "metadata": {},
   "outputs": [
    {
     "name": "stdout",
     "output_type": "stream",
     "text": [
      "Python\n"
     ]
    }
   ],
   "source": [
    "# Function Arguments\n",
    "# You can call a function by using the following types of formal arguments −\n",
    "# 1. Required arguments\n",
    "# 2. Keyword arguments\n",
    "# 3. Default arguments\n",
    "# 4. Variable-length arguments\n",
    "####1. Required Arguments :-\n",
    "# Required arguments are the arguments passed to a function in correct positional order. \n",
    "# The number of arguments in the function call should match exactly with the function definition.\n",
    "# Example:-\n",
    "# Function definition\n",
    "def printme( str ):\n",
    "    \"This prints a passed string into this function\"\n",
    "    print(str)\n",
    "    return;\n",
    "\n",
    "# calling printme function\n",
    "printme(\"Python\")"
   ]
  },
  {
   "cell_type": "code",
   "execution_count": 9,
   "metadata": {},
   "outputs": [
    {
     "name": "stdout",
     "output_type": "stream",
     "text": [
      "Python is Awesome\n"
     ]
    }
   ],
   "source": [
    "#### Keyword arguments\n",
    "# Keyword arguments are related to the function calls. \n",
    "# When we use keyword arguments in a function call, the caller identifies the arguments by the parameter name.\n",
    "# Function definition\n",
    "def printme( str ):\n",
    "    \"This prints a passed string into this function\"\n",
    "    print(str)\n",
    "    return;\n",
    "\n",
    "# calling printme function\n",
    "printme( str = \"Python is Awesome\")"
   ]
  },
  {
   "cell_type": "code",
   "execution_count": 2,
   "metadata": {},
   "outputs": [
    {
     "name": "stdout",
     "output_type": "stream",
     "text": [
      "Name:  Raj\n",
      "Age  21\n"
     ]
    }
   ],
   "source": [
    "# Function definition\n",
    "def printinfo( name, age ):\n",
    "    \"This prints a passed info into this function\"\n",
    "    print(\"Name: \", name)\n",
    "    print(\"Age \", age)\n",
    "    return;\n",
    "printinfo( age=21, name=\"Raj\" )"
   ]
  },
  {
   "cell_type": "code",
   "execution_count": 12,
   "metadata": {},
   "outputs": [
    {
     "name": "stdout",
     "output_type": "stream",
     "text": [
      "Name:  Raj\n",
      "Age  50\n",
      "Name:  Ram\n",
      "Age  35\n"
     ]
    }
   ],
   "source": [
    "#Default arguments\n",
    "#A default argument is an argument that assumes a default value if a value is not provided in the function call for that argument.\n",
    "def printinfo( name, age = 35 ):\n",
    "    \"This prints a passed info into this function\"\n",
    "    print(\"Name: \", name)\n",
    "    print(\"Age \", age)\n",
    "    return;\n",
    "\n",
    "printinfo( age=50, name=\"Raj\" ) #default arguments can be changed during calling time \n",
    "printinfo( name=\"Ram\" )"
   ]
  },
  {
   "cell_type": "code",
   "execution_count": 15,
   "metadata": {},
   "outputs": [
    {
     "name": "stdout",
     "output_type": "stream",
     "text": [
      "Output is: \n",
      "10\n",
      "Output is: \n",
      "70\n",
      "60\n",
      "50\n"
     ]
    }
   ],
   "source": [
    "# Variable-length arguments\n",
    "# You may need to process a function for more arguments than you specified while defining the function. \n",
    "# These arguments are called variable-length arguments and are not named in the function definition, unlike required and default arguments.\n",
    "# Function definition\n",
    "def printinfo( arg1, *vartuple ):\n",
    "    \"This prints a variable passed arguments\"\n",
    "    print(\"Output is: \")\n",
    "    print(arg1)\n",
    "    for var in vartuple:\n",
    "        print(var)\n",
    "    return\n",
    "printinfo( 10 )   #argument is passed as an 'arg1'\n",
    "printinfo( 70, 60, 50 )   #argument is passed as a tuple"
   ]
  },
  {
   "cell_type": "markdown",
   "metadata": {},
   "source": [
    "## Examples"
   ]
  },
  {
   "cell_type": "code",
   "execution_count": 2,
   "metadata": {},
   "outputs": [
    {
     "name": "stdout",
     "output_type": "stream",
     "text": [
      "function calling starts\n",
      "Enter your name : Python\n",
      "Welcome Python to the python functions.\n",
      "function calling finished\n",
      "None\n"
     ]
    }
   ],
   "source": [
    "def hello():\n",
    "    name = input(\"Enter your name : \")\n",
    "    print(\"Welcome {} to the python functions.\".format(name))\n",
    "print(\"function calling starts\")\n",
    "x = hello()\n",
    "print(\"function calling finished\")\n",
    "print(x)"
   ]
  },
  {
   "cell_type": "code",
   "execution_count": 3,
   "metadata": {},
   "outputs": [
    {
     "name": "stdout",
     "output_type": "stream",
     "text": [
      "Enter your name : Python\n",
      "Welcome Python to the python functions.\n"
     ]
    }
   ],
   "source": [
    "hello() #we can call function anywhere after defining"
   ]
  },
  {
   "cell_type": "code",
   "execution_count": 3,
   "metadata": {},
   "outputs": [
    {
     "name": "stdout",
     "output_type": "stream",
     "text": [
      "Enter a list space seprated : 1 2 3 4 5\n",
      "['5', '4', '3', '2', '1']\n"
     ]
    }
   ],
   "source": [
    "# function to reverse string\n",
    "def reverse(string):\n",
    "    return string[::-1]\n",
    "#s = reverse(input(\"Enter a string : \"))\n",
    "#print(s)\n",
    "s = reverse(input(\"Enter a list space seprated : \").split()) #split will convert this space separated string into a list \n",
    "print(s)"
   ]
  },
  {
   "cell_type": "code",
   "execution_count": 20,
   "metadata": {},
   "outputs": [
    {
     "name": "stdout",
     "output_type": "stream",
     "text": [
      "81\n"
     ]
    }
   ],
   "source": [
    "# function to calculate power\n",
    "def pow(x,y):\n",
    "    return x**y\n",
    "x = pow(3,4) #positional Arguments\n",
    "print(x)"
   ]
  },
  {
   "cell_type": "code",
   "execution_count": 21,
   "metadata": {},
   "outputs": [
    {
     "name": "stdout",
     "output_type": "stream",
     "text": [
      "9\n"
     ]
    }
   ],
   "source": [
    "r = pow(y=2,x=3)\n",
    "print(r)"
   ]
  },
  {
   "cell_type": "code",
   "execution_count": 24,
   "metadata": {},
   "outputs": [
    {
     "name": "stdout",
     "output_type": "stream",
     "text": [
      "16\n",
      "8\n",
      "1\n",
      "243\n"
     ]
    }
   ],
   "source": [
    "k = pow(2,4)\n",
    "p = pow(2,3)\n",
    "print(k)\n",
    "print(p)\n",
    "print(pow(y=2,x=1))\n",
    "print(pow(3,y=5))"
   ]
  },
  {
   "cell_type": "code",
   "execution_count": 23,
   "metadata": {},
   "outputs": [
    {
     "name": "stdout",
     "output_type": "stream",
     "text": [
      "Enter x : 3\n",
      "Enter y : 6\n",
      "6 3\n"
     ]
    }
   ],
   "source": [
    "def swap(x,y):\n",
    "    return y,x\n",
    "x,y = int(input(\"Enter x : \")),int(input(\"Enter y : \"))\n",
    "x,y = swap(x,y)\n",
    "print(x,y)"
   ]
  },
  {
   "cell_type": "code",
   "execution_count": 16,
   "metadata": {},
   "outputs": [
    {
     "name": "stdout",
     "output_type": "stream",
     "text": [
      "0\n",
      "1\n",
      "3\n",
      "55\n"
     ]
    }
   ],
   "source": [
    "def add(*args):\n",
    "    return sum(args)\n",
    "print(add())\n",
    "print(add(1))\n",
    "print(add(1,2))\n",
    "print(add(1,2,3,4,5,6,7,8,9,10))"
   ]
  },
  {
   "cell_type": "code",
   "execution_count": 25,
   "metadata": {},
   "outputs": [
    {
     "name": "stdout",
     "output_type": "stream",
     "text": [
      "<class 'tuple'>\n",
      "value 1 : one\n",
      "value 2 : two\n",
      "\n",
      "\n",
      "\n",
      "<class 'tuple'>\n",
      "value 1 : hello\n",
      "value 2 : hi\n",
      "value 3 : how\n",
      "value 4 : are\n",
      "value 5 : you\n"
     ]
    }
   ],
   "source": [
    "def info(*args):\n",
    "    print(type(args))\n",
    "    c = 1\n",
    "    for var in args :\n",
    "        print(\"value {} : {}\".format(c,var))\n",
    "        c = c + 1\n",
    "info('one','two')\n",
    "print(\"\\n\\n\")\n",
    "info('hello','hi','how','are','you')"
   ]
  },
  {
   "cell_type": "code",
   "execution_count": 16,
   "metadata": {},
   "outputs": [
    {
     "name": "stdout",
     "output_type": "stream",
     "text": [
      "<class 'dict'>\n",
      "name = sachin\n",
      "\n",
      "<class 'dict'>\n",
      "name = python\n",
      "framework = ['django', 'flask']\n",
      "\n",
      "Enter your name Sahil\n",
      "Enter your addressGopalPura\n",
      "{'name': 'Sahil', 'addr': 'GopalPura'}\n"
     ]
    }
   ],
   "source": [
    "def info(**kwargs):\n",
    "    print(type(kwargs))\n",
    "    for key,value in kwargs.items():\n",
    "        print(\"{} = {}\".format(key,value))\n",
    "\n",
    "info(name='sachin',)\n",
    "print()\n",
    "info(name='python',framework=['django','flask'])\n",
    "print()\n",
    "def info(**info):\n",
    "    return info\n",
    "st1 = info(name=input(\"Enter your name \"),addr=input(\"Enter your address\"))\n",
    "print(st1)"
   ]
  },
  {
   "cell_type": "code",
   "execution_count": 20,
   "metadata": {
    "collapsed": true
   },
   "outputs": [],
   "source": [
    "def calc(x,y,ch):\n",
    "    ch = ch.strip()\n",
    "    if ch == '+' :\n",
    "        return x + y\n",
    "    elif ch == '-' :\n",
    "        return x - y\n",
    "    elif ch == '*' :\n",
    "        return x * y\n",
    "    elif ch == '/' or ch == '//' or ch == '%' :\n",
    "        if y == 0  :\n",
    "            return \"Error!!Can not Divide by Zero\"\n",
    "        else :\n",
    "            if ch == '/' :\n",
    "                return x / y\n",
    "            elif ch == '//' :\n",
    "                return x // y\n",
    "            else :\n",
    "                return x % y\n",
    "    elif ch == \"**\" :\n",
    "        return x ** y\n",
    "    else :\n",
    "        return \"Error!!!Invalid Operation\""
   ]
  },
  {
   "cell_type": "code",
   "execution_count": 21,
   "metadata": {},
   "outputs": [
    {
     "name": "stdout",
     "output_type": "stream",
     "text": [
      "27\n"
     ]
    }
   ],
   "source": [
    "r = calc(3,3,'**')\n",
    "print(r)"
   ]
  },
  {
   "cell_type": "code",
   "execution_count": 22,
   "metadata": {
    "collapsed": true
   },
   "outputs": [],
   "source": [
    "def fun(x,y=0,*mytuple):\n",
    "    print(\"Positional Argument : \",x)\n",
    "    print(\"Default Argument : \",y)\n",
    "    print(\"Here is Your Var length arguments : \")\n",
    "    c = 1\n",
    "    for var in mytuple :\n",
    "        print(\"{} Arg = {}\".format(c,var))\n",
    "        c = c + 1"
   ]
  },
  {
   "cell_type": "code",
   "execution_count": 23,
   "metadata": {},
   "outputs": [
    {
     "name": "stdout",
     "output_type": "stream",
     "text": [
      "Positional Argument :  1\n",
      "Default Argument :  0\n",
      "Here is Your Var length arguments : \n",
      "Positional Argument :  1\n",
      "Default Argument :  2\n",
      "Here is Your Var length arguments : \n",
      "Positional Argument :  1\n",
      "Default Argument :  2\n",
      "Here is Your Var length arguments : \n",
      "1 Arg = 3\n",
      "2 Arg = 4\n",
      "3 Arg = 5\n",
      "4 Arg = 6\n",
      "5 Arg = 7\n",
      "6 Arg = 8\n",
      "7 Arg = 9\n"
     ]
    }
   ],
   "source": [
    "fun(1)\n",
    "fun(1,2)\n",
    "fun(1,2,3,4,5,6,7,8,9)"
   ]
  },
  {
   "cell_type": "code",
   "execution_count": 31,
   "metadata": {},
   "outputs": [
    {
     "name": "stdout",
     "output_type": "stream",
     "text": [
      "(1, 2, 3)\n",
      "(4, 5, 6, 7, 8, 'hello', 'hi', 'bye')\n"
     ]
    }
   ],
   "source": [
    "def fun1(*args):\n",
    "    print(args)\n",
    "fun1(1,2,3)\n",
    "fun1(4,5,6,7,8,'hello','hi','bye')"
   ]
  },
  {
   "cell_type": "code",
   "execution_count": 38,
   "metadata": {
    "collapsed": true
   },
   "outputs": [],
   "source": [
    "def count_Digits(num):\n",
    "    \"\"\"count_Digits(num) -> This function takes a num as formal argument and return no of digits in the num.\"\"\"\n",
    "    count = 0\n",
    "    while num:\n",
    "        num = num // 10\n",
    "        count = count + 1\n",
    "    return count"
   ]
  },
  {
   "cell_type": "code",
   "execution_count": 39,
   "metadata": {},
   "outputs": [
    {
     "name": "stdout",
     "output_type": "stream",
     "text": [
      "Enter number : 45\n",
      "Number of Digits =  2\n"
     ]
    }
   ],
   "source": [
    "n_digit = count_Digits(int(input(\"Enter number : \")))\n",
    "print(\"Number of Digits = \",n_digit)"
   ]
  },
  {
   "cell_type": "code",
   "execution_count": 36,
   "metadata": {},
   "outputs": [
    {
     "name": "stdout",
     "output_type": "stream",
     "text": [
      "Enter a no to calculte factorial : 21\n",
      "Time Taken =  0.0\n"
     ]
    }
   ],
   "source": [
    "#recursion\n",
    "#Factorial\n",
    "import time \n",
    "num = int(input(\"Enter a no to calculte factorial : \"))\n",
    "c = time.time() #returns current time\n",
    "s = 1\n",
    "for var in range(1,num+1):\n",
    "    s = s * var\n",
    "n = time.time()   \n",
    "#print(s)\n",
    "print(\"Time Taken = \",n-c)   #show that how much total time has been taken"
   ]
  },
  {
   "cell_type": "code",
   "execution_count": 40,
   "metadata": {
    "collapsed": true
   },
   "outputs": [],
   "source": [
    "# Armstrong Number\n",
    "def check_Armstrong(num):\n",
    "    p = count_Digits(num)   #calls the function define above\n",
    "    copy_num = num\n",
    "    s = 0\n",
    "    while num :\n",
    "        r = num % 10 \n",
    "        s = s + r**p\n",
    "        num = num // 10 \n",
    "    if s == copy_num :\n",
    "        return True\n",
    "    else :\n",
    "        return False\n",
    "    "
   ]
  },
  {
   "cell_type": "code",
   "execution_count": 41,
   "metadata": {
    "collapsed": true
   },
   "outputs": [],
   "source": [
    "def armstrong():\n",
    "    if check_Armstrong(int(input(\"Enter a number : \"))) :\n",
    "        print(\"Given number is Armstrong \")\n",
    "    else :\n",
    "        print(\"Given number is not A Armstrong Number \")\n",
    "    if input(\"\\nType something to repeat Again\") :\n",
    "        armstrong()"
   ]
  },
  {
   "cell_type": "code",
   "execution_count": 42,
   "metadata": {},
   "outputs": [
    {
     "name": "stdout",
     "output_type": "stream",
     "text": [
      "Enter a number : 32\n",
      "Given number is not A Armstrong Number \n",
      "\n",
      "Type something to repeat Again\n"
     ]
    }
   ],
   "source": [
    "armstrong()"
   ]
  },
  {
   "cell_type": "code",
   "execution_count": null,
   "metadata": {
    "collapsed": true
   },
   "outputs": [],
   "source": []
  }
 ],
 "metadata": {
  "kernelspec": {
   "display_name": "Python 3",
   "language": "python",
   "name": "python3"
  },
  "language_info": {
   "codemirror_mode": {
    "name": "ipython",
    "version": 3
   },
   "file_extension": ".py",
   "mimetype": "text/x-python",
   "name": "python",
   "nbconvert_exporter": "python",
   "pygments_lexer": "ipython3",
   "version": "3.6.3"
  }
 },
 "nbformat": 4,
 "nbformat_minor": 2
}
