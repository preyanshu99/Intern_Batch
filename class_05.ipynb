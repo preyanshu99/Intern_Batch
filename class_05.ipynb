{
 "cells": [
  {
   "cell_type": "markdown",
   "metadata": {},
   "source": [
    "# Algorithm"
   ]
  },
  {
   "cell_type": "markdown",
   "metadata": {},
   "source": [
    "1. Algorithm is a step-by-step procedure, which defines a set of instructions to be executed in a certain order to get the desired output. \n",
    "2. Algorithms are generally created independent of underlying languages, i.e. an algorithm can be implemented in more than one programming language."
   ]
  },
  {
   "cell_type": "markdown",
   "metadata": {},
   "source": [
    "From the data structure point of view, following are some important categories of algorithms−\n",
    "1. Search − Algorithm to search an item in a data structure.\n",
    "\n",
    "2. Sort − Algorithm to sort items in a certain order.\n",
    "\n",
    "3. Insert − Algorithm to insert item in a data structure.\n",
    "\n",
    "4. Update − Algorithm to update an existing item in a data structure.\n",
    "\n",
    "5. Delete − Algorithm to delete an existing item from a data structure."
   ]
  },
  {
   "cell_type": "markdown",
   "metadata": {},
   "source": [
    "# Characteristics of an Algorithm"
   ]
  },
  {
   "cell_type": "markdown",
   "metadata": {},
   "source": [
    "Not all procedures can be called an algorithm. An algorithm should have the following characteristics −\n",
    "\n",
    "   1. Unambiguous − Algorithm should be clear and unambiguous. Each of its steps (or phases), and their inputs/outputs should be       clear and must lead to only one meaning.\n",
    "\n",
    "   2. Input − An algorithm should have 0 or more well-defined inputs.\n",
    "\n",
    "   3. Output − An algorithm should have 1 or more well-defined outputs, and should match the desired output.\n",
    "\n",
    "   4. Finiteness − Algorithms must terminate after a finite number of steps.\n",
    "\n",
    "   5. Feasibility − Should be feasible with the available resources.\n",
    "\n",
    "   6. Independent − An algorithm should have step-by-step directions, which should be independent of any programming code."
   ]
  },
  {
   "cell_type": "markdown",
   "metadata": {},
   "source": [
    "# How to Write an Algorithm?"
   ]
  },
  {
   "cell_type": "markdown",
   "metadata": {},
   "source": [
    "1. There are no well-defined standards for writing algorithms. Rather, it is problem and resource dependent. Algorithms are        never written to support a particular programming code.\n",
    "\n",
    "2. As we know that all programming languages share basic code constructs like loops (do, for, while), flow-control (if-else),      etc. These common constructs can be used to write an algorithm.\n",
    "\n",
    "3. We write algorithms in a step-by-step manner, but it is not always the case. Algorithm writing is a process and is executed      after the problem domain is well-defined. That is, we should know the problem domain, for which we are designing a solution."
   ]
  },
  {
   "cell_type": "markdown",
   "metadata": {},
   "source": [
    " #An algorithm to add two numbers and display the result.\n",
    "1. step 1 − START\n",
    "2. step 2 − declare three integers a, b & c\n",
    "3. step 3 − define values of a & b\n",
    "4. step 4 − add values of a & b\n",
    "5. step 5 − store output of step 4 to c\n",
    "6. step 6 − print c\n",
    "7. step 7 − STOP"
   ]
  },
  {
   "cell_type": "markdown",
   "metadata": {},
   "source": [
    "#Or alternatively we can write the algorithm like this\n",
    "#similarly algorithm for subtraction can be written\n",
    "1. step 1 − START ADD\n",
    "2. step 2 − get values of a & b\n",
    "3. step 3 − c ← a + b\n",
    "4. step 4 − display c\n",
    "5. step 5 − STOP"
   ]
  },
  {
   "cell_type": "code",
   "execution_count": 13,
   "metadata": {},
   "outputs": [],
   "source": [
    "#Given a list of positive numbers, return the largest number on the list.\n",
    "\n",
    "\n",
    "#Set max to 0.\n",
    "#For each number x in the list L, compare it to max. If x is larger, set max to x.\n",
    "#max is now set to the largest number in the list."
   ]
  },
  {
   "cell_type": "markdown",
   "metadata": {},
   "source": [
    "# Flowchart"
   ]
  },
  {
   "cell_type": "markdown",
   "metadata": {},
   "source": [
    "1. Flowchart Python is essentially the Python programming language in visual form. \n",
    "2. You write a program by setting up a flowchart. When you run the flowchart, the software compiles to python byte-code, so that    you can easily import modules you write in Flowchart Python into standard Python programs. \n"
   ]
  },
  {
   "cell_type": "markdown",
   "metadata": {},
   "source": [
    "# Decision Making Statements "
   ]
  },
  {
   "cell_type": "markdown",
   "metadata": {},
   "source": [
    "Decision making statements in programming languages decides the direction of flow of program execution. Decision making statements available in python are:\n",
    "\n",
    "1. if statement\n",
    "2. if..else statements\n",
    "3. if-elif ladder"
   ]
  },
  {
   "cell_type": "markdown",
   "metadata": {},
   "source": [
    "## If statement"
   ]
  },
  {
   "cell_type": "markdown",
   "metadata": {},
   "source": [
    "if statement is the most simple decision making statement. It is used to decide whether a certain statement or block of statements will be executed or not i.e if a certain condition is true then a block of statement is executed otherwise not.\n"
   ]
  },
  {
   "cell_type": "code",
   "execution_count": 5,
   "metadata": {},
   "outputs": [],
   "source": [
    "#syntax\n",
    "   #if condition:\n",
    "       #statement1\n",
    "   #statement2\n"
   ]
  },
  {
   "cell_type": "code",
   "execution_count": 1,
   "metadata": {},
   "outputs": [
    {
     "name": "stdout",
     "output_type": "stream",
     "text": [
      "I am Not in if\n"
     ]
    }
   ],
   "source": [
    "#program to illustrate If statement \n",
    "  \n",
    "i = 10\n",
    "if (i > 15): \n",
    "    print(\"10 is less than 15\") \n",
    "print(\"I am Not in if\") "
   ]
  },
  {
   "cell_type": "markdown",
   "metadata": {},
   "source": [
    "## if- else"
   ]
  },
  {
   "cell_type": "markdown",
   "metadata": {},
   "source": [
    "1. The if statement alone tells us that if a condition is true it will execute a block of statements and if the condition is false it won’t.\n",
    "             ## But what if we want to do something else if the condition is false. \n",
    "3. Here comes the else statement. We can use the else statement with if statement to execute a block of code when the condition is false."
   ]
  },
  {
   "cell_type": "markdown",
   "metadata": {},
   "source": [
    "# syntax\n",
    "#if (condition):\n",
    "    # Executes this block if\n",
    "    # condition is true\n",
    "#else:\n",
    "    # Executes this block if\n",
    "    # condition is false"
   ]
  },
  {
   "cell_type": "code",
   "execution_count": 3,
   "metadata": {},
   "outputs": [
    {
     "name": "stdout",
     "output_type": "stream",
     "text": [
      "i is greater than 15\n",
      "i'm in else Block\n"
     ]
    }
   ],
   "source": [
    "#program to illustrate If else statement \n",
    "  \n",
    "i = 20; \n",
    "if (i < 15): \n",
    "    print (\"i is smaller than 15\") \n",
    "    print (\"i'm in if Block\") \n",
    "else: \n",
    "    print (\"i is greater than 15\") \n",
    "    print (\"i'm in else Block\") "
   ]
  },
  {
   "cell_type": "code",
   "execution_count": 6,
   "metadata": {},
   "outputs": [
    {
     "name": "stdout",
     "output_type": "stream",
     "text": [
      "Enter a number : 689\n",
      "Odd\n"
     ]
    }
   ],
   "source": [
    "#EVEN ODD \n",
    "\n",
    "x = int(input(\"Enter a number : \"))\n",
    "if x % 2 == 0 :\n",
    "    print(\"Even\")\n",
    "else : \n",
    "    print(\"Odd\")"
   ]
  },
  {
   "cell_type": "code",
   "execution_count": 8,
   "metadata": {},
   "outputs": [
    {
     "name": "stdout",
     "output_type": "stream",
     "text": [
      "Enter x : 45\n",
      "Enter y : 67\n",
      "Enter z : 12\n",
      "67 is greater than 45 and 12\n"
     ]
    }
   ],
   "source": [
    "#find greatest among three \n",
    "x = int(input(\"Enter x : \"))\n",
    "y = int(input(\"Enter y : \"))\n",
    "z = int(input(\"Enter z : \"))\n",
    "\n",
    "if x >= y and x >= z : \n",
    "    \n",
    "    print(\"{} is greater than {} and {} \".format(x,y,z))\n",
    "\n",
    "else : \n",
    "    \n",
    "    if y >= x and y >= z :\n",
    "        \n",
    "        print(\"{} is greater than {} and {}\".format(y,x,z))\n",
    "    \n",
    "    else :\n",
    "        print(\"{} is greater than {} and {}\".format(z,x,y))\n",
    "        "
   ]
  },
  {
   "cell_type": "markdown",
   "metadata": {},
   "source": [
    "# if-elif-else"
   ]
  },
  {
   "cell_type": "markdown",
   "metadata": {},
   "source": [
    "Here, a user can decide among multiple options. The if statements are executed from the top down. As soon as one of the conditions controlling the if is true, the statement associated with that if is executed, and the rest of the ladder is bypassed. If none of the conditions is true, then the final else statement will be executed."
   ]
  },
  {
   "cell_type": "markdown",
   "metadata": {},
   "source": [
    "## syntax\n",
    "     if (condition):\n",
    "        statement\n",
    "    elif (condition):\n",
    "        statement\n",
    "    .\n",
    "    .\n",
    "    else:\n",
    "        statement"
   ]
  },
  {
   "cell_type": "code",
   "execution_count": 10,
   "metadata": {},
   "outputs": [
    {
     "name": "stdout",
     "output_type": "stream",
     "text": [
      "x : 45\n",
      "y : 67\n",
      "z : 12\n",
      "67 is greater than 45 and 12\n"
     ]
    }
   ],
   "source": [
    "x = int(input(\"x : \"))\n",
    "y = int(input(\"y : \"))\n",
    "z = int(input(\"z : \"))\n",
    "\n",
    "if x >= y and x >= z :\n",
    "    if x == y :\n",
    "        print(\"{} is equals to {} and greater {}\".format(x,y,z))\n",
    "    elif x == z :\n",
    "        print(\"{} is equals to {} and greater {}\".format(x,z,y))\n",
    "    else :\n",
    "        print(\"{} is greater than {} and {}\".format(x,y,z))\n",
    "elif y >= x and y >= z :\n",
    "    if x == y :\n",
    "        print(\"{} is equals to {} and greater {}\".format(y,x,z))\n",
    "    elif y == z :\n",
    "        print(\"{} is equals to {} and greater {}\".format(y,z,x))\n",
    "    else :\n",
    "        print(\"{} is greater than {} and {}\".format(y,x,z))\n",
    "\n",
    "else :\n",
    "    \n",
    "    if z == y :\n",
    "        print(\"{} is equals to {} and greater {}\".format(z,y,x))\n",
    "    elif z == x :\n",
    "        print(\"{} is equals to {} and greater {}\".format(z,x,y))\n",
    "    else :\n",
    "        print(\"{} is greater than {} and {}\".format(z,x,y))\n",
    "    "
   ]
  },
  {
   "cell_type": "code",
   "execution_count": 9,
   "metadata": {},
   "outputs": [
    {
     "name": "stdout",
     "output_type": "stream",
     "text": [
      "A : 45\n",
      "B : 68\n",
      "C : 93\n",
      "C is Greatest \n"
     ]
    }
   ],
   "source": [
    "#Greatest among Three numbers \n",
    "a = int(input(\"A : \"))\n",
    "b = int(input(\"B : \"))\n",
    "c = int(input(\"C : \"))\n",
    "\n",
    "if a >= b :\n",
    "    if a >= c :\n",
    "        print(\"A is greatest \")\n",
    "    else :\n",
    "        print(\"C is greatest \")\n",
    "elif b >= c :\n",
    "    print(\"B is Greatest\")\n",
    "\n",
    "else :\n",
    "    print(\"C is Greatest \")"
   ]
  },
  {
   "cell_type": "code",
   "execution_count": 11,
   "metadata": {},
   "outputs": [
    {
     "name": "stdout",
     "output_type": "stream",
     "text": [
      "X : 45\n",
      "Y : 67\n",
      "Choose one of these : \n",
      "1.Addition\n",
      "2.Substraction\n",
      "3.Multiplication\n",
      "4.Division\n",
      "5.Modules\n",
      "6.Floor Division\n",
      "7.Exponent(Power)\n",
      "Your Choice : 1\n",
      "Addition of 45 and 67 is 112.\n"
     ]
    }
   ],
   "source": [
    "#calculator \n",
    "x = int(input(\"X : \"))\n",
    "y = int(input(\"Y : \"))\n",
    "\n",
    "print(\"Choose one of these : \")\n",
    "print(\"1.Addition\\n2.Substraction\\n3.Multiplication\\n4.Division\")\n",
    "print(\"5.Modules\\n6.Floor Division\\n7.Exponent(Power)\")\n",
    "\n",
    "choice = int(input(\"Your Choice : \"))\n",
    "\n",
    "if choice == 1 : \n",
    "    print(\"Addition of {} and {} is {}.\".format(x,y,x+y))\n",
    "elif choice == 2 : \n",
    "    print(\"Substraction of {} and {} is {}.\".format(x,y,x-y))\n",
    "elif choice == 3 : \n",
    "    print(\"Multiplication of {} and {} is {}.\".format(x,y,x*y))\n",
    "elif choice == 4 : \n",
    "    result = \"%.2f\"%(x/y)\n",
    "    print(\"Division of {} by {} is {}.\".format(x,y,result))\n",
    "elif choice == 5 : \n",
    "    print(\"Modules of {} by {} is {}.\".format(x,y,x%y))\n",
    "elif choice == 6 : \n",
    "    print(\"Floore Division of {} by {} is {}.\".format(x,y,x//y))\n",
    "elif choice == 7 : \n",
    "    print(\"Exponent (Power) of {} to the {} is {}.\".format(x,y,x**y))\n",
    "else :\n",
    "    print(\"Error : Invalid Choice \")"
   ]
  },
  {
   "cell_type": "code",
   "execution_count": 12,
   "metadata": {},
   "outputs": [
    {
     "name": "stdout",
     "output_type": "stream",
     "text": [
      "Welcome to Rock Paper Scissor Program \n",
      "Enter Choice as \n",
      "*******************************rock,paper,scissor*******************************\n",
      "Player1 : ········\n",
      "Player2 : ········\n",
      "*********************************************Processing*********************************************\n",
      "Player1 Choice was : ROCK \n",
      "Player2 Choice was : PAPER \n",
      "*****************************************Processing Result******************************************\n",
      "\n",
      "\n",
      "\n",
      "#######################################Player2 is The Winner########################################\n",
      "\n",
      "\n",
      "\n",
      "**********************************************Bye Bye***********************************************\n"
     ]
    }
   ],
   "source": [
    "#Game Rock Paper Scissor\n",
    "from getpass import getpass #to take hiddin inputs works as input function \n",
    "from time import sleep #used to delay the program by seconds \n",
    "\n",
    "print(\"Welcome to Rock Paper Scissor Program \")\n",
    "sleep(1)\n",
    "print(\"Enter Choice as \")\n",
    "sleep(1)\n",
    "s = \"rock,paper,scissor\"\n",
    "print(s.center(80,'*'))\n",
    "sleep(1)\n",
    "p1 = getpass(\"Player1 : \").strip()\n",
    "p1 = p1.lower()\n",
    "if p1 == 'rock' or p1 == 'paper' or p1 == 'scissor' :\n",
    "    pass\n",
    "else :\n",
    "    print(\"Error!!Invalid Choice\")\n",
    "    exit(0)\n",
    "sleep(1)\n",
    "p2 = getpass(\"Player2 : \").strip()\n",
    "p2 = p2.lower()\n",
    "if p2 == 'rock' or p2 == 'paper' or p2 == 'scissor' :\n",
    "    pass\n",
    "else :\n",
    "    print(\"Error!!Invalid Choice\")\n",
    "    exit(0)\n",
    "\n",
    "sleep(1)\n",
    "s = \"Processing\"\n",
    "print(s.center(100,\"*\"))\n",
    "sleep(2)\n",
    "print(\"Player1 Choice was : {} \".format(p1.upper()))\n",
    "print(\"Player2 Choice was : {} \".format(p2.upper()))\n",
    "s = \"Processing Result\"\n",
    "print(s.center(100,'*'))\n",
    "sleep(2)\n",
    "\n",
    "if p1 == p2 :\n",
    "    print(\"\\n\\n\")\n",
    "    print(\"Match is Tie\".center(100,'#'))\n",
    "    print(\"\\n\\n\")\n",
    "\n",
    "elif ( p1 == 'rock' and p2 == 'scissor' ) or ( p1 == 'paper' and p2 == 'rock' ) or ( p1 == 'scissor' and p2 == 'paper') :\n",
    "    print(\"\\n\\n\")\n",
    "    print(\"Player1 is The Winner\".center(100,'#'))\n",
    "    print(\"\\n\\n\")\n",
    "\n",
    "else :\n",
    "    \n",
    "    print(\"\\n\\n\")\n",
    "    print(\"Player2 is The Winner\".center(100,'#'))\n",
    "    print(\"\\n\\n\")\n",
    "\n",
    "sleep(2)\n",
    "print(\"Bye Bye\".center(100,'*'))\n",
    "sleep(2)"
   ]
  },
  {
   "cell_type": "code",
   "execution_count": null,
   "metadata": {},
   "outputs": [],
   "source": []
  }
 ],
 "metadata": {
  "kernelspec": {
   "display_name": "Python 3",
   "language": "python",
   "name": "python3"
  },
  "language_info": {
   "codemirror_mode": {
    "name": "ipython",
    "version": 3
   },
   "file_extension": ".py",
   "mimetype": "text/x-python",
   "name": "python",
   "nbconvert_exporter": "python",
   "pygments_lexer": "ipython3",
   "version": "3.6.5"
  }
 },
 "nbformat": 4,
 "nbformat_minor": 2
}
