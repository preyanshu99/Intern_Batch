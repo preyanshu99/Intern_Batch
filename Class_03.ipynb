{
 "cells": [
  {
   "cell_type": "markdown",
   "metadata": {},
   "source": [
    "# List"
   ]
  },
  {
   "cell_type": "markdown",
   "metadata": {},
   "source": [
    "1. Lists are one of the most powerful tools in Python. \n",
    "2. They are just like the arrays declared in other languages. \n",
    "3. But the most powerful thing is that list need not be always homogeneous.\n",
    "4. A single list can contain strings, integers, as well as objects.\n",
    "5. Lists can also be used for implementing stacks and queues. \n",
    "6. Lists are mutable, i.e., they can be altered once declared."
   ]
  },
  {
   "cell_type": "code",
   "execution_count": 1,
   "metadata": {},
   "outputs": [
    {
     "name": "stdout",
     "output_type": "stream",
     "text": [
      "[1, 'a', 'string', 3]\n"
     ]
    }
   ],
   "source": [
    "# Declaring and printing list \n",
    "L = [1, \"a\" , \"string\" , 1+2] \n",
    "print(L) \n",
    "  "
   ]
  },
  {
   "cell_type": "code",
   "execution_count": 4,
   "metadata": {},
   "outputs": [
    {
     "name": "stdout",
     "output_type": "stream",
     "text": [
      "['hello', 'hi', 'how are you']\n",
      "how are you\n",
      "Homogeneous List : [56, 23, 45, 12, 67, 12, 43, 1, 6, 8, 6, 33, 12]\n",
      "12\n",
      "Non-Homogeneous List :  ['hello', 'hi', 3, 4.5]\n",
      "hi\n"
     ]
    }
   ],
   "source": [
    "l = [ 'hello','hi','how are you' ] # Homogenous List(contains element of same type)\n",
    "    #  0       1      2    (indexing)\n",
    "print(l)\n",
    "print(l[2]) #print element at index 2\n",
    "l = [ 56,23,45,12,67,12,43,1,6,8,6,33,12] #Homogenous list\n",
    "print(\"Homogeneous List :\",l)\n",
    "print(l[5])\n",
    "l = [ 'hello','hi', 3, 4.5 ] #Non-homogeneous List (contains element of differnt type)\n",
    "#       -4   -3   -2     -1\n",
    "print(\"Non-Homogeneous List : \",l)\n",
    "print(l[-3])"
   ]
  },
  {
   "cell_type": "code",
   "execution_count": 6,
   "metadata": {},
   "outputs": [
    {
     "name": "stdout",
     "output_type": "stream",
     "text": [
      "[45, 12, 67, 12, 43, 1, 6, 8]\n",
      "Items in original list :  13\n",
      "Reverse of List  [12, 33, 6, 8, 6, 1, 43, 12, 67, 12, 45, 23, 56]\n",
      "[33, 6, 8, 6, 1, 43, 12]\n"
     ]
    }
   ],
   "source": [
    "l = [ 56,23,45,12,67,12,43,1,6,8,6,33,12]\n",
    "print(l[2:10])  #SLICING (print element from index 0 to n-1) here it prints element from index 2 to 9\n",
    "print(\"Items in original list : \",len(l))\n",
    "x = None \n",
    "y = None\n",
    "z = -1\n",
    "print(\"Reverse of List \",l[x:y:z])  #([starting_point:ending_point:step]) here starting and ending point is none and step is -1\n",
    "x = -2\n",
    "y = -9\n",
    "z = -1\n",
    "print(l[x:y:z])\n"
   ]
  },
  {
   "cell_type": "code",
   "execution_count": 7,
   "metadata": {},
   "outputs": [
    {
     "name": "stdout",
     "output_type": "stream",
     "text": [
      "Attributes and Methods of list : \n",
      "['__add__', '__class__', '__contains__', '__delattr__', '__delitem__', '__dir__', '__doc__', '__eq__', '__format__', '__ge__', '__getattribute__', '__getitem__', '__gt__', '__hash__', '__iadd__', '__imul__', '__init__', '__init_subclass__', '__iter__', '__le__', '__len__', '__lt__', '__mul__', '__ne__', '__new__', '__reduce__', '__reduce_ex__', '__repr__', '__reversed__', '__rmul__', '__setattr__', '__setitem__', '__sizeof__', '__str__', '__subclasshook__', 'append', 'clear', 'copy', 'count', 'extend', 'index', 'insert', 'pop', 'remove', 'reverse', 'sort']\n",
      "[56, 23, 45, 12, 67, 12, 43, 1, 6, 8, 6, 33, 12]\n"
     ]
    }
   ],
   "source": [
    "print(\"Attributes and Methods of list : \")\n",
    "print(dir(l))\n",
    "print(l)"
   ]
  },
  {
   "cell_type": "markdown",
   "metadata": {},
   "source": [
    "Operation on a list\n",
    "to Add items\n",
    "1. append\n",
    "2. insert\n",
    "3. extend\n",
    "\n",
    "to Delete items\n",
    "1. pop\n",
    "2. remove\n",
    "\n",
    "to Common Operation\n",
    "\n",
    "1. sort\n",
    "2. copy\n",
    "3. reverse\n",
    "4. count\n",
    "5. index\n",
    "6. clear"
   ]
  },
  {
   "cell_type": "markdown",
   "metadata": {},
   "source": [
    "# Bulid_in Functions to Add Items"
   ]
  },
  {
   "cell_type": "code",
   "execution_count": 8,
   "metadata": {},
   "outputs": [
    {
     "name": "stdout",
     "output_type": "stream",
     "text": [
      "['hi', 3.14, 'how', 'item']\n",
      "['hi', 3.14, 'how', 'item', 122335]\n",
      "['hi', 3.14, 'how', 'item', 122335, [9, 8, 7, 6, 5, 4, 3]]\n"
     ]
    }
   ],
   "source": [
    "#append(item) insert element at the end of the list\n",
    "l = [ 'hi',3.14,'how']\n",
    "l.append('item')\n",
    "print(l)\n",
    "l.append(122335)\n",
    "print(l)\n",
    "k = [ 9,8,7,6,5,4,3,]\n",
    "l.append(k)\n",
    "print(l)\n"
   ]
  },
  {
   "cell_type": "code",
   "execution_count": 9,
   "metadata": {},
   "outputs": [
    {
     "name": "stdout",
     "output_type": "stream",
     "text": [
      "['hello', 3.14, 'hi', 1452, 432423, 434, 234]\n"
     ]
    }
   ],
   "source": [
    "#insert(index,item) insert item at given index \n",
    "l = [ 'hello', 3.14,1452,432423,434,234]\n",
    "l.insert(2,'hi')\n",
    "print(l)"
   ]
  },
  {
   "cell_type": "code",
   "execution_count": 10,
   "metadata": {},
   "outputs": [
    {
     "name": "stdout",
     "output_type": "stream",
     "text": [
      "['p', 'y', 't', 'h', 'o', 'n']\n"
     ]
    }
   ],
   "source": [
    "#extend(sequence) \n",
    "l = []\n",
    "l.extend('python')\n",
    "print(l)\n"
   ]
  },
  {
   "cell_type": "code",
   "execution_count": 12,
   "metadata": {},
   "outputs": [
    {
     "name": "stdout",
     "output_type": "stream",
     "text": [
      "['java', 'c', 'c++', 'python']\n"
     ]
    }
   ],
   "source": [
    "l = []\n",
    "k = [ 'java','c','c++','python'] \n",
    "l.extend(k)\n",
    "print(l)"
   ]
  },
  {
   "cell_type": "markdown",
   "metadata": {},
   "source": [
    "# Bulid_in Functions to Remove Items"
   ]
  },
  {
   "cell_type": "code",
   "execution_count": 13,
   "metadata": {},
   "outputs": [
    {
     "name": "stdout",
     "output_type": "stream",
     "text": [
      "[5, 6, 67, 5324, 324]\n",
      "Item  324 is deleted from list\n",
      "[5, 6, 67, 5324]\n"
     ]
    }
   ],
   "source": [
    "#delete item from list\n",
    "l = [ 5,6,67,5324,324]\n",
    "print(l)\n",
    "x = l.pop() #just opposite of append i.e delete the last element in list\n",
    "print(\"Item \",x,\"is deleted from list\")\n",
    "print(l)"
   ]
  },
  {
   "cell_type": "code",
   "execution_count": 14,
   "metadata": {},
   "outputs": [
    {
     "name": "stdout",
     "output_type": "stream",
     "text": [
      "[10, 9, 9, 34, 2, 43213, 21]\n",
      "item at index 5 is 43213 is deleted\n",
      "[10, 9, 9, 34, 2, 21]\n"
     ]
    }
   ],
   "source": [
    "#pop(index)\n",
    "l = [10,9,9,34,2,43213,21]\n",
    "print(l)\n",
    "k = l.pop(5)\n",
    "print(\"item at index 5 is {} is deleted\".format(k))\n",
    "print(l)"
   ]
  },
  {
   "cell_type": "code",
   "execution_count": 15,
   "metadata": {},
   "outputs": [
    {
     "name": "stdout",
     "output_type": "stream",
     "text": [
      "['hi', 'hello', 'how are you', 'hi', 'hi']\n",
      "['hello', 'how are you', 'hi', 'hi']\n"
     ]
    }
   ],
   "source": [
    "#remove(item) remove particular item from list\n",
    "l = [ 'hi','hello','how are you','hi','hi']\n",
    "print(l)\n",
    "l.remove('hi')\n",
    "print(l)"
   ]
  },
  {
   "cell_type": "markdown",
   "metadata": {},
   "source": [
    "# Common Functions"
   ]
  },
  {
   "cell_type": "code",
   "execution_count": 16,
   "metadata": {},
   "outputs": [
    {
     "name": "stdout",
     "output_type": "stream",
     "text": [
      "[56, 23, 45, 12, 67, 12, 43, 1, 6, 8, 6, 33, 12]\n",
      "Sorted k :  [1, 6, 6, 8, 12, 12, 12, 23, 33, 43, 45, 56, 67]\n",
      "[1, 6, 6, 8, 12, 12, 12, 23, 33, 43, 45, 56, 67]\n",
      "Sorted l :  [67, 56, 45, 43, 33, 23, 12, 12, 12, 8, 6, 6, 1]\n"
     ]
    }
   ],
   "source": [
    "#Common Function on Python List\n",
    "#sort()-> it will sort list in accending ( list should be homogenous )\n",
    "#sort(reverse=True)->it will sort in decending order\n",
    "l = [ 56,23,45,12,67,12,43,1,6,8,6,33,12]\n",
    "k = l\n",
    "print(k)\n",
    "k.sort() #sort the list k\n",
    "print(\"Sorted k : \",k)\n",
    "print(l)\n",
    "l.sort(reverse=True)\n",
    "print(\"Sorted l : \",l)"
   ]
  },
  {
   "cell_type": "code",
   "execution_count": 18,
   "metadata": {},
   "outputs": [
    {
     "name": "stdout",
     "output_type": "stream",
     "text": [
      "zebra apple something eye flag computer python\n",
      "apple computer eye flag python something zebra\n",
      "zebra apple something eye flag computer python\n",
      "zebra something python flag eye computer apple\n"
     ]
    }
   ],
   "source": [
    "l = [ 'zebra','apple','something','eye','flag','computer','python']\n",
    "k = [ 'zebra','apple','something','eye','flag','computer','python']\n",
    "print(*l)  #prints only elements in list l \n",
    "l.sort()\n",
    "print(*l)  #print after sorting alphabetically\n",
    "print(*k)\n",
    "k.sort(reverse=True)\n",
    "print(*k)\n"
   ]
  },
  {
   "cell_type": "code",
   "execution_count": 19,
   "metadata": {},
   "outputs": [
    {
     "name": "stdout",
     "output_type": "stream",
     "text": [
      "[['hi', 10, 32], ['abc', 100, 2, 3], ['something', 5, 6, 7, 8], ['popcorn', 9, 10, 11, 12]]\n",
      "[['abc', 100, 2, 3], ['hi', 10, 32], ['popcorn', 9, 10, 11, 12], ['something', 5, 6, 7, 8]]\n"
     ]
    }
   ],
   "source": [
    "mylist = [ \n",
    "    ['hi',10,32],\n",
    "    ['abc',100,2,3,],\n",
    "    ['something',5,6,7,8],\n",
    "    ['popcorn',9,10,11,12]\n",
    "]\n",
    "print(mylist)\n",
    "mylist.sort() #sort according to the element at index 0 of every sublist\n",
    "print(mylist)"
   ]
  },
  {
   "cell_type": "code",
   "execution_count": 27,
   "metadata": {},
   "outputs": [
    {
     "name": "stdout",
     "output_type": "stream",
     "text": [
      "[7, 6, 5, 4, 3, 2, 1]\n",
      "[1, 2, 3, 4, 5, 6, 7]\n",
      "[7, 6, 5, 4, 3, 2, 1]\n"
     ]
    }
   ],
   "source": [
    "#reverse -> Reverse the order of items in the list\n",
    "l = [ 1,2,3,4,5,6,7]\n",
    "x = l[::-1] #reverse the list through slicing\n",
    "print(x)\n",
    "print(l)\n",
    "l.reverse()\n",
    "print(l)"
   ]
  },
  {
   "cell_type": "code",
   "execution_count": 22,
   "metadata": {},
   "outputs": [
    {
     "name": "stdout",
     "output_type": "stream",
     "text": [
      "[1, 2, 3, 4, 5]\n",
      "[1, 2, 3, 4, 5]\n",
      "[1, 2, 5, 4, 5]\n",
      "[1, 2, 5, 4, 5]\n"
     ]
    }
   ],
   "source": [
    "#copy -> Returns a shallow copy of the list\n",
    "l = [ 1,2,3,4,5]\n",
    "k = l.copy()\n",
    "z = l\n",
    "print(l)\n",
    "l[2]= 5 #will change only in list l not in their copies\n",
    "print(k)\n",
    "print(z)\n",
    "print(l)"
   ]
  },
  {
   "cell_type": "code",
   "execution_count": 23,
   "metadata": {},
   "outputs": [
    {
     "name": "stdout",
     "output_type": "stream",
     "text": [
      "9\n",
      "63243\n",
      "1\n",
      "5\n"
     ]
    }
   ],
   "source": [
    "#index -> Returns the index of the first matched item\n",
    "l = [ 12,3,4532,3213,45,423,453241,53,42,4542,4,63243,4542,5,34,3445,3,34,34,234,324]\n",
    "k = l.index(4542)\n",
    "print(k)\n",
    "print(l[k+2])\n",
    "l = [ 'hello','hi',12,23,23,[1,23],'hi']\n",
    "k = l.index('hi')\n",
    "j = l.index([1,23])\n",
    "print(k)\n",
    "print(j)"
   ]
  },
  {
   "cell_type": "code",
   "execution_count": 25,
   "metadata": {},
   "outputs": [
    {
     "name": "stdout",
     "output_type": "stream",
     "text": [
      "['hello', 'hi', 'bye', 1, 2, 3]\n",
      "[]\n"
     ]
    }
   ],
   "source": [
    "#clear -> Removes all items from the list\n",
    "mylist = [ 'hello','hi','bye',1,2,3]\n",
    "print(mylist)\n",
    "mylist.clear()\n",
    "print(mylist)"
   ]
  },
  {
   "cell_type": "code",
   "execution_count": 26,
   "metadata": {},
   "outputs": [
    {
     "name": "stdout",
     "output_type": "stream",
     "text": [
      "[1, 6, 3, 2, 1, 34, 64, 1, 3, 5654, 1, 344, 62, 1, 346, 3, 1, 35464, 1, 35235, 1, 4352, 3]\n",
      "4\n",
      "8\n"
     ]
    }
   ],
   "source": [
    "#count -> Returns the count of number of items passed as an argument\n",
    "l = [ 1,6,3,2,1,34,64,1,3,5654,1,344,62,1,346,3,1,35464,1,35235,1,4352,3]\n",
    "print(l)\n",
    "x = l.count(3)\n",
    "y = l.count(1)\n",
    "print(x)\n",
    "print(y)"
   ]
  },
  {
   "cell_type": "markdown",
   "metadata": {},
   "source": [
    "# Tuple"
   ]
  },
  {
   "cell_type": "markdown",
   "metadata": {},
   "source": [
    "1. A Tuple is a collection of Python objects separated by commas. \n",
    "2. In someways a tuple is similar to a list in terms of indexing, nested objects and repetition but a tuple is immutable unlike lists which are mutable."
   ]
  },
  {
   "cell_type": "code",
   "execution_count": 29,
   "metadata": {},
   "outputs": [
    {
     "name": "stdout",
     "output_type": "stream",
     "text": [
      "('python', 'geeks')\n",
      "('python', 'geeks')\n"
     ]
    }
   ],
   "source": [
    "# Creating non-empty tuples \n",
    "  \n",
    "# One way of creation \n",
    "tup = 'python', 'geeks'\n",
    "print(tup) \n",
    "  \n",
    "# Another for doing the same \n",
    "tup = ('python', 'geeks') \n",
    "print(tup) "
   ]
  },
  {
   "cell_type": "code",
   "execution_count": 28,
   "metadata": {},
   "outputs": [
    {
     "name": "stdout",
     "output_type": "stream",
     "text": [
      "(5, 6, 7)\n",
      "<class 'tuple'>\n",
      "['__add__', '__class__', '__contains__', '__delattr__', '__dir__', '__doc__', '__eq__', '__format__', '__ge__', '__getattribute__', '__getitem__', '__getnewargs__', '__gt__', '__hash__', '__init__', '__init_subclass__', '__iter__', '__le__', '__len__', '__lt__', '__mul__', '__ne__', '__new__', '__reduce__', '__reduce_ex__', '__repr__', '__rmul__', '__setattr__', '__sizeof__', '__str__', '__subclasshook__', 'count', 'index']\n"
     ]
    }
   ],
   "source": [
    "t = ( 5,6,7)\n",
    "print(t)\n",
    "print(type(t))\n",
    "print(dir(t))"
   ]
  },
  {
   "cell_type": "code",
   "execution_count": 32,
   "metadata": {},
   "outputs": [
    {
     "ename": "TypeError",
     "evalue": "'tuple' object does not support item assignment",
     "output_type": "error",
     "traceback": [
      "\u001b[1;31m---------------------------------------------------------------------------\u001b[0m",
      "\u001b[1;31mTypeError\u001b[0m                                 Traceback (most recent call last)",
      "\u001b[1;32m<ipython-input-32-8225e352d63b>\u001b[0m in \u001b[0;36m<module>\u001b[1;34m()\u001b[0m\n\u001b[0;32m      2\u001b[0m \u001b[1;33m\u001b[0m\u001b[0m\n\u001b[0;32m      3\u001b[0m \u001b[0mtuple1\u001b[0m \u001b[1;33m=\u001b[0m \u001b[1;33m(\u001b[0m\u001b[1;36m0\u001b[0m\u001b[1;33m,\u001b[0m \u001b[1;36m1\u001b[0m\u001b[1;33m,\u001b[0m \u001b[1;36m2\u001b[0m\u001b[1;33m,\u001b[0m \u001b[1;36m3\u001b[0m\u001b[1;33m)\u001b[0m\u001b[1;33m\u001b[0m\u001b[0m\n\u001b[1;32m----> 4\u001b[1;33m \u001b[0mtuple1\u001b[0m\u001b[1;33m[\u001b[0m\u001b[1;36m0\u001b[0m\u001b[1;33m]\u001b[0m \u001b[1;33m=\u001b[0m \u001b[1;36m4\u001b[0m\u001b[1;33m\u001b[0m\u001b[0m\n\u001b[0m\u001b[0;32m      5\u001b[0m \u001b[0mprint\u001b[0m\u001b[1;33m(\u001b[0m\u001b[0mtuple1\u001b[0m\u001b[1;33m)\u001b[0m\u001b[1;33m\u001b[0m\u001b[0m\n",
      "\u001b[1;31mTypeError\u001b[0m: 'tuple' object does not support item assignment"
     ]
    }
   ],
   "source": [
    "#code to test that tuples are immutable \n",
    "  \n",
    "tuple1 = (0, 1, 2, 3) \n",
    "tuple1[0] = 4\n",
    "print(tuple1) "
   ]
  },
  {
   "cell_type": "code",
   "execution_count": 31,
   "metadata": {},
   "outputs": [
    {
     "name": "stdout",
     "output_type": "stream",
     "text": [
      "('hi', 'hello')\n",
      "('bye', 1, 2, 3)\n",
      "('hi', 'hello', 'bye', 1, 2, 3)\n",
      "[1, 2, 3]\n",
      "[4, 5, 6]\n",
      "[1, 2, 3, 4, 5, 6]\n"
     ]
    }
   ],
   "source": [
    "l1 = [ 1,2,3]\n",
    "l2 = [4,5,6]\n",
    "t1 = ('hi','hello')\n",
    "t2 = ('bye',1,2,3)\n",
    "t3 = t1 + t2 #add both the tuples\n",
    "print(t1)\n",
    "print(t2)\n",
    "print(t3)\n",
    "l3 = l1+l2\n",
    "print(l1)\n",
    "print(l2)\n",
    "print(l3)"
   ]
  },
  {
   "cell_type": "code",
   "execution_count": 33,
   "metadata": {},
   "outputs": [
    {
     "name": "stdout",
     "output_type": "stream",
     "text": [
      "(1, 2, 3)\n",
      "(3, 2, 1, 0)\n",
      "(2, 3)\n"
     ]
    }
   ],
   "source": [
    "# code to test slicing \n",
    "  \n",
    "tuple1 = (0 ,1, 2, 3) \n",
    "print(tuple1[1:]) \n",
    "print(tuple1[::-1]) \n",
    "print(tuple1[2:4])"
   ]
  },
  {
   "cell_type": "code",
   "execution_count": 39,
   "metadata": {},
   "outputs": [
    {
     "name": "stdout",
     "output_type": "stream",
     "text": [
      "2\n"
     ]
    }
   ],
   "source": [
    "# Code for printing the length of a tuple \n",
    "  \n",
    "tuple2 = ('python', 'awesome') \n",
    "print(len(tuple2)) "
   ]
  },
  {
   "cell_type": "code",
   "execution_count": 35,
   "metadata": {},
   "outputs": [
    {
     "name": "stdout",
     "output_type": "stream",
     "text": [
      "(0, 1, 2)\n",
      "('p', 'y', 't', 'h', 'o', 'n')\n"
     ]
    }
   ],
   "source": [
    "# Code for converting a list and a string into a tuple \n",
    "  \n",
    "list1 = [0, 1, 2] \n",
    "print(tuple(list1)) \n",
    "print(tuple('python')) # string 'python' "
   ]
  },
  {
   "cell_type": "markdown",
   "metadata": {},
   "source": [
    "# Dictionary"
   ]
  },
  {
   "cell_type": "markdown",
   "metadata": {},
   "source": [
    "1. It consists of key value pairs. \n",
    "2. The value can be accessed by unique key in the dictionary."
   ]
  },
  {
   "cell_type": "code",
   "execution_count": 42,
   "metadata": {},
   "outputs": [
    {
     "name": "stdout",
     "output_type": "stream",
     "text": [
      "{'name': 'python', 'build_year': 1991, 'Father of Python': 'Guido Van Rossum', 'Frame_works': ['Django', 'Flask', 'Web2PY', 'Torando', 'kivi'], 'versions': [1.0, 2.0, 3.0], 'latest_version': 3.6}\n",
      "Name :  python\n",
      "Frame Works :  ['Django', 'Flask', 'Web2PY', 'Torando', 'kivi']\n",
      "['__class__', '__contains__', '__delattr__', '__delitem__', '__dir__', '__doc__', '__eq__', '__format__', '__ge__', '__getattribute__', '__getitem__', '__gt__', '__hash__', '__init__', '__init_subclass__', '__iter__', '__le__', '__len__', '__lt__', '__ne__', '__new__', '__reduce__', '__reduce_ex__', '__repr__', '__setattr__', '__setitem__', '__sizeof__', '__str__', '__subclasshook__', 'clear', 'copy', 'fromkeys', 'get', 'items', 'keys', 'pop', 'popitem', 'setdefault', 'update', 'values']\n"
     ]
    }
   ],
   "source": [
    "mydict = { \n",
    "    'name':'python',\n",
    "    'build_year':1991,\n",
    "    'Father of Python':\"Guido Van Rossum\",\n",
    "    'Frame_works':['Django','Flask','Web2PY','Torando','kivi'],\n",
    "    'versions' : [1.0,2.0,3.0],\n",
    "    'latest_version':3.6,\n",
    "    }\n",
    "print(mydict)\n",
    "print(\"Name : \",mydict['name']) #returns the value of the key 'name'\n",
    "print(\"Frame Works : \",mydict['Frame_works'])\n",
    "print(dir(mydict))"
   ]
  },
  {
   "cell_type": "code",
   "execution_count": 43,
   "metadata": {},
   "outputs": [
    {
     "name": "stdout",
     "output_type": "stream",
     "text": [
      "[1.0, 2.0, 3.0]\n",
      "dict_items([('name', 'python'), ('build_year', 1991), ('Father of Python', 'Guido Van Rossum'), ('Frame_works', ['Django', 'Flask', 'Web2PY', 'Torando', 'kivi']), ('versions', [1.0, 2.0, 3.0]), ('latest_version', 3.6)])\n",
      "dict_keys(['name', 'build_year', 'Father of Python', 'Frame_works', 'versions', 'latest_version'])\n",
      "dict_values(['python', 1991, 'Guido Van Rossum', ['Django', 'Flask', 'Web2PY', 'Torando', 'kivi'], [1.0, 2.0, 3.0], 3.6])\n"
     ]
    }
   ],
   "source": [
    "k = mydict.get('versions')\n",
    "print(k)\n",
    "print(mydict.items())  #returns key value pair\n",
    "print(mydict.keys())   #return keys\n",
    "print(mydict.values()) #return values"
   ]
  },
  {
   "cell_type": "code",
   "execution_count": 45,
   "metadata": {},
   "outputs": [
    {
     "name": "stdout",
     "output_type": "stream",
     "text": [
      "{'name': 'Python Programming Language', 'build_year': 1991, 'Father of Python': 'Guido Van Rossum', 'Frame_works': ['Django', 'Flask', 'Web2PY', 'Torando', 'kivi'], 'versions': [1.0, 2.0, 3.0], 'latest_version': 3.6, 'scope': 'World Wide'}\n"
     ]
    }
   ],
   "source": [
    "mydict['scope']  = 'World Wide'   #add key 'scope'\n",
    "mydict['name'] = \"Python Programming Language\"   #change value of key 'name' as key of this name already exist if it does not \n",
    "                                                #then it will create key 'name'\n",
    "print(mydict)"
   ]
  },
  {
   "cell_type": "code",
   "execution_count": 46,
   "metadata": {},
   "outputs": [
    {
     "name": "stdout",
     "output_type": "stream",
     "text": [
      "1\n"
     ]
    },
    {
     "ename": "KeyError",
     "evalue": "'C'",
     "output_type": "error",
     "traceback": [
      "\u001b[1;31m---------------------------------------------------------------------------\u001b[0m",
      "\u001b[1;31mKeyError\u001b[0m                                  Traceback (most recent call last)",
      "\u001b[1;32m<ipython-input-46-bbb800cdf474>\u001b[0m in \u001b[0;36m<module>\u001b[1;34m()\u001b[0m\n\u001b[0;32m      1\u001b[0m \u001b[0mdic\u001b[0m \u001b[1;33m=\u001b[0m \u001b[1;33m{\u001b[0m\u001b[1;34m\"A\"\u001b[0m\u001b[1;33m:\u001b[0m\u001b[1;36m1\u001b[0m\u001b[1;33m,\u001b[0m \u001b[1;34m\"B\"\u001b[0m\u001b[1;33m:\u001b[0m\u001b[1;36m2\u001b[0m\u001b[1;33m}\u001b[0m\u001b[1;33m\u001b[0m\u001b[0m\n\u001b[0;32m      2\u001b[0m \u001b[0mprint\u001b[0m\u001b[1;33m(\u001b[0m\u001b[0mdic\u001b[0m\u001b[1;33m[\u001b[0m\u001b[1;34m\"A\"\u001b[0m\u001b[1;33m]\u001b[0m\u001b[1;33m)\u001b[0m\u001b[1;33m\u001b[0m\u001b[0m\n\u001b[1;32m----> 3\u001b[1;33m \u001b[0mprint\u001b[0m\u001b[1;33m(\u001b[0m\u001b[0mdic\u001b[0m\u001b[1;33m[\u001b[0m\u001b[1;34m\"C\"\u001b[0m\u001b[1;33m]\u001b[0m\u001b[1;33m)\u001b[0m\u001b[1;33m\u001b[0m\u001b[0m\n\u001b[0m",
      "\u001b[1;31mKeyError\u001b[0m: 'C'"
     ]
    }
   ],
   "source": [
    "dic = {\"A\":1, \"B\":2} \n",
    "print(dic[\"A\"]) \n",
    "print(dic[\"C\"]) "
   ]
  },
  {
   "cell_type": "markdown",
   "metadata": {},
   "source": [
    "The get() method is used to avoid such situations. This method returns the value for the given key, if present in the dictionary. If not, then it will return None (if get() is used with only one argument)."
   ]
  },
  {
   "cell_type": "code",
   "execution_count": 47,
   "metadata": {},
   "outputs": [
    {
     "name": "stdout",
     "output_type": "stream",
     "text": [
      "1\n",
      "None\n"
     ]
    }
   ],
   "source": [
    "dic = {\"A\":1, \"B\":2} \n",
    "print(dic.get(\"A\")) \n",
    "print(dic.get(\"C\")) "
   ]
  },
  {
   "cell_type": "markdown",
   "metadata": {},
   "source": [
    "# Sets"
   ]
  },
  {
   "cell_type": "markdown",
   "metadata": {},
   "source": [
    "A Set is an unordered collection data type that is iterable, mutable, and has no duplicate elements."
   ]
  },
  {
   "cell_type": "code",
   "execution_count": 48,
   "metadata": {},
   "outputs": [
    {
     "name": "stdout",
     "output_type": "stream",
     "text": [
      "Set1 =  {1, 2, 3, 4, 5}\n",
      "Set2 =  {4, 5, 6, 7, 8}\n",
      "['__and__', '__class__', '__contains__', '__delattr__', '__dir__', '__doc__', '__eq__', '__format__', '__ge__', '__getattribute__', '__gt__', '__hash__', '__iand__', '__init__', '__init_subclass__', '__ior__', '__isub__', '__iter__', '__ixor__', '__le__', '__len__', '__lt__', '__ne__', '__new__', '__or__', '__rand__', '__reduce__', '__reduce_ex__', '__repr__', '__ror__', '__rsub__', '__rxor__', '__setattr__', '__sizeof__', '__str__', '__sub__', '__subclasshook__', '__xor__', 'add', 'clear', 'copy', 'difference', 'difference_update', 'discard', 'intersection', 'intersection_update', 'isdisjoint', 'issubset', 'issuperset', 'pop', 'remove', 'symmetric_difference', 'symmetric_difference_update', 'union', 'update']\n"
     ]
    }
   ],
   "source": [
    "s1 = { 1,1,1,1,1,1,1,1,1,2,3,4,5}\n",
    "s2 = { 4,5,6,7,8}\n",
    "print(\"Set1 = \",s1)\n",
    "print(\"Set2 = \",s2)\n",
    "print(dir(s2))"
   ]
  },
  {
   "cell_type": "markdown",
   "metadata": {},
   "source": [
    "# Methods for sets"
   ]
  },
  {
   "cell_type": "code",
   "execution_count": 52,
   "metadata": {},
   "outputs": [
    {
     "name": "stdout",
     "output_type": "stream",
     "text": [
      "Union of s1 and s2  =  {1, 2, 3, 4, 5, 6, 7, 8}\n",
      "Intersection of s1 and s2 =  {4, 5}\n",
      "Difference of s1 with s2 =  {1, 2, 3}\n"
     ]
    }
   ],
   "source": [
    "#union -> Returns a union of two set.Using the ‘|’ operator between 2 sets is the same as writing set1.union(set2)\n",
    "#intersection -> Returns an intersection of two sets.The ‘&’ operator comes can also be used in this case.\n",
    "#Difference -> Returns a set containing all the elements of invoking set but not of the second set. We can use ‘-‘ operator here.\n",
    "print(\"Union of s1 and s2  = \",s1.union(s2))\n",
    "print(\"Intersection of s1 and s2 = \",s1.intersection(s2))\n",
    "print(\"Difference of s1 with s2 = \",s1.difference(s2))"
   ]
  },
  {
   "cell_type": "code",
   "execution_count": 51,
   "metadata": {},
   "outputs": [
    {
     "name": "stdout",
     "output_type": "stream",
     "text": [
      "{'Jay', 'Daxit', 'Archil', 'Idrish'}\n"
     ]
    }
   ],
   "source": [
    "#add -> Adds the item x to set if it is not already present in the set. \n",
    "people = {\"Jay\", \"Idrish\", \"Archil\"}\n",
    "people.add(\"Daxit\") \n",
    "print(people)"
   ]
  },
  {
   "cell_type": "code",
   "execution_count": null,
   "metadata": {
    "collapsed": true
   },
   "outputs": [],
   "source": []
  }
 ],
 "metadata": {
  "kernelspec": {
   "display_name": "Python 3",
   "language": "python",
   "name": "python3"
  },
  "language_info": {
   "codemirror_mode": {
    "name": "ipython",
    "version": 3
   },
   "file_extension": ".py",
   "mimetype": "text/x-python",
   "name": "python",
   "nbconvert_exporter": "python",
   "pygments_lexer": "ipython3",
   "version": "3.6.3"
  }
 },
 "nbformat": 4,
 "nbformat_minor": 2
}
