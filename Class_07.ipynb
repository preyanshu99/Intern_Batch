{
 "cells": [
  {
   "cell_type": "markdown",
   "metadata": {},
   "source": [
    "# Loops In Python"
   ]
  },
  {
   "cell_type": "code",
   "execution_count": 3,
   "metadata": {},
   "outputs": [
    {
     "name": "stdout",
     "output_type": "stream",
     "text": [
      "P\n",
      "Y\n",
      "T\n",
      "H\n",
      "O\n",
      "N\n"
     ]
    }
   ],
   "source": [
    "# For loop statement\n",
    "# It has the ability to iterate over the items of any sequence, such as a list or a string.\n",
    "# Syntax\n",
    "# for iterating_var in sequence:\n",
    "#   statements(s)\n",
    "# If a sequence contains an expression list, it is evaluated first. \n",
    "# Then, the first item in the sequence is assigned to the iterating variable iterating_var. \n",
    "# Next, the statements block is executed. Each item in the list is assigned to iterating_var, and the statement(s) block is executed until the entire sequence is exhausted.\n",
    "#Examples\n",
    "s = 'PYTHON'\n",
    "for x in s : \n",
    "    print(x)\n"
   ]
  },
  {
   "cell_type": "code",
   "execution_count": 2,
   "metadata": {},
   "outputs": [
    {
     "name": "stdout",
     "output_type": "stream",
     "text": [
      "List Iteration\n",
      "books\n",
      "bags\n",
      "pens\n"
     ]
    }
   ],
   "source": [
    "# It can be used to iterate over iterators and a range.\n",
    "# Iterating over a list \n",
    "print(\"List Iteration\") \n",
    "l = [\"books\", \"bags\", \"pens\"] \n",
    "for i in l: \n",
    "    print(i) "
   ]
  },
  {
   "cell_type": "code",
   "execution_count": 3,
   "metadata": {},
   "outputs": [
    {
     "name": "stdout",
     "output_type": "stream",
     "text": [
      "List Iteration\n",
      "books\n",
      "bags\n",
      "pens\n"
     ]
    }
   ],
   "source": [
    "# Iterating over a tupple(immutable) \n",
    "print(\"List Iteration\") \n",
    "t = (\"books\", \"bags\", \"pens\") \n",
    "for i in t: \n",
    "    print(i) "
   ]
  },
  {
   "cell_type": "code",
   "execution_count": 4,
   "metadata": {},
   "outputs": [
    {
     "name": "stdout",
     "output_type": "stream",
     "text": [
      "\n",
      "String Iteration\n",
      "P\n",
      "y\n",
      "t\n",
      "h\n",
      "o\n",
      "n\n",
      "_\n",
      "i\n",
      "s\n",
      "_\n",
      "a\n",
      "w\n",
      "e\n",
      "s\n",
      "o\n",
      "m\n",
      "e\n"
     ]
    }
   ],
   "source": [
    "# Iterating over a String \n",
    "print(\"\\nString Iteration\")     \n",
    "s = \"Python_is_awesome\"\n",
    "for i in s : \n",
    "    print(i) "
   ]
  },
  {
   "cell_type": "code",
   "execution_count": 5,
   "metadata": {},
   "outputs": [
    {
     "name": "stdout",
     "output_type": "stream",
     "text": [
      "\n",
      "Dictionary Iteration\n",
      "xyz  123\n",
      "abc  345\n"
     ]
    }
   ],
   "source": [
    "# Iterating over dictionary \n",
    "print(\"\\nDictionary Iteration\")    \n",
    "d = dict()  \n",
    "d['xyz'] = 123\n",
    "d['abc'] = 345\n",
    "for i in d : \n",
    "    print(\"%s  %d\" %(i, d[i]))"
   ]
  },
  {
   "cell_type": "code",
   "execution_count": 1,
   "metadata": {},
   "outputs": [
    {
     "name": "stdout",
     "output_type": "stream",
     "text": [
      "0\n",
      "1\n",
      "2\n",
      "3\n",
      "4\n"
     ]
    }
   ],
   "source": [
    "# Range Function\n",
    "# The range() function has two sets of parameters, as follows:\n",
    "# range(stop)\n",
    "# stop: Number of integers (whole numbers) to generate, starting from zero. eg. range(3) == [0, 1, 2].\n",
    "# range(start, stop, step)\n",
    "# 1. start: Starting number of the sequence.\n",
    "# 2. stop: Generate numbers up to, but not including this number.\n",
    "# 3. step: Difference between each number in the sequence.\n",
    "# Example:\n",
    "\n",
    "\n",
    "# One parameter\n",
    "for i in range(5):\n",
    "    print(i)"
   ]
  },
  {
   "cell_type": "code",
   "execution_count": 2,
   "metadata": {},
   "outputs": [
    {
     "name": "stdout",
     "output_type": "stream",
     "text": [
      "3\n",
      "4\n",
      "5\n"
     ]
    }
   ],
   "source": [
    "# Two parameters\n",
    "for i in range(3, 6):\n",
    "    print(i)"
   ]
  },
  {
   "cell_type": "code",
   "execution_count": 3,
   "metadata": {},
   "outputs": [
    {
     "name": "stdout",
     "output_type": "stream",
     "text": [
      "4\n",
      "6\n",
      "8\n"
     ]
    }
   ],
   "source": [
    "# Three parameters\n",
    "for i in range(4, 10, 2):\n",
    "    print(i)"
   ]
  },
  {
   "cell_type": "code",
   "execution_count": 4,
   "metadata": {},
   "outputs": [
    {
     "name": "stdout",
     "output_type": "stream",
     "text": [
      "0\n",
      "-2\n",
      "-4\n",
      "-6\n",
      "-8\n"
     ]
    }
   ],
   "source": [
    "# Going backwards\n",
    "for i in range(0, -10, -2):\n",
    "    print(i)"
   ]
  },
  {
   "cell_type": "code",
   "execution_count": 1,
   "metadata": {},
   "outputs": [
    {
     "name": "stdout",
     "output_type": "stream",
     "text": [
      "0\n",
      "1\n",
      "2\n",
      "0\n"
     ]
    }
   ],
   "source": [
    "i = 0\n",
    "while i < 3: \n",
    "    print(i) \n",
    "    i += 1\n",
    "else: \n",
    "    print(0) "
   ]
  },
  {
   "cell_type": "code",
   "execution_count": 2,
   "metadata": {},
   "outputs": [],
   "source": [
    "my_string = \"Python\"\n",
    "i = \"i\"\n",
    "while i in my_string:    #No output why?\n",
    "    print(i, end =\" \")"
   ]
  },
  {
   "cell_type": "code",
   "execution_count": 3,
   "metadata": {},
   "outputs": [
    {
     "ename": "TypeError",
     "evalue": "'str' object cannot be interpreted as an integer",
     "output_type": "error",
     "traceback": [
      "\u001b[1;31m---------------------------------------------------------------------------\u001b[0m",
      "\u001b[1;31mTypeError\u001b[0m                                 Traceback (most recent call last)",
      "\u001b[1;32m<ipython-input-3-1f9ba8af24d4>\u001b[0m in \u001b[0;36m<module>\u001b[1;34m()\u001b[0m\n\u001b[0;32m      1\u001b[0m \u001b[0mmy_string\u001b[0m \u001b[1;33m=\u001b[0m \u001b[1;34m'Python is Awesome'\u001b[0m\u001b[1;33m\u001b[0m\u001b[0m\n\u001b[1;32m----> 2\u001b[1;33m \u001b[1;32mfor\u001b[0m \u001b[0mi\u001b[0m \u001b[1;32min\u001b[0m \u001b[0mrange\u001b[0m\u001b[1;33m(\u001b[0m\u001b[0mmy_string\u001b[0m\u001b[1;33m)\u001b[0m\u001b[1;33m:\u001b[0m\u001b[1;33m\u001b[0m\u001b[0m\n\u001b[0m\u001b[0;32m      3\u001b[0m     \u001b[0mprint\u001b[0m\u001b[1;33m(\u001b[0m\u001b[0mi\u001b[0m\u001b[1;33m)\u001b[0m\u001b[1;33m\u001b[0m\u001b[0m\n",
      "\u001b[1;31mTypeError\u001b[0m: 'str' object cannot be interpreted as an integer"
     ]
    }
   ],
   "source": [
    "my_string = 'Python is Awesome'\n",
    "for i in range(my_string): \n",
    "    print(i) "
   ]
  },
  {
   "cell_type": "code",
   "execution_count": 4,
   "metadata": {},
   "outputs": [
    {
     "name": "stdout",
     "output_type": "stream",
     "text": [
      "We love Python\n"
     ]
    }
   ],
   "source": [
    "my_string = 'We love Python'\n",
    "for i in range(len(my_string)): \n",
    "    my_string[i].upper() \n",
    "print (my_string) "
   ]
  },
  {
   "cell_type": "code",
   "execution_count": 5,
   "metadata": {},
   "outputs": [
    {
     "name": "stdout",
     "output_type": "stream",
     "text": [
      "Python is Awesome\n",
      "a\n",
      "a\n",
      "a\n",
      "a\n",
      "a\n",
      "a\n",
      "a\n",
      "a\n",
      "a\n",
      "a\n",
      "a\n",
      "a\n",
      "a\n",
      "a\n",
      "a\n",
      "a\n"
     ]
    }
   ],
   "source": [
    "my_string = 'Python is Awesome'\n",
    "for i in range(len(my_string)): \n",
    "    print (my_string) \n",
    "    my_string = 'a'"
   ]
  },
  {
   "cell_type": "code",
   "execution_count": 5,
   "metadata": {},
   "outputs": [
    {
     "name": "stdout",
     "output_type": "stream",
     "text": [
      "one\n",
      "two\n",
      "three\n",
      "four\n",
      "five\n"
     ]
    }
   ],
   "source": [
    "my_list = ['one', 'two', 'three', 'four', 'five']\n",
    "my_list_len = len(my_list)\n",
    "for i in range(0, my_list_len):\n",
    "    print(my_list[i])"
   ]
  },
  {
   "cell_type": "code",
   "execution_count": 6,
   "metadata": {},
   "outputs": [
    {
     "name": "stdout",
     "output_type": "stream",
     "text": [
      "99 bottles of beer on the wall, 99 bottles of beer!\n",
      "So take it down, pass it around, 98 more bottles of beer on the wall!\n",
      "98 bottles of beer on the wall, 98 bottles of beer!\n",
      "So take it down, pass it around, 97 more bottles of beer on the wall!\n",
      "97 bottles of beer on the wall, 97 bottles of beer!\n",
      "So take it down, pass it around, 96 more bottles of beer on the wall!\n",
      "96 bottles of beer on the wall, 96 bottles of beer!\n",
      "So take it down, pass it around, 95 more bottles of beer on the wall!\n",
      "95 bottles of beer on the wall, 95 bottles of beer!\n",
      "So take it down, pass it around, 94 more bottles of beer on the wall!\n",
      "94 bottles of beer on the wall, 94 bottles of beer!\n",
      "So take it down, pass it around, 93 more bottles of beer on the wall!\n",
      "93 bottles of beer on the wall, 93 bottles of beer!\n",
      "So take it down, pass it around, 92 more bottles of beer on the wall!\n",
      "92 bottles of beer on the wall, 92 bottles of beer!\n",
      "So take it down, pass it around, 91 more bottles of beer on the wall!\n",
      "91 bottles of beer on the wall, 91 bottles of beer!\n",
      "So take it down, pass it around, 90 more bottles of beer on the wall!\n",
      "90 bottles of beer on the wall, 90 bottles of beer!\n",
      "So take it down, pass it around, 89 more bottles of beer on the wall!\n",
      "89 bottles of beer on the wall, 89 bottles of beer!\n",
      "So take it down, pass it around, 88 more bottles of beer on the wall!\n",
      "88 bottles of beer on the wall, 88 bottles of beer!\n",
      "So take it down, pass it around, 87 more bottles of beer on the wall!\n",
      "87 bottles of beer on the wall, 87 bottles of beer!\n",
      "So take it down, pass it around, 86 more bottles of beer on the wall!\n",
      "86 bottles of beer on the wall, 86 bottles of beer!\n",
      "So take it down, pass it around, 85 more bottles of beer on the wall!\n",
      "85 bottles of beer on the wall, 85 bottles of beer!\n",
      "So take it down, pass it around, 84 more bottles of beer on the wall!\n",
      "84 bottles of beer on the wall, 84 bottles of beer!\n",
      "So take it down, pass it around, 83 more bottles of beer on the wall!\n",
      "83 bottles of beer on the wall, 83 bottles of beer!\n",
      "So take it down, pass it around, 82 more bottles of beer on the wall!\n",
      "82 bottles of beer on the wall, 82 bottles of beer!\n",
      "So take it down, pass it around, 81 more bottles of beer on the wall!\n",
      "81 bottles of beer on the wall, 81 bottles of beer!\n",
      "So take it down, pass it around, 80 more bottles of beer on the wall!\n",
      "80 bottles of beer on the wall, 80 bottles of beer!\n",
      "So take it down, pass it around, 79 more bottles of beer on the wall!\n",
      "79 bottles of beer on the wall, 79 bottles of beer!\n",
      "So take it down, pass it around, 78 more bottles of beer on the wall!\n",
      "78 bottles of beer on the wall, 78 bottles of beer!\n",
      "So take it down, pass it around, 77 more bottles of beer on the wall!\n",
      "77 bottles of beer on the wall, 77 bottles of beer!\n",
      "So take it down, pass it around, 76 more bottles of beer on the wall!\n",
      "76 bottles of beer on the wall, 76 bottles of beer!\n",
      "So take it down, pass it around, 75 more bottles of beer on the wall!\n",
      "75 bottles of beer on the wall, 75 bottles of beer!\n",
      "So take it down, pass it around, 74 more bottles of beer on the wall!\n",
      "74 bottles of beer on the wall, 74 bottles of beer!\n",
      "So take it down, pass it around, 73 more bottles of beer on the wall!\n",
      "73 bottles of beer on the wall, 73 bottles of beer!\n",
      "So take it down, pass it around, 72 more bottles of beer on the wall!\n",
      "72 bottles of beer on the wall, 72 bottles of beer!\n",
      "So take it down, pass it around, 71 more bottles of beer on the wall!\n",
      "71 bottles of beer on the wall, 71 bottles of beer!\n",
      "So take it down, pass it around, 70 more bottles of beer on the wall!\n",
      "70 bottles of beer on the wall, 70 bottles of beer!\n",
      "So take it down, pass it around, 69 more bottles of beer on the wall!\n",
      "69 bottles of beer on the wall, 69 bottles of beer!\n",
      "So take it down, pass it around, 68 more bottles of beer on the wall!\n",
      "68 bottles of beer on the wall, 68 bottles of beer!\n",
      "So take it down, pass it around, 67 more bottles of beer on the wall!\n",
      "67 bottles of beer on the wall, 67 bottles of beer!\n",
      "So take it down, pass it around, 66 more bottles of beer on the wall!\n",
      "66 bottles of beer on the wall, 66 bottles of beer!\n",
      "So take it down, pass it around, 65 more bottles of beer on the wall!\n",
      "65 bottles of beer on the wall, 65 bottles of beer!\n",
      "So take it down, pass it around, 64 more bottles of beer on the wall!\n",
      "64 bottles of beer on the wall, 64 bottles of beer!\n",
      "So take it down, pass it around, 63 more bottles of beer on the wall!\n",
      "63 bottles of beer on the wall, 63 bottles of beer!\n",
      "So take it down, pass it around, 62 more bottles of beer on the wall!\n",
      "62 bottles of beer on the wall, 62 bottles of beer!\n",
      "So take it down, pass it around, 61 more bottles of beer on the wall!\n",
      "61 bottles of beer on the wall, 61 bottles of beer!\n",
      "So take it down, pass it around, 60 more bottles of beer on the wall!\n",
      "60 bottles of beer on the wall, 60 bottles of beer!\n",
      "So take it down, pass it around, 59 more bottles of beer on the wall!\n",
      "59 bottles of beer on the wall, 59 bottles of beer!\n",
      "So take it down, pass it around, 58 more bottles of beer on the wall!\n",
      "58 bottles of beer on the wall, 58 bottles of beer!\n",
      "So take it down, pass it around, 57 more bottles of beer on the wall!\n",
      "57 bottles of beer on the wall, 57 bottles of beer!\n",
      "So take it down, pass it around, 56 more bottles of beer on the wall!\n",
      "56 bottles of beer on the wall, 56 bottles of beer!\n",
      "So take it down, pass it around, 55 more bottles of beer on the wall!\n",
      "55 bottles of beer on the wall, 55 bottles of beer!\n",
      "So take it down, pass it around, 54 more bottles of beer on the wall!\n",
      "54 bottles of beer on the wall, 54 bottles of beer!\n",
      "So take it down, pass it around, 53 more bottles of beer on the wall!\n",
      "53 bottles of beer on the wall, 53 bottles of beer!\n",
      "So take it down, pass it around, 52 more bottles of beer on the wall!\n",
      "52 bottles of beer on the wall, 52 bottles of beer!\n",
      "So take it down, pass it around, 51 more bottles of beer on the wall!\n",
      "51 bottles of beer on the wall, 51 bottles of beer!\n",
      "So take it down, pass it around, 50 more bottles of beer on the wall!\n",
      "50 bottles of beer on the wall, 50 bottles of beer!\n",
      "So take it down, pass it around, 49 more bottles of beer on the wall!\n",
      "49 bottles of beer on the wall, 49 bottles of beer!\n",
      "So take it down, pass it around, 48 more bottles of beer on the wall!\n",
      "48 bottles of beer on the wall, 48 bottles of beer!\n",
      "So take it down, pass it around, 47 more bottles of beer on the wall!\n",
      "47 bottles of beer on the wall, 47 bottles of beer!\n",
      "So take it down, pass it around, 46 more bottles of beer on the wall!\n",
      "46 bottles of beer on the wall, 46 bottles of beer!\n",
      "So take it down, pass it around, 45 more bottles of beer on the wall!\n",
      "45 bottles of beer on the wall, 45 bottles of beer!\n",
      "So take it down, pass it around, 44 more bottles of beer on the wall!\n",
      "44 bottles of beer on the wall, 44 bottles of beer!\n",
      "So take it down, pass it around, 43 more bottles of beer on the wall!\n",
      "43 bottles of beer on the wall, 43 bottles of beer!\n",
      "So take it down, pass it around, 42 more bottles of beer on the wall!\n",
      "42 bottles of beer on the wall, 42 bottles of beer!\n",
      "So take it down, pass it around, 41 more bottles of beer on the wall!\n",
      "41 bottles of beer on the wall, 41 bottles of beer!\n",
      "So take it down, pass it around, 40 more bottles of beer on the wall!\n",
      "40 bottles of beer on the wall, 40 bottles of beer!\n",
      "So take it down, pass it around, 39 more bottles of beer on the wall!\n",
      "39 bottles of beer on the wall, 39 bottles of beer!\n",
      "So take it down, pass it around, 38 more bottles of beer on the wall!\n",
      "38 bottles of beer on the wall, 38 bottles of beer!\n",
      "So take it down, pass it around, 37 more bottles of beer on the wall!\n",
      "37 bottles of beer on the wall, 37 bottles of beer!\n",
      "So take it down, pass it around, 36 more bottles of beer on the wall!\n",
      "36 bottles of beer on the wall, 36 bottles of beer!\n",
      "So take it down, pass it around, 35 more bottles of beer on the wall!\n",
      "35 bottles of beer on the wall, 35 bottles of beer!\n",
      "So take it down, pass it around, 34 more bottles of beer on the wall!\n",
      "34 bottles of beer on the wall, 34 bottles of beer!\n",
      "So take it down, pass it around, 33 more bottles of beer on the wall!\n",
      "33 bottles of beer on the wall, 33 bottles of beer!\n",
      "So take it down, pass it around, 32 more bottles of beer on the wall!\n",
      "32 bottles of beer on the wall, 32 bottles of beer!\n",
      "So take it down, pass it around, 31 more bottles of beer on the wall!\n",
      "31 bottles of beer on the wall, 31 bottles of beer!\n",
      "So take it down, pass it around, 30 more bottles of beer on the wall!\n",
      "30 bottles of beer on the wall, 30 bottles of beer!\n",
      "So take it down, pass it around, 29 more bottles of beer on the wall!\n",
      "29 bottles of beer on the wall, 29 bottles of beer!\n",
      "So take it down, pass it around, 28 more bottles of beer on the wall!\n",
      "28 bottles of beer on the wall, 28 bottles of beer!\n",
      "So take it down, pass it around, 27 more bottles of beer on the wall!\n",
      "27 bottles of beer on the wall, 27 bottles of beer!\n",
      "So take it down, pass it around, 26 more bottles of beer on the wall!\n",
      "26 bottles of beer on the wall, 26 bottles of beer!\n",
      "So take it down, pass it around, 25 more bottles of beer on the wall!\n",
      "25 bottles of beer on the wall, 25 bottles of beer!\n",
      "So take it down, pass it around, 24 more bottles of beer on the wall!\n",
      "24 bottles of beer on the wall, 24 bottles of beer!\n",
      "So take it down, pass it around, 23 more bottles of beer on the wall!\n",
      "23 bottles of beer on the wall, 23 bottles of beer!\n",
      "So take it down, pass it around, 22 more bottles of beer on the wall!\n",
      "22 bottles of beer on the wall, 22 bottles of beer!\n",
      "So take it down, pass it around, 21 more bottles of beer on the wall!\n",
      "21 bottles of beer on the wall, 21 bottles of beer!\n",
      "So take it down, pass it around, 20 more bottles of beer on the wall!\n",
      "20 bottles of beer on the wall, 20 bottles of beer!\n",
      "So take it down, pass it around, 19 more bottles of beer on the wall!\n",
      "19 bottles of beer on the wall, 19 bottles of beer!\n",
      "So take it down, pass it around, 18 more bottles of beer on the wall!\n",
      "18 bottles of beer on the wall, 18 bottles of beer!\n",
      "So take it down, pass it around, 17 more bottles of beer on the wall!\n",
      "17 bottles of beer on the wall, 17 bottles of beer!\n",
      "So take it down, pass it around, 16 more bottles of beer on the wall!\n",
      "16 bottles of beer on the wall, 16 bottles of beer!\n",
      "So take it down, pass it around, 15 more bottles of beer on the wall!\n",
      "15 bottles of beer on the wall, 15 bottles of beer!\n",
      "So take it down, pass it around, 14 more bottles of beer on the wall!\n",
      "14 bottles of beer on the wall, 14 bottles of beer!\n",
      "So take it down, pass it around, 13 more bottles of beer on the wall!\n",
      "13 bottles of beer on the wall, 13 bottles of beer!\n",
      "So take it down, pass it around, 12 more bottles of beer on the wall!\n",
      "12 bottles of beer on the wall, 12 bottles of beer!\n",
      "So take it down, pass it around, 11 more bottles of beer on the wall!\n",
      "11 bottles of beer on the wall, 11 bottles of beer!\n",
      "So take it down, pass it around, 10 more bottles of beer on the wall!\n",
      "10 bottles of beer on the wall, 10 bottles of beer!\n",
      "So take it down, pass it around, 9 more bottles of beer on the wall!\n",
      "9 bottles of beer on the wall, 9 bottles of beer!\n",
      "So take it down, pass it around, 8 more bottles of beer on the wall!\n",
      "8 bottles of beer on the wall, 8 bottles of beer!\n",
      "So take it down, pass it around, 7 more bottles of beer on the wall!\n",
      "7 bottles of beer on the wall, 7 bottles of beer!\n",
      "So take it down, pass it around, 6 more bottles of beer on the wall!\n",
      "6 bottles of beer on the wall, 6 bottles of beer!\n",
      "So take it down, pass it around, 5 more bottles of beer on the wall!\n",
      "5 bottles of beer on the wall, 5 bottles of beer!\n",
      "So take it down, pass it around, 4 more bottles of beer on the wall!\n",
      "4 bottles of beer on the wall, 4 bottles of beer!\n",
      "So take it down, pass it around, 3 more bottles of beer on the wall!\n",
      "3 bottles of beer on the wall, 3 bottles of beer!\n",
      "So take it down, pass it around, 2 more bottles of beer on the wall!\n",
      "2 more bottles of beer on the wall, 2 more bottles of beer!\n",
      "So take one down, pass it around, 1 more bottle of beer on the wall!\n",
      "1 bottle of beer on the wall, 1 bottle of beer!\n",
      "So take it down, pass it around, no more bottles of beer on the wall!\n"
     ]
    }
   ],
   "source": [
    "for i in range(99, 0, -1):\n",
    "        if i == 1:\n",
    "                print('1 bottle of beer on the wall, 1 bottle of beer!')\n",
    "                print('So take it down, pass it around, no more bottles of beer on the wall!')\n",
    "        elif i == 2:\n",
    "                print('2 more bottles of beer on the wall, 2 more bottles of beer!')\n",
    "                print('So take one down, pass it around, 1 more bottle of beer on the wall!')\n",
    "        else:\n",
    "                print('{0} bottles of beer on the wall, {0} bottles of beer!'.format(i))\n",
    "                print('So take it down, pass it around, {0} more bottles of beer on the wall!'.format(i - 1))"
   ]
  },
  {
   "cell_type": "code",
   "execution_count": 7,
   "metadata": {},
   "outputs": [
    {
     "name": "stdout",
     "output_type": "stream",
     "text": [
      "1 \n",
      "2 2 \n",
      "3 3 3 \n",
      "4 4 4 4 \n"
     ]
    }
   ],
   "source": [
    "# Nested Loops\n",
    "# Python programming language allows to use one loop inside another loop.\n",
    "# Syntax:\n",
    "# for iterator_var in sequence:\n",
    "#    for iterator_var in sequence:\n",
    "#        statements(s)\n",
    "#        statements(s)\n",
    "# Example:-\n",
    "for i in range(1, 5): \n",
    "    for j in range(i): \n",
    "         print(i, end=' ') \n",
    "    print() "
   ]
  },
  {
   "cell_type": "code",
   "execution_count": 4,
   "metadata": {},
   "outputs": [
    {
     "name": "stdout",
     "output_type": "stream",
     "text": [
      "hello\n",
      "hi\n",
      "1\n",
      "2\n",
      "3\n",
      "4\n",
      "3.6j\n",
      "['hi', 'bye', 'bye bye']\n",
      "123\n",
      "23\n",
      "3\n",
      "2\n"
     ]
    }
   ],
   "source": [
    "l = [ 'hello','hi',1,2,3,4,3.6j,['hi','bye','bye bye'],123,23,3,2]\n",
    "\n",
    "for var in l :\n",
    "     print(var)\n"
   ]
  },
  {
   "cell_type": "code",
   "execution_count": 13,
   "metadata": {},
   "outputs": [
    {
     "name": "stdout",
     "output_type": "stream",
     "text": [
      "Hello World\n",
      "Hello World\n",
      "Hello World\n",
      "Hello World\n",
      "Hello World\n",
      "Hello World\n",
      "Hello World\n",
      "Good to Go \n"
     ]
    }
   ],
   "source": [
    "for var in range(1,20,2):\n",
    "    if var % 2 == 0 : \n",
    "        break\n",
    "    elif var % 3 == 0 :\n",
    "        continue\n",
    "    print(\"Hello World\")\n",
    "else : \n",
    "    print(\"Good to Go \")"
   ]
  },
  {
   "cell_type": "code",
   "execution_count": 5,
   "metadata": {},
   "outputs": [
    {
     "name": "stdout",
     "output_type": "stream",
     "text": [
      "Enter a number : 5\n",
      "5\n",
      "10\n",
      "15\n",
      "20\n",
      "25\n",
      "30\n",
      "35\n",
      "40\n",
      "45\n",
      "50\n"
     ]
    }
   ],
   "source": [
    "l = [ 1,2,3,4,5,6,7,8,9,10 ] \n",
    "n = int(input(\"Enter a number : \"))\n",
    "for var in l : \n",
    "    print(var*n)\n"
   ]
  },
  {
   "cell_type": "code",
   "execution_count": 9,
   "metadata": {},
   "outputs": [
    {
     "name": "stdout",
     "output_type": "stream",
     "text": [
      "Current Letter : P\n",
      "Current Letter : y\n",
      "Current Letter : t\n",
      "Current Letter : h\n",
      "Current Letter : o\n",
      "Current Letter : n\n",
      "Current fruit : banana\n",
      "Current fruit : apple\n",
      "Current fruit : mango\n",
      "Good bye!\n"
     ]
    }
   ],
   "source": [
    "for letter in 'Python': \n",
    "   print('Current Letter :', letter)\n",
    "\n",
    "fruits = ['banana', 'apple',  'mango']\n",
    "for fruit in fruits:    \n",
    "   print('Current fruit :', fruit)\n",
    "\n",
    "print(\"Good bye!\")"
   ]
  },
  {
   "cell_type": "code",
   "execution_count": 11,
   "metadata": {},
   "outputs": [
    {
     "name": "stdout",
     "output_type": "stream",
     "text": [
      "Current fruit : banana\n",
      "Current fruit : apple\n",
      "Current fruit : mango\n",
      "Good bye!\n"
     ]
    }
   ],
   "source": [
    "# Iterating by Sequence Index\n",
    "fruits = ['banana', 'apple',  'mango']\n",
    "for index in range(len(fruits)):\n",
    "   print('Current fruit :', fruits[index])\n",
    "\n",
    "print(\"Good bye!\")"
   ]
  },
  {
   "cell_type": "code",
   "execution_count": 6,
   "metadata": {},
   "outputs": [
    {
     "name": "stdout",
     "output_type": "stream",
     "text": [
      "name = python\n",
      "version = 3.6\n",
      "father = Guido Van Rossum\n",
      "named on  = Monty Python\n",
      "method = OOPS\n",
      "type = interpreted\n",
      "year = 1991\n",
      "bye bye\n",
      "1\n",
      "2\n",
      "3\n",
      "4\n",
      "5\n",
      "6\n",
      "hi\n",
      "hello\n",
      "good to go\n"
     ]
    }
   ],
   "source": [
    "d = { \n",
    "        'name' : 'python',\n",
    "        'version': 3.6,\n",
    "        'father' : 'Guido Van Rossum',\n",
    "        'named on ' : 'Monty Python',\n",
    "        'method' : 'OOPS',\n",
    "        'type' :'interpreted',\n",
    "        'year' : 1991,\n",
    "        }\n",
    "\n",
    "for var in d:\n",
    "    print(var,'=',d[var])\n",
    "\n",
    "s = { 'hello', 'hi',1,2,3,4,5,6,'good to go','bye bye' }\n",
    "for var in s : \n",
    "    print(var)\n",
    "        \n"
   ]
  },
  {
   "cell_type": "code",
   "execution_count": 7,
   "metadata": {},
   "outputs": [
    {
     "name": "stdout",
     "output_type": "stream",
     "text": [
      "Iteration  1\n",
      "Value 1 =  1\n",
      "Value 2 =  2\n",
      "Value 3 =  3\n",
      "\n",
      "\n",
      "Iteration  2\n",
      "Value 1 =  hello\n",
      "Value 2 =  hi\n",
      "Value 3 =  how are you\n",
      "\n",
      "\n",
      "Iteration  3\n",
      "Value 1 =  good\n",
      "Value 2 =  bye\n",
      "Value 3 =  bye\n",
      "\n",
      "\n",
      "Iteration  4\n",
      "Value 1 =  hello\n",
      "Value 2 =  world\n",
      "Value 3 =  !!\n",
      "\n",
      "\n",
      "Iteration  5\n",
      "Value 1 =  python\n",
      "Value 2 =  java\n",
      "Value 3 =  c\n",
      "\n",
      "\n",
      "Iteration  6\n",
      "Value 1 =  c\n",
      "Value 2 =  +\n",
      "Value 3 =  +\n",
      "\n",
      "\n",
      "Iteration  7\n",
      "Value 1 =  oh\n",
      "Value 2 =  my\n",
      "Value 3 =  god\n",
      "\n",
      "\n"
     ]
    }
   ],
   "source": [
    "l = [ (1,2,3),('hello','hi','how are you'),('good','bye','bye',),('hello','world','!!',),('python','java','c'),'c++',['oh','my','god' ] ]\n",
    "c = 1\n",
    "for val1,val2,val3 in l :\n",
    "    print(\"Iteration \",c)\n",
    "    print(\"Value 1 = \",val1)\n",
    "    print(\"Value 2 = \",val2)\n",
    "    print(\"Value 3 = \",val3)\n",
    "    c = c + 1\n",
    "    print(\"\\n\")\n",
    "\n"
   ]
  },
  {
   "cell_type": "code",
   "execution_count": 8,
   "metadata": {},
   "outputs": [
    {
     "name": "stdout",
     "output_type": "stream",
     "text": [
      "val1 =  1\n",
      "val2 =  1\n",
      "\n",
      "val1 =  34\n",
      "val2 =  3\n",
      "\n",
      "val1 =  56\n",
      "val2 =  4\n",
      "\n",
      "val1 =  34\n",
      "val2 =  42\n",
      "\n",
      "val1 =  2\n",
      "val2 =  67\n",
      "\n",
      "val1 =  364\n",
      "val2 =  346\n",
      "\n",
      "val1 =  57\n",
      "val2 =  57\n",
      "\n",
      "val1 =  42\n",
      "val2 =  5434\n",
      "\n",
      "val1 =  13\n",
      "val2 =  2\n",
      "\n",
      "val1 =  4\n",
      "val2 =  34\n",
      "\n",
      "val1 =  65\n",
      "val2 =  657\n",
      "\n",
      "val1 =  63\n",
      "val2 =  434\n",
      "\n",
      "val1 =  3\n",
      "val2 =  2\n",
      "\n",
      "val1 =  12\n",
      "val2 =  346\n",
      "\n",
      "val1 =  2\n",
      "val2 =  34\n",
      "\n",
      "val1 =  3456\n",
      "val2 =  34\n",
      "\n"
     ]
    }
   ],
   "source": [
    "l1 = [ 1,34,56,34,2,364,57,42,13,4,65,63,3,12,2,3456,]\n",
    "l2 = [ 1,3,4,42,67,346,57,5434,2,34,657,434,2,346,34,34]\n",
    "\n",
    "for val1,val2 in zip(l1,l2) :\n",
    "    print(\"val1 = \",val1)\n",
    "    print(\"val2 = \",val2)\n",
    "    print()\n",
    "\n"
   ]
  },
  {
   "cell_type": "code",
   "execution_count": 6,
   "metadata": {},
   "outputs": [
    {
     "name": "stdout",
     "output_type": "stream",
     "text": [
      "1,2,3,4,5,6,7,8,9,10,11,12,13,14,15,16,17,18,19,20,21,22,23,24,25,26,27,28,29,30,31,32,33,34,35,36,37,38,39,40,41,42,43,44,45,46,47,48,49,50,51,52,53,54,55,56,57,58,59,60,61,62,63,64,65,66,67,68,69,70,71,72,73,74,75,76,77,78,79,80,81,82,83,84,85,86,87,88,89,90,91,92,93,94,95,96,97,98,99,100,101,102,103,104,105,106,107,108,109,110,111,112,113,114,115,116,117,118,119,120,121,122,123,124,125,126,127,128,129,130,131,132,133,134,135,136,137,138,139,140,141,142,143,144,145,146,147,148,149,150,151,152,153,154,155,156,157,158,159,160,161,162,163,164,165,166,167,168,169,170,171,172,173,174,175,176,177,178,179,180,181,182,183,184,185,186,187,188,189,190,191,192,193,194,195,196,197,198,199,200,201,202,203,204,205,206,207,208,209,210,211,212,213,214,215,216,217,218,219,220,221,222,223,224,225,226,227,228,229,230,231,232,233,234,235,236,237,238,239,240,241,242,243,244,245,246,247,248,249,250,251,252,253,254,255,256,257,258,259,260,261,262,263,264,265,266,267,268,269,270,271,272,273,274,275,276,277,278,279,280,281,282,283,284,285,286,287,288,289,290,291,292,293,294,295,296,297,298,299,300,301,302,303,304,305,306,307,308,309,310,311,312,313,314,315,316,317,318,319,320,321,322,323,324,325,326,327,328,329,330,331,332,333,334,335,336,337,338,339,340,341,342,343,344,345,346,347,348,349,350,351,352,353,354,355,356,357,358,359,360,361,362,363,364,365,366,367,368,369,370,371,372,373,374,375,376,377,378,379,380,381,382,383,384,385,386,387,388,389,390,391,392,393,394,395,396,397,398,399,400,401,402,403,404,405,406,407,408,409,410,411,412,413,414,415,416,417,418,419,420,421,422,423,424,425,426,427,428,429,430,431,432,433,434,435,436,437,438,439,440,441,442,443,444,445,446,447,448,449,450,451,452,453,454,455,456,457,458,459,460,461,462,463,464,465,466,467,468,469,470,471,472,473,474,475,476,477,478,479,480,481,482,483,484,485,486,487,488,489,490,491,492,493,494,495,496,497,498,499,"
     ]
    }
   ],
   "source": [
    "for var in range(1,50001) : \n",
    "    print(var,end=\",\")\n"
   ]
  },
  {
   "cell_type": "code",
   "execution_count": 4,
   "metadata": {},
   "outputs": [
    {
     "name": "stdout",
     "output_type": "stream",
     "text": [
      "990, 960, 930, 900, 870, 840, 810, 780, 750, 720, 690, 660, 630, 600, 570, 540, 510, 480, 450, 420, 390, 360, 330, 300, 270, 240, 210, 180, 150, 120, 90, 60, 30, "
     ]
    }
   ],
   "source": [
    "for var in range(1000,0,-1) : \n",
    "    if var % 2 == 0 and var % 3 == 0 and var % 5 == 0 : \n",
    "        print(var,end=', ')"
   ]
  },
  {
   "cell_type": "code",
   "execution_count": 1,
   "metadata": {},
   "outputs": [
    {
     "name": "stdout",
     "output_type": "stream",
     "text": [
      "[2, 10, 12, 12, 23, 34, 34, 44, 45, 56, 76, 213, 232, 345, 456, 567]\n"
     ]
    }
   ],
   "source": [
    "l = [ 10, 34, 2, 56, 23, 567, 34, 232, 12, 345, 76, 44, 213, 45, 12, 456 ]\n",
    "\n",
    "for var in range(len(l)-1):\n",
    "    for var2 in range(var+1,len(l)) :\n",
    "        if l[var] >= l[var2] :\n",
    "            l[var],l[var2]=l[var2],l[var]\n",
    "\n",
    "print(l)\n",
    "    \n",
    "\n"
   ]
  }
 ],
 "metadata": {
  "kernelspec": {
   "display_name": "Python 3",
   "language": "python",
   "name": "python3"
  },
  "language_info": {
   "codemirror_mode": {
    "name": "ipython",
    "version": 3
   },
   "file_extension": ".py",
   "mimetype": "text/x-python",
   "name": "python",
   "nbconvert_exporter": "python",
   "pygments_lexer": "ipython3",
   "version": "3.6.5"
  }
 },
 "nbformat": 4,
 "nbformat_minor": 2
}
