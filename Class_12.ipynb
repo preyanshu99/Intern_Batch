{
 "cells": [
  {
   "cell_type": "markdown",
   "metadata": {},
   "source": [
    "Instead of using the normal statements to access attributes, you can use the following functions −\n",
    "\n",
    "1. The getattr(obj, name[, default]) − to access the attribute of object.\n",
    "\n",
    "2. The hasattr(obj,name) − to check if an attribute exists or not.\n",
    "\n",
    "3. The setattr(obj,name,value) − to set an attribute. If attribute does not exist, then it would be created.\n",
    "\n",
    "4. The delattr(obj, name) − to delete an attribute."
   ]
  },
  {
   "cell_type": "code",
   "execution_count": 8,
   "metadata": {
    "collapsed": true
   },
   "outputs": [],
   "source": [
    "#Example \n",
    "#hasattr(emp1, 'age')    # Returns true if 'age' attribute exists\n",
    "#getattr(emp1, 'age')    # Returns value of 'age' attribute\n",
    "#setattr(emp1, 'age', 8) # Set attribute 'age' at 8\n",
    "#delattr(empl, 'age')    # Delete attribute 'age'"
   ]
  },
  {
   "cell_type": "code",
   "execution_count": 18,
   "metadata": {},
   "outputs": [
    {
     "name": "stdout",
     "output_type": "stream",
     "text": [
      "[4, 0]\n",
      "[4, 0]\n",
      "blue\n"
     ]
    }
   ],
   "source": [
    "class Rectangle:\n",
    "    def __init__(self, width, height, pos=[0,0], color='blue'):\n",
    "        self.width = width\n",
    "        self.height = height\n",
    "        self.pos = pos  #set the position\n",
    "        self.color = color\n",
    "r1 = Rectangle2D(5,3)\n",
    "r2 = Rectangle2D(7,8)\n",
    "r1.pos[0] = 4   #change the pos[0] i.e its 0 index to 4\n",
    "print(r1.pos)   #[4, 0]\n",
    "print(r2.pos)   #[4, 0] r2's pos has changed as well\n",
    "print(r1.color)\n"
   ]
  },
  {
   "cell_type": "code",
   "execution_count": 6,
   "metadata": {},
   "outputs": [
    {
     "data": {
      "text/plain": [
       "3"
      ]
     },
     "execution_count": 6,
     "metadata": {},
     "output_type": "execute_result"
    }
   ],
   "source": [
    "#another method\n",
    "getattr(r1,\"height\")"
   ]
  },
  {
   "cell_type": "code",
   "execution_count": 12,
   "metadata": {},
   "outputs": [
    {
     "name": "stdout",
     "output_type": "stream",
     "text": [
      "True\n",
      "False\n"
     ]
    }
   ],
   "source": [
    "print(hasattr(r2,'color'))   #check for color attribute of a object r2\n",
    "print(hasattr(r2,'weight'))"
   ]
  },
  {
   "cell_type": "code",
   "execution_count": 20,
   "metadata": {},
   "outputs": [
    {
     "data": {
      "text/plain": [
       "'blue'"
      ]
     },
     "execution_count": 20,
     "metadata": {},
     "output_type": "execute_result"
    }
   ],
   "source": [
    "setattr(r2,'color','blue')\n",
    "getattr(r2,'color')"
   ]
  },
  {
   "cell_type": "code",
   "execution_count": 21,
   "metadata": {},
   "outputs": [
    {
     "data": {
      "text/plain": [
       "False"
      ]
     },
     "execution_count": 21,
     "metadata": {},
     "output_type": "execute_result"
    }
   ],
   "source": [
    "delattr(r2,'color')\n",
    "hasattr(r2,'color')"
   ]
  },
  {
   "cell_type": "code",
   "execution_count": 2,
   "metadata": {},
   "outputs": [
    {
     "name": "stdout",
     "output_type": "stream",
     "text": [
      "Objects Attributes are : (self variables)\n",
      "Name :  x\n",
      "Type :  default\n",
      "Objects Attributes are : (self variables)\n",
      "Name :  y\n",
      "Type :  default\n",
      "Class Attributes are : (Common or Share Variables)\n",
      "Public Variable =  Public Variable\n",
      "Protect Variable =  Protected Variable\n",
      "Private Variable =  Private Variable\n"
     ]
    }
   ],
   "source": [
    "class one:\n",
    "    \"This is class one.\"\n",
    "    pvar = \"Public Variable\" #class variable\n",
    "    _prvar = \"Protected Variable\" #class Variable\n",
    "    __privar = \"Private Variable\" #class Variable\n",
    "    def __init__(self,x,y):\n",
    "        self.x = x #object attribute\n",
    "        self.y = y \n",
    "    def show(self):\n",
    "        print(\"Objects Attributes are : (self variables)\")\n",
    "        print(\"Name : \",self.x)\n",
    "        print(\"Type : \",self.y)\n",
    "    def class_show(self):\n",
    "        print(\"Class Attributes are : (Common or Share Variables)\")\n",
    "        print(\"Public Variable = \",one.pvar)\n",
    "        print(\"Protect Variable = \",one._prvar)\n",
    "        print(\"Private Variable = \",one.__privar)\n",
    "        \n",
    "    def set_val(self):\n",
    "        self.x = input(\"New Value for X : \")\n",
    "        self.y = input(\"New Value for y : \")\n",
    "    def set_class(self):\n",
    "        one.pvar = input(\"New Public Var : \")\n",
    "        one._prvar = input(\"New Protect Var : \")\n",
    "        one.__privar = input(\"New Private VAr : \")\n",
    "        \n",
    "\n",
    "x = one('x','default')\n",
    "y = one('y','default')\n",
    "x.show()\n",
    "y.show()\n",
    "y.class_show()"
   ]
  },
  {
   "cell_type": "code",
   "execution_count": 32,
   "metadata": {
    "collapsed": true
   },
   "outputs": [],
   "source": [
    "class A:\n",
    "    x = 10 \n",
    "    _y = 20\n",
    "    __z = 30 \n",
    "    def __init__(self,name):\n",
    "        self.name = name\n",
    "    def show(self):\n",
    "        print(\"Name = \",self.name)"
   ]
  },
  {
   "cell_type": "code",
   "execution_count": 33,
   "metadata": {},
   "outputs": [
    {
     "name": "stdout",
     "output_type": "stream",
     "text": [
      "Sachin\n",
      "\n",
      "Yadav\n"
     ]
    }
   ],
   "source": [
    "obj1 = A('Sachin')\n",
    "obj2 = A('Yadav')\n",
    "print(obj1.name)\n",
    "print()\n",
    "print(obj2.name)"
   ]
  },
  {
   "cell_type": "code",
   "execution_count": 35,
   "metadata": {},
   "outputs": [
    {
     "name": "stdout",
     "output_type": "stream",
     "text": [
      "10\n",
      "20\n"
     ]
    }
   ],
   "source": [
    "print(obj1.x)\n",
    "print(obj1._y)\n"
   ]
  },
  {
   "cell_type": "code",
   "execution_count": 36,
   "metadata": {},
   "outputs": [
    {
     "ename": "AttributeError",
     "evalue": "'A' object has no attribute '__z'",
     "output_type": "error",
     "traceback": [
      "\u001b[1;31m---------------------------------------------------------------------------\u001b[0m",
      "\u001b[1;31mAttributeError\u001b[0m                            Traceback (most recent call last)",
      "\u001b[1;32m<ipython-input-36-984107b331be>\u001b[0m in \u001b[0;36m<module>\u001b[1;34m()\u001b[0m\n\u001b[1;32m----> 1\u001b[1;33m \u001b[0mobj1\u001b[0m\u001b[1;33m.\u001b[0m\u001b[0m__z\u001b[0m   \u001b[1;31m#will show an error because private variables are not accessible\u001b[0m\u001b[1;33m\u001b[0m\u001b[0m\n\u001b[0m",
      "\u001b[1;31mAttributeError\u001b[0m: 'A' object has no attribute '__z'"
     ]
    }
   ],
   "source": [
    "obj1.__z   #will show an error because private variables are not accessible"
   ]
  },
  {
   "cell_type": "code",
   "execution_count": 37,
   "metadata": {
    "collapsed": true
   },
   "outputs": [],
   "source": [
    "#we can then also access private variable by a method called name mangling\n",
    "#In Python, mangling is used for \"private\" class members which are designated as such by giving them a name with two \n",
    "#leading underscores and no more than one trailing underscore."
   ]
  },
  {
   "cell_type": "code",
   "execution_count": 39,
   "metadata": {},
   "outputs": [
    {
     "name": "stdout",
     "output_type": "stream",
     "text": [
      "{'__module__': '__main__', 'x': 10, '_y': 20, '_A__z': 30, '__init__': <function A.__init__ at 0x03A3FDF8>, 'show': <function A.show at 0x03A3F6A8>, '__dict__': <attribute '__dict__' of 'A' objects>, '__weakref__': <attribute '__weakref__' of 'A' objects>, '__doc__': None}\n"
     ]
    }
   ],
   "source": [
    "print(A.__dict__)   #here the __z is changed into _A__z so we can access it through _A__z"
   ]
  },
  {
   "cell_type": "code",
   "execution_count": 41,
   "metadata": {},
   "outputs": [
    {
     "name": "stdout",
     "output_type": "stream",
     "text": [
      "30\n"
     ]
    }
   ],
   "source": [
    "print(obj1._A__z)"
   ]
  },
  {
   "cell_type": "code",
   "execution_count": 42,
   "metadata": {
    "collapsed": true
   },
   "outputs": [],
   "source": [
    "class MyClass:\n",
    "    x = 0\n",
    "    _y = 0\n",
    "    __z = 0\n",
    "    def __init__(self,x,y,z):\n",
    "        MyClass.x = x #these are class variable\n",
    "        MyClass._y = y #Shared Variables among all objects\n",
    "        MyClass.__z = z\n",
    "    def show(self,):\n",
    "        print(\"Class x = \",MyClass.x)\n",
    "        print(\"Class _y = \",MyClass._y)\n",
    "        print(\"Class __z = \",MyClass.__z)\n",
    "    def change(self,p,q,r):\n",
    "        MyClass.x = p\n",
    "        MyClass._y = q\n",
    "        MyClass.__z = r\n"
   ]
  },
  {
   "cell_type": "code",
   "execution_count": 43,
   "metadata": {},
   "outputs": [
    {
     "name": "stdout",
     "output_type": "stream",
     "text": [
      "True\n",
      "True\n",
      "False\n"
     ]
    }
   ],
   "source": [
    "x = hasattr(MyClass,'x')\n",
    "y = hasattr(MyClass,'_y')\n",
    "z = hasattr(MyClass,'__z')\n",
    "print(x)\n",
    "print(y)\n",
    "print(z)   #return false because variable name has been changed"
   ]
  },
  {
   "cell_type": "code",
   "execution_count": 23,
   "metadata": {},
   "outputs": [
    {
     "name": "stdout",
     "output_type": "stream",
     "text": [
      "Vector(4,5)\n",
      "Vector(6,7)\n",
      "Vector(10,12)\n",
      "All objects are of same Class Vector\n",
      "Vector(20,32)\n"
     ]
    }
   ],
   "source": [
    "class Vector:\n",
    "    \"\"\"This is doc-string\"\"\"\n",
    "    def __init__(self,real,img): #constructor\n",
    "        self.real = real\n",
    "        self.img = img\n",
    "    def __str__(self):  #to define the objects\n",
    "        return \"Vector({},{})\".format(self.real,self.img)\n",
    "    def __add__(self,obj):\n",
    "        return Vector(self.real+obj.real,self.img+obj.img)\n",
    "    \n",
    "one = Vector(4,5)\n",
    "print(one)\n",
    "two = Vector(6,7)\n",
    "print(two)\n",
    "three = one + two\n",
    "print(one+two)\n",
    "if dir(one) == dir(two) == dir(three) :   #check where all are of same class or not\n",
    "    print(\"All objects are of same Class Vector\")\n",
    "four = Vector(10,20)\n",
    "print(three+four)"
   ]
  },
  {
   "cell_type": "markdown",
   "metadata": {
    "collapsed": true
   },
   "source": [
    "# Inheritance "
   ]
  },
  {
   "cell_type": "markdown",
   "metadata": {},
   "source": [
    "1. You can create a class by deriving it from a preexisting class by listing the parent class in parentheses after the new class    name.\n",
    "\n",
    "2. The child class inherits the attributes of its parent class, and you can use those attributes as if they were defined in the    child class. A child class can also override data members and methods from the parent."
   ]
  },
  {
   "cell_type": "markdown",
   "metadata": {},
   "source": [
    "# syntax\n",
    "    #class BaseClass:\n",
    "      #Body of base class\n",
    "    #class DerivedClass(BaseClass):\n",
    "      #Body of derived class"
   ]
  },
  {
   "cell_type": "markdown",
   "metadata": {},
   "source": [
    "Derived class inherits features from the base class, adding new features to it. This results into re-usability of code.\n",
    "\n"
   ]
  },
  {
   "cell_type": "code",
   "execution_count": 2,
   "metadata": {
    "collapsed": true
   },
   "outputs": [],
   "source": [
    "class Person:\n",
    "    def entry(self,name,work):\n",
    "        self.name = name\n",
    "        self.work = work\n",
    "    def show(self):\n",
    "        print(\"Name = \",self.name)\n",
    "        print(\"Work = \",self.work)"
   ]
  },
  {
   "cell_type": "code",
   "execution_count": 5,
   "metadata": {},
   "outputs": [
    {
     "name": "stdout",
     "output_type": "stream",
     "text": [
      "Name =  Sachin\n",
      "Work =  teacher\n",
      "\n",
      "Name =  John\n",
      "Work =  dancer\n"
     ]
    }
   ],
   "source": [
    "p1 = Person()\n",
    "p2 = Person()\n",
    "p1.entry('Sachin','teacher')\n",
    "p2.entry('John','dancer')\n",
    "p1.show()\n",
    "print() \n",
    "p2.show()"
   ]
  },
  {
   "cell_type": "code",
   "execution_count": 6,
   "metadata": {
    "collapsed": true
   },
   "outputs": [],
   "source": [
    "class Human(Person):    #inherites class Person\n",
    "    def __init__(self,name,work):  \n",
    "        super().entry(name,work)    #call entry function of super-> base class i.e 'Person' with parameters passed during \n",
    "                                    #creating an instance"
   ]
  },
  {
   "cell_type": "code",
   "execution_count": 7,
   "metadata": {},
   "outputs": [
    {
     "name": "stdout",
     "output_type": "stream",
     "text": [
      "Name =  Sahil\n",
      "Work =  Dancer\n",
      "\n",
      "Name =  Sachin\n",
      "Work =  teacher\n"
     ]
    }
   ],
   "source": [
    "p1 = Human('Sahil','Dancer')\n",
    "p2 = Human('Sachin','teacher')\n",
    "p1.show()   #calls show() function of person class as human class inherits the person class\n",
    "print()\n",
    "p2.show()"
   ]
  },
  {
   "cell_type": "code",
   "execution_count": 11,
   "metadata": {
    "collapsed": true
   },
   "outputs": [],
   "source": [
    "class Polygon:\n",
    "    def __init__(self, no_of_sides):\n",
    "        self.n = no_of_sides \n",
    "        self.sides = [0 for i in range(no_of_sides)]   #initialize 0 for all sides\n",
    "\n",
    "    def inputsides(self):\n",
    "        self.sides = [float(input(\"Enter side \"+str(i+1)+\" : \")) for i in range(self.n)]  #take input for each side\n",
    "\n",
    "    def dispsides(self):    \n",
    "        for i in range(self.n):\n",
    "            print(\"Side\",i+1,\"is\",self.sides[i])    #display sides"
   ]
  },
  {
   "cell_type": "code",
   "execution_count": 12,
   "metadata": {},
   "outputs": [
    {
     "name": "stdout",
     "output_type": "stream",
     "text": [
      "Enter side 1 : 1\n",
      "Enter side 2 : 2\n",
      "Enter side 3 : 3\n",
      "Side 1 is 1.0\n",
      "Side 2 is 2.0\n",
      "Side 3 is 3.0\n",
      "Enter side 1 : 56\n",
      "Enter side 2 : 78\n"
     ]
    }
   ],
   "source": [
    "p1 = Polygon(3)\n",
    "p2 = Polygon(2)\n",
    "p1.inputsides()\n",
    "p1.dispsides()\n",
    "p2.inputsides()"
   ]
  },
  {
   "cell_type": "code",
   "execution_count": 15,
   "metadata": {
    "collapsed": true
   },
   "outputs": [],
   "source": [
    "class Triangle(Polygon):\n",
    "    def __init__(self):\n",
    "        Polygon.__init__(self,3) #calls the contructor of Polygon class with 3 sides  \n",
    "\n",
    "    def findarea(self):\n",
    "        a, b, c = self.sides\n",
    "        # calculate the semi-perimeter\n",
    "        s = (a + b + c) / 2\n",
    "        area = (s*(s-a)*(s-b)*(s-c)) ** 0.5\n",
    "        print('The area of the triangle is %0.2f' %area)"
   ]
  },
  {
   "cell_type": "code",
   "execution_count": 16,
   "metadata": {},
   "outputs": [
    {
     "name": "stdout",
     "output_type": "stream",
     "text": [
      "Enter side 1 : 5\n",
      "Enter side 2 : 6\n",
      "Enter side 3 : 7\n",
      "Side 1 is 5.0\n",
      "Side 2 is 6.0\n",
      "Side 3 is 7.0\n",
      "The area of the triangle is 14.70\n"
     ]
    }
   ],
   "source": [
    "p1 = Triangle()\n",
    "p1.inputsides()\n",
    "p1.dispsides()\n",
    "p1.findarea()"
   ]
  },
  {
   "cell_type": "code",
   "execution_count": 17,
   "metadata": {},
   "outputs": [
    {
     "name": "stdout",
     "output_type": "stream",
     "text": [
      "I am Parent 2\n"
     ]
    }
   ],
   "source": [
    "class P1:\n",
    "    def show(self):\n",
    "        print(\"I am Parent 1\")\n",
    "class P2:\n",
    "    def show(self):\n",
    "        print(\"I am Parent 2\")\n",
    "class c(P2,P1):\n",
    "    pass\n",
    "obj = c()\n",
    "obj.show()   #both classes have show function so the order of inheritance in c will decide that shich 'show()' will be called\n",
    "             #its order is from left->right"
   ]
  },
  {
   "cell_type": "code",
   "execution_count": 18,
   "metadata": {
    "collapsed": true
   },
   "outputs": [],
   "source": [
    "class Car(object):\n",
    "    \"\"\"Hi This is Car Class\"\"\"\n",
    "    name = \"CAR\"\n",
    "    def __init__(self,model,brand,color):\n",
    "        self.model = model\n",
    "        self.brand = brand\n",
    "        self.color = color\n",
    "    def show(self):\n",
    "        print(\"Brand = \",self.brand)\n",
    "        print(\"Model = \",self.model)\n",
    "        print(\"Color = \",self.color)\n",
    "    def change(self,brand,color,model):\n",
    "        self.brand = brand\n",
    "        self.color = color\n",
    "        self.model = model\n",
    "    def __str__(self):\n",
    "        return \"Hi I am {}\".format(self.name)\n",
    "    "
   ]
  },
  {
   "cell_type": "code",
   "execution_count": 20,
   "metadata": {},
   "outputs": [
    {
     "name": "stdout",
     "output_type": "stream",
     "text": [
      "Brand =  TATA\n",
      "Model =  2018\n",
      "Color =  red\n",
      "\n",
      "Brand =  Maruti\n",
      "Model =  2016\n",
      "Color =  white\n"
     ]
    }
   ],
   "source": [
    "nano = Car(2018,'TATA','red')\n",
    "swift = Car(2016,'Maruti','white')\n",
    "\n",
    "nano.show()\n",
    "print()\n",
    "swift.show()"
   ]
  },
  {
   "cell_type": "code",
   "execution_count": 21,
   "metadata": {},
   "outputs": [
    {
     "name": "stdout",
     "output_type": "stream",
     "text": [
      "Brand =  Maruti\n",
      "Model =  2017\n",
      "Color =  green\n"
     ]
    }
   ],
   "source": [
    "nano.change('Maruti','green',2017)\n",
    "nano.show()"
   ]
  },
  {
   "cell_type": "code",
   "execution_count": 22,
   "metadata": {},
   "outputs": [
    {
     "name": "stdout",
     "output_type": "stream",
     "text": [
      "Hi I am CAR\n",
      "Hi I am CAR\n"
     ]
    }
   ],
   "source": [
    "print(nano)\n",
    "print(swift)"
   ]
  },
  {
   "cell_type": "code",
   "execution_count": 23,
   "metadata": {},
   "outputs": [
    {
     "name": "stdout",
     "output_type": "stream",
     "text": [
      "['__class__', '__delattr__', '__dict__', '__dir__', '__doc__', '__eq__', '__format__', '__ge__', '__getattribute__', '__gt__', '__hash__', '__init__', '__init_subclass__', '__le__', '__lt__', '__module__', '__ne__', '__new__', '__reduce__', '__reduce_ex__', '__repr__', '__setattr__', '__sizeof__', '__str__', '__subclasshook__', '__weakref__', 'brand', 'change', 'color', 'model', 'name', 'show']\n"
     ]
    }
   ],
   "source": [
    "print(dir(nano))"
   ]
  },
  {
   "cell_type": "code",
   "execution_count": 24,
   "metadata": {},
   "outputs": [
    {
     "data": {
      "text/plain": [
       "{'brand': 'Maruti', 'color': 'green', 'model': 2017}"
      ]
     },
     "execution_count": 24,
     "metadata": {},
     "output_type": "execute_result"
    }
   ],
   "source": [
    "nano.__dict__"
   ]
  },
  {
   "cell_type": "code",
   "execution_count": 25,
   "metadata": {
    "collapsed": true
   },
   "outputs": [],
   "source": [
    "import time\n",
    "class NewCar(Car):\n",
    "    def __init__(self,brand,model,color,name,speed,gear):   #inherit some extra features and add some new features\n",
    "        Car.__init__(self,model,brand,color)\n",
    "        self.name = name\n",
    "        self.speed = speed\n",
    "        self.gear = gear\n",
    "    def show(self):\n",
    "        print(\"Name = \",self.name)\n",
    "        Car.show(self)\n",
    "        print(\"Speed = \",self.speed)\n",
    "        print(\"Gears = \",self.gear)\n",
    "    def __str__(self):\n",
    "        return \"HI I am {}\".format(self.name)\n",
    "    def __del__(self):\n",
    "        print(\"Deleting \",self.name)\n",
    "        time.sleep(2)\n",
    "        print(\"Deleting \",self.brand)\n",
    "        time.sleep(2)\n",
    "        print(\"Deleting \",self.model)\n",
    "        del self   #delete all attributes of an object"
   ]
  },
  {
   "cell_type": "code",
   "execution_count": 28,
   "metadata": {},
   "outputs": [
    {
     "name": "stdout",
     "output_type": "stream",
     "text": [
      "Deleting  nano123\n",
      "Deleting  TATA\n",
      "Deleting  1999\n",
      "Deleting  swift desire\n",
      "Deleting  Maruti\n",
      "Deleting  2006\n",
      "Name =  nano123\n",
      "Brand =  TATA\n",
      "Model =  1999\n",
      "Color =  blue\n",
      "Speed =  80kmph\n",
      "Gears =  4\n",
      "\n",
      "Name =  swift desire\n",
      "Brand =  Maruti\n",
      "Model =  2006\n",
      "Color =  white\n",
      "Speed =  120kmph\n",
      "Gears =  5\n"
     ]
    }
   ],
   "source": [
    "nano = NewCar('TATA',1999,'blue','nano123','80kmph',4)\n",
    "swift = NewCar('Maruti',2006,'white','swift desire','120kmph',5)\n",
    "\n",
    "nano.show()\n",
    "print()\n",
    "swift.show()"
   ]
  },
  {
   "cell_type": "code",
   "execution_count": 29,
   "metadata": {},
   "outputs": [
    {
     "name": "stdout",
     "output_type": "stream",
     "text": [
      "Deleting  nano123\n",
      "Deleting  TATA\n",
      "Deleting  1999\n",
      "Deleting  swift desire\n",
      "Deleting  Maruti\n",
      "Deleting  2006\n"
     ]
    }
   ],
   "source": [
    "del nano\n",
    "del swift"
   ]
  },
  {
   "cell_type": "code",
   "execution_count": 31,
   "metadata": {},
   "outputs": [
    {
     "ename": "NameError",
     "evalue": "name 'nano' is not defined",
     "output_type": "error",
     "traceback": [
      "\u001b[1;31m---------------------------------------------------------------------------\u001b[0m",
      "\u001b[1;31mNameError\u001b[0m                                 Traceback (most recent call last)",
      "\u001b[1;32m<ipython-input-31-ac1b81b29283>\u001b[0m in \u001b[0;36m<module>\u001b[1;34m()\u001b[0m\n\u001b[1;32m----> 1\u001b[1;33m \u001b[0mnano\u001b[0m\u001b[1;33m.\u001b[0m\u001b[0mshow\u001b[0m \u001b[1;33m(\u001b[0m\u001b[1;33m)\u001b[0m   \u001b[1;31m#because nano doesnt exist anymore\u001b[0m\u001b[1;33m\u001b[0m\u001b[0m\n\u001b[0m",
      "\u001b[1;31mNameError\u001b[0m: name 'nano' is not defined"
     ]
    }
   ],
   "source": [
    "nano.show ()   #because nano doesnt exist anymore"
   ]
  },
  {
   "cell_type": "markdown",
   "metadata": {},
   "source": [
    "# Operator Overloading"
   ]
  },
  {
   "cell_type": "markdown",
   "metadata": {},
   "source": [
    "1. Python operators work for built-in classes. But same operator behaves differently with different types. For example, the +      operator will, perform arithmetic addition on two numbers, merge two lists and concatenate two strings.\n",
    "\n",
    "2. This feature in Python, that allows same operator to have different meaning according to the context is called operator          overloading."
   ]
  },
  {
   "cell_type": "code",
   "execution_count": 47,
   "metadata": {
    "collapsed": true
   },
   "outputs": [],
   "source": [
    "class comp :\n",
    "    def __init__(self,x,y):\n",
    "        self.real = x\n",
    "        self.image = y \n",
    "    def __str__(self):\n",
    "        return '{}+{}j'.format(self.real,self.image)\n",
    "    def __add__(self,ob2):\n",
    "        x = self.real + ob2.real\n",
    "        y = self.image + ob2.image\n",
    "        return comp(x,y)\n",
    "        "
   ]
  },
  {
   "cell_type": "code",
   "execution_count": 48,
   "metadata": {},
   "outputs": [
    {
     "name": "stdout",
     "output_type": "stream",
     "text": [
      "5+8j\n",
      "16+3j\n",
      "\n",
      "21+11j\n"
     ]
    }
   ],
   "source": [
    "c1 = comp(5,8)\n",
    "c2  = comp(16,3)\n",
    "print(c1)\n",
    "print(c2)\n",
    "print()\n",
    "x = c1 + c2\n",
    "print(x)"
   ]
  },
  {
   "cell_type": "markdown",
   "metadata": {},
   "source": [
    "           Operator\t              Expression\t       Internally\n",
    "        1. Addition\t               p1 + p2\t          p1.__add__(p2)\n",
    "        2. Subtraction\t           p1 - p2\t          p1.__sub__(p2)\n",
    "        3. Multiplication\t       p1 * p2\t          p1.__mul__(p2)\n",
    "        4. Power\t               p1 ** p2\t          p1.__pow__(p2)\n",
    "        5. Division\t               p1 / p2\t          p1.__truediv__(p2)\n",
    "        6. Floor Division\t       p1 // p2\t          p1.__floordiv__(p2)\n",
    "        7. Remainder (modulo)\t   p1 % p2\t          p1.__mod__(p2)\n",
    "        8. Bitwise Left Shift\t   p1 << p2\t          p1.__lshift__(p2)\n",
    "        9. Bitwise Right Shift\t   p1 >> p2\t          p1.__rshift__(p2)\n",
    "        10. Bitwise AND\t           p1 & p2\t          p1.__and__(p2)\n",
    "        11. Bitwise OR\t           p1 | p2\t          p1.__or__(p2)\n",
    "        12. Bitwise XOR\t           p1 ^ p2\t          p1.__xor__(p2)"
   ]
  },
  {
   "cell_type": "markdown",
   "metadata": {},
   "source": [
    "# Overloading Comparison Operators in Python"
   ]
  },
  {
   "cell_type": "markdown",
   "metadata": {},
   "source": [
    "Python does not limit operator overloading to arithmetic operators only. We can overload comparison operators as well."
   ]
  },
  {
   "cell_type": "code",
   "execution_count": 50,
   "metadata": {
    "collapsed": true
   },
   "outputs": [],
   "source": [
    "#Let us compare the magnitude of these points from the origin and return the result for this purpose.\n",
    "class Point:\n",
    "    def __init__(self, x = 0, y = 0):\n",
    "        self.x = x\n",
    "        self.y = y\n",
    "    \n",
    "    def __str__(self):\n",
    "        return \"({},{})\".format(self.x,self.y)\n",
    "    \n",
    "    def __lt__(self,other):\n",
    "        self_mag = (self.x ** 2) + (self.y ** 2)\n",
    "        other_mag = (other.x ** 2) + (other.y ** 2)\n",
    "        return self_mag < other_mag"
   ]
  },
  {
   "cell_type": "code",
   "execution_count": 51,
   "metadata": {
    "collapsed": true
   },
   "outputs": [],
   "source": [
    "p1 = Point(1,1)\n",
    "p2 = Point(-2,-3)"
   ]
  },
  {
   "cell_type": "code",
   "execution_count": 52,
   "metadata": {},
   "outputs": [
    {
     "data": {
      "text/plain": [
       "True"
      ]
     },
     "execution_count": 52,
     "metadata": {},
     "output_type": "execute_result"
    }
   ],
   "source": [
    "p1 < p2"
   ]
  },
  {
   "cell_type": "markdown",
   "metadata": {},
   "source": [
    "            Operator\t           Expression\t          Internally\n",
    "            Less than\t            p1 < p2\t             p1.__lt__(p2)\n",
    "       Less than or equal to\t    p1 <= p2\t         p1.__le__(p2)\n",
    "            Equal to                p1 == p2\t         p1.__eq__(p2)\n",
    "            Not equal to\t        p1 != p2\t         p1.__ne__(p2)\n",
    "            Greater than\t        p1 > p2\t             p1.__gt__(p2)\n",
    "        Greater than or equal to\tp1 >= p2\t         p1.__ge__(p2)"
   ]
  },
  {
   "cell_type": "code",
   "execution_count": null,
   "metadata": {
    "collapsed": true
   },
   "outputs": [],
   "source": []
  }
 ],
 "metadata": {
  "kernelspec": {
   "display_name": "Python 3",
   "language": "python",
   "name": "python3"
  },
  "language_info": {
   "codemirror_mode": {
    "name": "ipython",
    "version": 3
   },
   "file_extension": ".py",
   "mimetype": "text/x-python",
   "name": "python",
   "nbconvert_exporter": "python",
   "pygments_lexer": "ipython3",
   "version": "3.6.3"
  }
 },
 "nbformat": 4,
 "nbformat_minor": 2
}
